{
 "cells": [
  {
   "cell_type": "code",
   "execution_count": 3,
   "id": "10e01304-0cca-4e73-a471-af803e0f3ea6",
   "metadata": {},
   "outputs": [],
   "source": [
    "# Statistical analysis using Pandas in Python\n",
    "import pandas as pd\n",
    "#Sample Data: - \n",
    "data = {'Age':[25,30,35,40,29], 'Salary': [50000,60000,70000,80000,62000]}\n",
    "df = pd.DataFrame(data)"
   ]
  },
  {
   "cell_type": "markdown",
   "id": "4f869217-1437-4ed9-9bca-59393a397227",
   "metadata": {},
   "source": [
    "#### Descriptive Stats"
   ]
  },
  {
   "cell_type": "code",
   "execution_count": 8,
   "id": "b603032c-3741-44f4-8e76-984934af3c07",
   "metadata": {},
   "outputs": [
    {
     "name": "stdout",
     "output_type": "stream",
     "text": [
      "            Age        Salary\n",
      "count   5.00000      5.000000\n",
      "mean   31.80000  64400.000000\n",
      "std     5.80517  11260.550608\n",
      "min    25.00000  50000.000000\n",
      "25%    29.00000  60000.000000\n",
      "50%    30.00000  62000.000000\n",
      "75%    35.00000  70000.000000\n",
      "max    40.00000  80000.000000\n"
     ]
    }
   ],
   "source": [
    "print(df.describe())"
   ]
  },
  {
   "cell_type": "code",
   "execution_count": 20,
   "id": "9004aebf-c1e3-440e-b042-42e687f15370",
   "metadata": {},
   "outputs": [
    {
     "name": "stdout",
     "output_type": "stream",
     "text": [
      "Mean Age: 31.8\n",
      "Median Age: 30.0\n",
      "Mode Age: 25\n"
     ]
    }
   ],
   "source": [
    "#Mean, Median & Mode for Age: - \n",
    "print(\"Mean Age:\",df['Age'].mean())\n",
    "print(\"Median Age:\",df['Age'].median())\n",
    "print(\"Mode Age:\",df['Age'].mode()[0])"
   ]
  },
  {
   "cell_type": "code",
   "execution_count": 24,
   "id": "7716c61a-f441-456b-8350-e092a28a73df",
   "metadata": {},
   "outputs": [
    {
     "name": "stdout",
     "output_type": "stream",
     "text": [
      "Age Variance: 33.7\n",
      "Salary Standard Deviation: 11260.550608207397\n"
     ]
    }
   ],
   "source": [
    "#Variance & Standard Deviation: -\n",
    "print(\"Age Variance:\",df['Age'].var())\n",
    "print(\"Salary Standard Deviation:\",df['Salary'].std())"
   ]
  },
  {
   "cell_type": "code",
   "execution_count": 34,
   "id": "21fba13c-01e8-40ad-85dd-d59b0209f292",
   "metadata": {},
   "outputs": [
    {
     "name": "stdout",
     "output_type": "stream",
     "text": [
      "Unique Gender: ['Male' 'Female']\n",
      "Gender Counts: Gender\n",
      "Male      2\n",
      "Female    2\n",
      "Name: count, dtype: int64\n"
     ]
    }
   ],
   "source": [
    "#unique Values & gender counts: - \n",
    "df_1 = {'Gender':['Male','Female','Male','Female'], 'Age':[25,22,24,29]}\n",
    "data_1 = pd.DataFrame(df_1)\n",
    "print(\"Unique Gender:\", data_1['Gender'].unique())\n",
    "print(\"Gender Counts:\", data_1['Gender'].value_counts())"
   ]
  },
  {
   "cell_type": "code",
   "execution_count": 44,
   "id": "ef393138-2472-436d-8370-d9937d81d0db",
   "metadata": {},
   "outputs": [
    {
     "name": "stdout",
     "output_type": "stream",
     "text": [
      "Gender\n",
      "Female    25.5\n",
      "Male      24.5\n",
      "Name: Age, dtype: float64\n"
     ]
    }
   ],
   "source": [
    "# **Grouping the values in pandas df: - df.groupby(categorical variable)[Scalar Var.].summarization())\n",
    "print(data_1.groupby('Gender')['Age'].median())"
   ]
  },
  {
   "cell_type": "code",
   "execution_count": 52,
   "id": "7f6d2c30-6f22-429f-8a3a-e8c0a97fb7a4",
   "metadata": {},
   "outputs": [
    {
     "data": {
      "text/plain": [
       "0    0.000000\n",
       "1   -1.176697\n",
       "2   -0.392232\n",
       "3    1.568929\n",
       "Name: Age, dtype: float64"
      ]
     },
     "execution_count": 52,
     "metadata": {},
     "output_type": "execute_result"
    }
   ],
   "source": [
    "# Z Score (Standardization): - Calculates how far each data point is from the mean, in terms stdev.\n",
    "from scipy.stats import zscore\n",
    "zscore(data_1['Age'])"
   ]
  },
  {
   "cell_type": "code",
   "execution_count": 64,
   "id": "2ab5cd5f-29e1-44d0-ab53-e82bff5bd5b8",
   "metadata": {},
   "outputs": [
    {
     "name": "stdout",
     "output_type": "stream",
     "text": [
      "Gender      Female    Male\n",
      "Department                \n",
      "HR           70000  112000\n",
      "IT           60000   60000\n"
     ]
    }
   ],
   "source": [
    "# Pivot Tables: -\n",
    "data = {'Department':['HR','IT','HR','IT','HR'], 'Gender': ['Male','Female','Female','Male','Male'], 'Salary': [50000,60000,70000,60000,62000]}\n",
    "df=pd.DataFrame(data)\n",
    "pivot = df.pivot_table(values ='Salary', index='Department',columns = 'Gender', aggfunc='sum')\n",
    "print(pivot)"
   ]
  },
  {
   "cell_type": "code",
   "execution_count": 66,
   "id": "0909e07d-e842-41c5-85dc-07cac019be16",
   "metadata": {},
   "outputs": [
    {
     "data": {
      "text/html": [
       "<div>\n",
       "<style scoped>\n",
       "    .dataframe tbody tr th:only-of-type {\n",
       "        vertical-align: middle;\n",
       "    }\n",
       "\n",
       "    .dataframe tbody tr th {\n",
       "        vertical-align: top;\n",
       "    }\n",
       "\n",
       "    .dataframe thead th {\n",
       "        text-align: right;\n",
       "    }\n",
       "</style>\n",
       "<table border=\"1\" class=\"dataframe\">\n",
       "  <thead>\n",
       "    <tr style=\"text-align: right;\">\n",
       "      <th></th>\n",
       "      <th>Department</th>\n",
       "      <th>Gender</th>\n",
       "      <th>Salary</th>\n",
       "    </tr>\n",
       "  </thead>\n",
       "  <tbody>\n",
       "    <tr>\n",
       "      <th>0</th>\n",
       "      <td>HR</td>\n",
       "      <td>Male</td>\n",
       "      <td>50000</td>\n",
       "    </tr>\n",
       "    <tr>\n",
       "      <th>1</th>\n",
       "      <td>IT</td>\n",
       "      <td>Female</td>\n",
       "      <td>60000</td>\n",
       "    </tr>\n",
       "    <tr>\n",
       "      <th>2</th>\n",
       "      <td>HR</td>\n",
       "      <td>Female</td>\n",
       "      <td>70000</td>\n",
       "    </tr>\n",
       "    <tr>\n",
       "      <th>3</th>\n",
       "      <td>IT</td>\n",
       "      <td>Male</td>\n",
       "      <td>60000</td>\n",
       "    </tr>\n",
       "    <tr>\n",
       "      <th>4</th>\n",
       "      <td>HR</td>\n",
       "      <td>Male</td>\n",
       "      <td>62000</td>\n",
       "    </tr>\n",
       "  </tbody>\n",
       "</table>\n",
       "</div>"
      ],
      "text/plain": [
       "  Department  Gender  Salary\n",
       "0         HR    Male   50000\n",
       "1         IT  Female   60000\n",
       "2         HR  Female   70000\n",
       "3         IT    Male   60000\n",
       "4         HR    Male   62000"
      ]
     },
     "execution_count": 66,
     "metadata": {},
     "output_type": "execute_result"
    }
   ],
   "source": [
    "df"
   ]
  },
  {
   "cell_type": "code",
   "execution_count": 68,
   "id": "29016f36-1355-4c88-8ebf-0b2b3fc601a2",
   "metadata": {},
   "outputs": [],
   "source": [
    "import matplotlib.pyplot as plt\n",
    "%matplotlib inline"
   ]
  },
  {
   "cell_type": "code",
   "execution_count": 70,
   "id": "31ba061c-b539-4583-83cb-06fe06659f35",
   "metadata": {},
   "outputs": [
    {
     "data": {
      "image/png": "[encoded data removed]",
      "text/plain": [
       "<Figure size 640x480 with 1 Axes>"
      ]
     },
     "metadata": {},
     "output_type": "display_data"
    }
   ],
   "source": [
    "#Histogram: - \n",
    "df['Salary'].hist()\n",
    "plt.title('Salary Distribution')\n",
    "plt.xlabel('Salary')\n",
    "plt.ylabel('Frequency')\n",
    "plt.show()"
   ]
  },
  {
   "cell_type": "code",
   "execution_count": 74,
   "id": "db6904ae-54e5-4652-b88d-a52271e50bc1",
   "metadata": {},
   "outputs": [
    {
     "data": {
      "image/png": "[encoded data removed]",
      "text/plain": [
       "<Figure size 640x480 with 1 Axes>"
      ]
     },
     "metadata": {},
     "output_type": "display_data"
    }
   ],
   "source": [
    "#Boxplot: - \n",
    "df.boxplot(column='Salary', by='Gender')\n",
    "plt.title('Salary by Gender')\n",
    "plt.suptitle(\"Genderwise Calcs.\")\n",
    "plt.show()"
   ]
  },
  {
   "cell_type": "markdown",
   "id": "43a7c6be-39a6-44bb-95f2-5635579235f0",
   "metadata": {},
   "source": [
    "### Lambda Function in Python: -"
   ]
  },
  {
   "cell_type": "raw",
   "id": "7156b593-c23a-4647-8604-fac20f484a42",
   "metadata": {},
   "source": [
    "This function in Python is a small defined function with the lambda keyword. It can have multiple arguments but only a single expression.\n",
    "Syntax: - lambda arguments: expression"
   ]
  },
  {
   "cell_type": "code",
   "execution_count": 10,
   "id": "16ef13d2-d91c-4397-ba4e-221978c3dabf",
   "metadata": {},
   "outputs": [],
   "source": [
    "#Lambda function to double a number\n",
    "double = lambda x: x**2"
   ]
  },
  {
   "cell_type": "code",
   "execution_count": 16,
   "id": "1f8655ad-372a-4f38-8b45-1d3c6b05060a",
   "metadata": {},
   "outputs": [
    {
     "name": "stdin",
     "output_type": "stream",
     "text": [
      "Enter the number:  7\n"
     ]
    },
    {
     "name": "stdout",
     "output_type": "stream",
     "text": [
      "The result is:  49\n"
     ]
    }
   ],
   "source": [
    "#using the lambda function: - \n",
    "result = double(int(input(\"Enter the number: \")))\n",
    "print(\"The result is: \",result)"
   ]
  },
  {
   "cell_type": "code",
   "execution_count": 30,
   "id": "c9bd365e-130b-49a9-8e9a-0e7324f9eb6e",
   "metadata": {},
   "outputs": [
    {
     "name": "stdout",
     "output_type": "stream",
     "text": [
      "[1, 4, 9, 16, 25]\n"
     ]
    }
   ],
   "source": [
    "# list of numbers: - \n",
    "numbers = [1,2,3,4,5]\n",
    "#squaring each number using lambda and map\n",
    "squared_numbers = list(map(lambda x: x**2, numbers))\n",
    "print(squared_numbers)"
   ]
  },
  {
   "cell_type": "code",
   "execution_count": 32,
   "id": "b3153ad5-c232-4ebc-8a1e-3fc1fc440b6a",
   "metadata": {},
   "outputs": [
    {
     "name": "stdout",
     "output_type": "stream",
     "text": [
      "[2, 4]\n"
     ]
    }
   ],
   "source": [
    "#even numbers print: - \n",
    "even_numbers = list(filter(lambda x:x%2 == 0, numbers))\n",
    "print(even_numbers)"
   ]
  },
  {
   "cell_type": "code",
   "execution_count": 34,
   "id": "7097ff26-664c-43ba-ba19-519c4e976710",
   "metadata": {},
   "outputs": [
    {
     "name": "stdout",
     "output_type": "stream",
     "text": [
      "25\n"
     ]
    }
   ],
   "source": [
    "# WAP to print the addition of 2 numbers using lambda function: - \n",
    "add = lambda x,y:x+y\n",
    "result= add(10,15)\n",
    "print(result)"
   ]
  },
  {
   "cell_type": "code",
   "execution_count": 40,
   "id": "e498ceac-bb1a-4e94-9f46-9197f9ae1041",
   "metadata": {},
   "outputs": [
    {
     "name": "stdout",
     "output_type": "stream",
     "text": [
      "[5, 6, 6]\n"
     ]
    }
   ],
   "source": [
    "#WAP to calculate the length of the strings enclosed in a list using lambda function: -\n",
    "words = ['apple','banana','cherry']\n",
    "lengths = list(map(lambda x:len(x),words))\n",
    "print(lengths)"
   ]
  },
  {
   "cell_type": "code",
   "execution_count": 44,
   "id": "0a8f9162-7b39-41de-b358-b1ff81e3a632",
   "metadata": {},
   "outputs": [
    {
     "name": "stdout",
     "output_type": "stream",
     "text": [
      "[6, 8, 10, 12]\n"
     ]
    }
   ],
   "source": [
    "#WAP to add the integers persent in 2 lists with one another\n",
    "#Syntax: - lambda arguments: expression\n",
    "list1 = [1,2,3,4]\n",
    "list2 = [5,6,7,8]\n",
    "result  = list(map(lambda x,y:x+y,list1,list2))\n",
    "print(result)"
   ]
  },
  {
   "cell_type": "code",
   "execution_count": null,
   "id": "de6fb201-e6e5-4494-94b2-6538972e6a38",
   "metadata": {},
   "outputs": [],
   "source": []
  }
 ],
 "metadata": {
  "kernelspec": {
   "display_name": "Python 3 (ipykernel)",
   "language": "python",
   "name": "python3"
  },
  "language_info": {
   "codemirror_mode": {
    "name": "ipython",
    "version": 3
   },
   "file_extension": ".py",
   "mimetype": "text/x-python",
   "name": "python",
   "nbconvert_exporter": "python",
   "pygments_lexer": "ipython3",
   "version": "3.12.4"
  }
 },
 "nbformat": 4,
 "nbformat_minor": 5
}

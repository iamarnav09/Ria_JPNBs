{
 "cells": [
  {
   "cell_type": "code",
   "execution_count": 1,
   "id": "641939be-8cf5-40db-b431-0073b7f29283",
   "metadata": {},
   "outputs": [
    {
     "data": {
      "text/plain": [
       "2"
      ]
     },
     "execution_count": 1,
     "metadata": {},
     "output_type": "execute_result"
    }
   ],
   "source": [
    "30%4"
   ]
  },
  {
   "cell_type": "code",
   "execution_count": 3,
   "id": "a66e04bc-2456-4ac8-b27b-a28e435df0c0",
   "metadata": {},
   "outputs": [
    {
     "name": "stdout",
     "output_type": "stream",
     "text": [
      "0\n",
      "9\n",
      "18\n",
      "27\n",
      "36\n",
      "45\n",
      "54\n",
      "63\n",
      "72\n",
      "81\n",
      "90\n",
      "99\n"
     ]
    }
   ],
   "source": [
    "#I want to print the numbers from 0 to 100 that are exactly divisible by 9\n",
    "#for loop, range function and if statement - \n",
    "for z in range(0,101):\n",
    "    if z%9 == 0:\n",
    "        print(z)"
   ]
  },
  {
   "cell_type": "code",
   "execution_count": 5,
   "id": "a590b2c4-779e-4a09-a8ad-ba93acd82544",
   "metadata": {},
   "outputs": [
    {
     "data": {
      "text/plain": [
       "6"
      ]
     },
     "execution_count": 5,
     "metadata": {},
     "output_type": "execute_result"
    }
   ],
   "source": [
    "#// : - Divisor\n",
    "#% : - Remainder\n",
    "30//5"
   ]
  },
  {
   "cell_type": "code",
   "execution_count": null,
   "id": "28ad451d-644b-4cb4-a5cc-a24f522e9396",
   "metadata": {},
   "outputs": [],
   "source": []
  }
 ],
 "metadata": {
  "kernelspec": {
   "display_name": "Python 3 (ipykernel)",
   "language": "python",
   "name": "python3"
  },
  "language_info": {
   "codemirror_mode": {
    "name": "ipython",
    "version": 3
   },
   "file_extension": ".py",
   "mimetype": "text/x-python",
   "name": "python",
   "nbconvert_exporter": "python",
   "pygments_lexer": "ipython3",
   "version": "3.12.4"
  }
 },
 "nbformat": 4,
 "nbformat_minor": 5
}

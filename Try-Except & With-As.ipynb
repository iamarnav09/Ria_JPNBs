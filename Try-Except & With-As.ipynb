{
 "cells": [
  {
   "cell_type": "code",
   "execution_count": 3,
   "id": "ab7f2565-b486-496c-bf75-e25cdf0e3bc0",
   "metadata": {},
   "outputs": [],
   "source": [
    "#try, except & with statements\n",
    "\n",
    "#--- try goes in the combination with except. (try - except)\n",
    "\n",
    "#--- with goes in the combination with as. (with - as)"
   ]
  },
  {
   "cell_type": "markdown",
   "id": "f8c6eeaa-0dc4-4e99-bdaf-ee0d3dff1fa2",
   "metadata": {},
   "source": [
    "### Try - Except Statements"
   ]
  },
  {
   "cell_type": "code",
   "execution_count": 18,
   "id": "8a0970b9-7a02-4379-8184-3559b6f2c00e",
   "metadata": {},
   "outputs": [
    {
     "name": "stdout",
     "output_type": "stream",
     "text": [
      "You can't divide by zero!\n"
     ]
    }
   ],
   "source": [
    "try: \n",
    "    result = 10/0\n",
    "except:\n",
    "  print(\"You can't divide by zero!\")"
   ]
  },
  {
   "cell_type": "code",
   "execution_count": 26,
   "id": "1e32de09-d544-4b76-8cc4-8c7330b62fe5",
   "metadata": {},
   "outputs": [
    {
     "name": "stdin",
     "output_type": "stream",
     "text": [
      "Enter a number 45\n"
     ]
    }
   ],
   "source": [
    "try: \n",
    "    number = int(input(\"Enter a number\"))\n",
    "except:\n",
    "    print(\"That is not a valid number\")"
   ]
  },
  {
   "cell_type": "code",
   "execution_count": 40,
   "id": "dd731b58-f930-4ec7-bf2a-44cfdbe63578",
   "metadata": {},
   "outputs": [
    {
     "name": "stdout",
     "output_type": "stream",
     "text": [
      "An error occured: invalid literal for int() with base 10: 'abc'\n"
     ]
    }
   ],
   "source": [
    "#Multiple Exceptions: \n",
    "try: \n",
    "    value = int(\"abc\")\n",
    "    result = 10/2\n",
    "except (ValueError,ZeroDivisionError) as e:\n",
    "    print(f\"An error occured: {e}\")"
   ]
  },
  {
   "cell_type": "code",
   "execution_count": 56,
   "id": "5af814cb-6d3b-4dd1-bfdd-def74e63f19a",
   "metadata": {},
   "outputs": [
    {
     "name": "stdout",
     "output_type": "stream",
     "text": [
      "Attempt1: Division by zero. Retrying....\n",
      "Attempt2: Division by zero. Retrying....\n",
      "Attempt3: Division by zero. Retrying....\n"
     ]
    }
   ],
   "source": [
    "import time\n",
    "for i in range(3):\n",
    "    try:\n",
    "        result = 10/0\n",
    "    except ZeroDivisionError:\n",
    "        print(f\"Attempt{i+1}: Division by zero. Retrying....\")\n",
    "        time.sleep(0.5)\n",
    "    else:\n",
    "        break"
   ]
  },
  {
   "cell_type": "code",
   "execution_count": null,
   "id": "5665c9be-332a-431a-ad50-591014787b37",
   "metadata": {},
   "outputs": [],
   "source": []
  }
 ],
 "metadata": {
  "kernelspec": {
   "display_name": "Python 3 (ipykernel)",
   "language": "python",
   "name": "python3"
  },
  "language_info": {
   "codemirror_mode": {
    "name": "ipython",
    "version": 3
   },
   "file_extension": ".py",
   "mimetype": "text/x-python",
   "name": "python",
   "nbconvert_exporter": "python",
   "pygments_lexer": "ipython3",
   "version": "3.12.4"
  }
 },
 "nbformat": 4,
 "nbformat_minor": 5
}

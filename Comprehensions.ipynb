{
 "cells": [
  {
   "cell_type": "code",
   "execution_count": null,
   "id": "010bd86c-696c-48a9-90be-238ef9186ca5",
   "metadata": {},
   "outputs": [],
   "source": [
    "# they provide a concise way to create lists, dictionaries and sets. They are often more readable and faster than traditional loops."
   ]
  },
  {
   "cell_type": "code",
   "execution_count": null,
   "id": "ba7bf6af-541f-47ca-87da-5f23c6b548df",
   "metadata": {},
   "outputs": [],
   "source": []
  }
 ],
 "metadata": {
  "kernelspec": {
   "display_name": "Python 3 (ipykernel)",
   "language": "python",
   "name": "python3"
  },
  "language_info": {
   "name": ""
  }
 },
 "nbformat": 4,
 "nbformat_minor": 5
}

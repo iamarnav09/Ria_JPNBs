{
 "cells": [
  {
   "cell_type": "code",
   "execution_count": 5,
   "id": "a6c53c18-4603-42ff-894c-eece61868ed0",
   "metadata": {},
   "outputs": [
    {
     "data": {
      "text/plain": [
       "'I love our \\nFinance Minister.\\nI love India.'"
      ]
     },
     "execution_count": 5,
     "metadata": {},
     "output_type": "execute_result"
    }
   ],
   "source": [
    "#Docstrings: - \n",
    "'''I love our \n",
    "Finance Minister.\n",
    "I love India.'''"
   ]
  },
  {
   "cell_type": "code",
   "execution_count": 9,
   "id": "fd24b29d-3f7a-49e8-a727-2dd6ca419178",
   "metadata": {},
   "outputs": [
    {
     "data": {
      "text/plain": [
       "'C:\\\\Users\\\\ADMIN1'"
      ]
     },
     "execution_count": 9,
     "metadata": {},
     "output_type": "execute_result"
    }
   ],
   "source": [
    "pwd"
   ]
  },
  {
   "cell_type": "markdown",
   "id": "95e40be4-eec4-4955-a93e-1e9baabf5824",
   "metadata": {},
   "source": [
    "Markdown: - I am currently living in Bengaluru and is learning Kannada Language."
   ]
  },
  {
   "cell_type": "raw",
   "id": "20ead6b8-518e-4427-bce9-0d27f6a90594",
   "metadata": {},
   "source": [
    "Raw: - I am at an institute"
   ]
  },
  {
   "cell_type": "markdown",
   "id": "e19866a2-231b-43ac-8948-9230929a30dd",
   "metadata": {},
   "source": [
    "# Markdown: - I am currently living in Bengaluru and is learning Kannada Language."
   ]
  },
  {
   "cell_type": "markdown",
   "id": "363680e1-5944-487a-9ba7-8a6b762001b6",
   "metadata": {},
   "source": [
    "## Markdown: - I am currently living in Bengaluru and is learning Kannada Language."
   ]
  },
  {
   "cell_type": "markdown",
   "id": "6edd97cc-4e51-4cca-aa0a-2985138522a9",
   "metadata": {},
   "source": [
    "### Markdown: - I am currently living in Bengaluru and is learning Kannada Language."
   ]
  },
  {
   "cell_type": "code",
   "execution_count": 22,
   "id": "3fa3e218-3f0b-4a87-b2f7-5a31dc11a443",
   "metadata": {},
   "outputs": [],
   "source": [
    "import pandas as pd"
   ]
  },
  {
   "cell_type": "code",
   "execution_count": null,
   "id": "bd0d67b3-7ceb-4fd6-a65f-0de6a20d21fd",
   "metadata": {},
   "outputs": [],
   "source": []
  }
 ],
 "metadata": {
  "kernelspec": {
   "display_name": "Python 3 (ipykernel)",
   "language": "python",
   "name": "python3"
  },
  "language_info": {
   "codemirror_mode": {
    "name": "ipython",
    "version": 3
   },
   "file_extension": ".py",
   "mimetype": "text/x-python",
   "name": "python",
   "nbconvert_exporter": "python",
   "pygments_lexer": "ipython3",
   "version": "3.12.4"
  }
 },
 "nbformat": 4,
 "nbformat_minor": 5
}

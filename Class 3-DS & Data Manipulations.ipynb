{
 "cells": [
  {
   "cell_type": "code",
   "execution_count": 1,
   "id": "71ff3ada",
   "metadata": {},
   "outputs": [],
   "source": [
    "a=2"
   ]
  },
  {
   "cell_type": "code",
   "execution_count": 2,
   "id": "4f773616",
   "metadata": {},
   "outputs": [
    {
     "name": "stdout",
     "output_type": "stream",
     "text": [
      "[3, 4, 6, 'Arnav', (2+3j), 5.6734]\n"
     ]
    }
   ],
   "source": [
    "#Data Types: \n",
    "b = [3,4,6,\"Arnav\",2+3j,5.6734]\n",
    "print(b)"
   ]
  },
  {
   "cell_type": "code",
   "execution_count": 3,
   "id": "ec3bcd19",
   "metadata": {},
   "outputs": [],
   "source": [
    "#Lists, Tuples, Dictionaries, Sets, arrays, Tensors.\n"
   ]
  },
  {
   "cell_type": "code",
   "execution_count": 4,
   "id": "ecae3af2",
   "metadata": {},
   "outputs": [
    {
     "name": "stdout",
     "output_type": "stream",
     "text": [
      "{1697: 'Sam', 2689: 'Brian', 4327: 'Fabrice'}\n"
     ]
    }
   ],
   "source": [
    "#Dictionaries: {}-Keys & Values.\n",
    "# Keys & Values- {Key:Value}\n",
    "c = {1697:\"Sam\",2689:\"Brian\",4327:\"Fabrice\"}\n",
    "print(c)"
   ]
  },
  {
   "cell_type": "code",
   "execution_count": 5,
   "id": "da28c276",
   "metadata": {},
   "outputs": [],
   "source": [
    "d = {4,8,12,15}\n"
   ]
  },
  {
   "cell_type": "raw",
   "id": "10e87410",
   "metadata": {},
   "source": [
    "#vital Concepts:\n",
    "#1. Indentation:\n",
    "def average_of_2_numbers(n1,n2):\n",
    "    \n",
    "    \n",
    "    return \n",
    "def avg_3_numb(n1,n2):\n",
    "    \n",
    "print()\n",
    "\n"
   ]
  },
  {
   "cell_type": "raw",
   "id": "90e14071",
   "metadata": {},
   "source": [
    "#2. L- R Associativty:\n",
    "for x in range(0,20):\n",
    "    "
   ]
  },
  {
   "cell_type": "code",
   "execution_count": 6,
   "id": "526d127c",
   "metadata": {},
   "outputs": [
    {
     "data": {
      "text/plain": [
       "40"
      ]
     },
     "execution_count": 6,
     "metadata": {},
     "output_type": "execute_result"
    }
   ],
   "source": [
    "#Indexing: \n",
    "a=[20,40,60,80]\n",
    "\n",
    "a[1]"
   ]
  },
  {
   "cell_type": "code",
   "execution_count": 7,
   "id": "b7dd322e",
   "metadata": {},
   "outputs": [
    {
     "data": {
      "text/plain": [
       "18"
      ]
     },
     "execution_count": 7,
     "metadata": {},
     "output_type": "execute_result"
    }
   ],
   "source": [
    "s=[3,6,9,12,15,18]\n",
    "s[-1]"
   ]
  },
  {
   "cell_type": "code",
   "execution_count": 5,
   "id": "65011875",
   "metadata": {},
   "outputs": [
    {
     "name": "stdout",
     "output_type": "stream",
     "text": [
      "(1, 3, 5, 7)\n"
     ]
    }
   ],
   "source": [
    "g=[2,4,6,8,10,(1,3,5,7),12,14,16,18,20]\n",
    "print(g[5])"
   ]
  },
  {
   "cell_type": "code",
   "execution_count": 9,
   "id": "3dc7ba5f",
   "metadata": {},
   "outputs": [
    {
     "data": {
      "text/plain": [
       "8"
      ]
     },
     "execution_count": 9,
     "metadata": {},
     "output_type": "execute_result"
    }
   ],
   "source": [
    "g[3]"
   ]
  },
  {
   "cell_type": "code",
   "execution_count": 10,
   "id": "27e33100",
   "metadata": {},
   "outputs": [
    {
     "data": {
      "text/plain": [
       "10"
      ]
     },
     "execution_count": 10,
     "metadata": {},
     "output_type": "execute_result"
    }
   ],
   "source": [
    "g[4]"
   ]
  },
  {
   "cell_type": "code",
   "execution_count": 11,
   "id": "56e08e3a",
   "metadata": {},
   "outputs": [
    {
     "data": {
      "text/plain": [
       "(1, 3, 5, 7)"
      ]
     },
     "execution_count": 11,
     "metadata": {},
     "output_type": "execute_result"
    }
   ],
   "source": [
    "g[5]"
   ]
  },
  {
   "cell_type": "code",
   "execution_count": 12,
   "id": "3bbbe1d1",
   "metadata": {},
   "outputs": [
    {
     "data": {
      "text/plain": [
       "5"
      ]
     },
     "execution_count": 12,
     "metadata": {},
     "output_type": "execute_result"
    }
   ],
   "source": [
    "#Delimiters - : (colon) ,(commas) ;(semicolons) .(dots)\n",
    "#Operators - \n",
    "# Arth. Operators - \n",
    "# 1. + : \n",
    "2+3"
   ]
  },
  {
   "cell_type": "code",
   "execution_count": 13,
   "id": "a8a89e8c",
   "metadata": {},
   "outputs": [
    {
     "data": {
      "text/plain": [
       "3"
      ]
     },
     "execution_count": 13,
     "metadata": {},
     "output_type": "execute_result"
    }
   ],
   "source": [
    "5-2"
   ]
  },
  {
   "cell_type": "code",
   "execution_count": 14,
   "id": "4ced029e",
   "metadata": {},
   "outputs": [
    {
     "data": {
      "text/plain": [
       "-3"
      ]
     },
     "execution_count": 14,
     "metadata": {},
     "output_type": "execute_result"
    }
   ],
   "source": [
    "2-5"
   ]
  },
  {
   "cell_type": "code",
   "execution_count": 15,
   "id": "87b3e1a2",
   "metadata": {},
   "outputs": [
    {
     "data": {
      "text/plain": [
       "12"
      ]
     },
     "execution_count": 15,
     "metadata": {},
     "output_type": "execute_result"
    }
   ],
   "source": [
    "3*4"
   ]
  },
  {
   "cell_type": "code",
   "execution_count": 16,
   "id": "193b0676",
   "metadata": {},
   "outputs": [
    {
     "data": {
      "text/plain": [
       "8"
      ]
     },
     "execution_count": 16,
     "metadata": {},
     "output_type": "execute_result"
    }
   ],
   "source": [
    "2**3"
   ]
  },
  {
   "cell_type": "code",
   "execution_count": 17,
   "id": "8c8262d6",
   "metadata": {},
   "outputs": [
    {
     "data": {
      "text/plain": [
       "512"
      ]
     },
     "execution_count": 17,
     "metadata": {},
     "output_type": "execute_result"
    }
   ],
   "source": [
    "2**3**2"
   ]
  },
  {
   "cell_type": "code",
   "execution_count": 18,
   "id": "334f5534",
   "metadata": {},
   "outputs": [
    {
     "data": {
      "text/plain": [
       "512"
      ]
     },
     "execution_count": 18,
     "metadata": {},
     "output_type": "execute_result"
    }
   ],
   "source": [
    "2**9"
   ]
  },
  {
   "cell_type": "code",
   "execution_count": 19,
   "id": "6b045466",
   "metadata": {},
   "outputs": [
    {
     "data": {
      "text/plain": [
       "5.333333333333333"
      ]
     },
     "execution_count": 19,
     "metadata": {},
     "output_type": "execute_result"
    }
   ],
   "source": [
    "#Div. Operator:\n",
    "#1. /\n",
    "16/3"
   ]
  },
  {
   "cell_type": "code",
   "execution_count": 20,
   "id": "1d443c4d",
   "metadata": {},
   "outputs": [
    {
     "data": {
      "text/plain": [
       "1"
      ]
     },
     "execution_count": 20,
     "metadata": {},
     "output_type": "execute_result"
    }
   ],
   "source": [
    "#Modulo: Remainders.\n",
    "16%3"
   ]
  },
  {
   "cell_type": "code",
   "execution_count": 21,
   "id": "2d0b6db6",
   "metadata": {},
   "outputs": [
    {
     "data": {
      "text/plain": [
       "5"
      ]
     },
     "execution_count": 21,
     "metadata": {},
     "output_type": "execute_result"
    }
   ],
   "source": [
    "#Double Slash: Quotients.\n",
    "16//3"
   ]
  },
  {
   "cell_type": "code",
   "execution_count": 22,
   "id": "ed4959e8",
   "metadata": {},
   "outputs": [],
   "source": [
    "#Logical Operators: AND, OR Ops."
   ]
  },
  {
   "cell_type": "code",
   "execution_count": 23,
   "id": "10ac7a39",
   "metadata": {},
   "outputs": [
    {
     "data": {
      "text/plain": [
       "False"
      ]
     },
     "execution_count": 23,
     "metadata": {},
     "output_type": "execute_result"
    }
   ],
   "source": [
    "age = 32\n",
    "weight =78\n",
    "\n",
    "age>30 and weight>80"
   ]
  },
  {
   "cell_type": "code",
   "execution_count": 24,
   "id": "ce4f34b0",
   "metadata": {},
   "outputs": [
    {
     "data": {
      "text/plain": [
       "True"
      ]
     },
     "execution_count": 24,
     "metadata": {},
     "output_type": "execute_result"
    }
   ],
   "source": [
    "age>30 or weight>80"
   ]
  },
  {
   "cell_type": "code",
   "execution_count": 25,
   "id": "08da9979",
   "metadata": {},
   "outputs": [
    {
     "data": {
      "text/plain": [
       "23"
      ]
     },
     "execution_count": 25,
     "metadata": {},
     "output_type": "execute_result"
    }
   ],
   "source": [
    "56 and 23"
   ]
  },
  {
   "cell_type": "code",
   "execution_count": 26,
   "id": "f6887f02",
   "metadata": {},
   "outputs": [
    {
     "data": {
      "text/plain": [
       "89"
      ]
     },
     "execution_count": 26,
     "metadata": {},
     "output_type": "execute_result"
    }
   ],
   "source": [
    "63 and 89"
   ]
  },
  {
   "cell_type": "code",
   "execution_count": 27,
   "id": "3800c198",
   "metadata": {},
   "outputs": [
    {
     "data": {
      "text/plain": [
       "0"
      ]
     },
     "execution_count": 27,
     "metadata": {},
     "output_type": "execute_result"
    }
   ],
   "source": [
    "0 and 89"
   ]
  },
  {
   "cell_type": "code",
   "execution_count": 28,
   "id": "e3c3574b",
   "metadata": {},
   "outputs": [
    {
     "data": {
      "text/plain": [
       "2"
      ]
     },
     "execution_count": 28,
     "metadata": {},
     "output_type": "execute_result"
    }
   ],
   "source": [
    "1 and 2"
   ]
  },
  {
   "cell_type": "code",
   "execution_count": 29,
   "id": "539ec1f2",
   "metadata": {},
   "outputs": [
    {
     "data": {
      "text/plain": [
       "0"
      ]
     },
     "execution_count": 29,
     "metadata": {},
     "output_type": "execute_result"
    }
   ],
   "source": [
    "0 and 1"
   ]
  },
  {
   "cell_type": "code",
   "execution_count": 30,
   "id": "bb2570bf",
   "metadata": {},
   "outputs": [
    {
     "data": {
      "text/plain": [
       "1"
      ]
     },
     "execution_count": 30,
     "metadata": {},
     "output_type": "execute_result"
    }
   ],
   "source": [
    "1 or 2"
   ]
  },
  {
   "cell_type": "code",
   "execution_count": 31,
   "id": "a453de19",
   "metadata": {},
   "outputs": [
    {
     "data": {
      "text/plain": [
       "89"
      ]
     },
     "execution_count": 31,
     "metadata": {},
     "output_type": "execute_result"
    }
   ],
   "source": [
    "# And>Or\n",
    "63 and 89 or 45"
   ]
  },
  {
   "cell_type": "code",
   "execution_count": 32,
   "id": "2fbf02ae",
   "metadata": {},
   "outputs": [
    {
     "data": {
      "text/plain": [
       "63"
      ]
     },
     "execution_count": 32,
     "metadata": {},
     "output_type": "execute_result"
    }
   ],
   "source": [
    "63 or 89 and 45"
   ]
  },
  {
   "cell_type": "code",
   "execution_count": 33,
   "id": "98d1ac55",
   "metadata": {},
   "outputs": [
    {
     "data": {
      "text/plain": [
       "45"
      ]
     },
     "execution_count": 33,
     "metadata": {},
     "output_type": "execute_result"
    }
   ],
   "source": [
    "89 and 45"
   ]
  },
  {
   "cell_type": "code",
   "execution_count": 34,
   "id": "ff0e7056",
   "metadata": {},
   "outputs": [
    {
     "data": {
      "text/plain": [
       "63"
      ]
     },
     "execution_count": 34,
     "metadata": {},
     "output_type": "execute_result"
    }
   ],
   "source": [
    "63 or 45"
   ]
  },
  {
   "cell_type": "code",
   "execution_count": 35,
   "id": "05ac71e3",
   "metadata": {},
   "outputs": [
    {
     "data": {
      "text/plain": [
       "63"
      ]
     },
     "execution_count": 35,
     "metadata": {},
     "output_type": "execute_result"
    }
   ],
   "source": [
    "63 or 62"
   ]
  },
  {
   "cell_type": "code",
   "execution_count": 36,
   "id": "e10d6d75",
   "metadata": {},
   "outputs": [
    {
     "data": {
      "text/plain": [
       "'I am 25 years old'"
      ]
     },
     "execution_count": 36,
     "metadata": {},
     "output_type": "execute_result"
    }
   ],
   "source": [
    "\"I live in Pune\" and \"I am 25 years old\""
   ]
  },
  {
   "cell_type": "raw",
   "id": "a360675a",
   "metadata": {},
   "source": [
    "#Equality Operators: <,>,>=,<=,!=\n",
    "<= : \n",
    ">=\n",
    "!= \n",
    "<\n",
    ">\n",
    "=="
   ]
  },
  {
   "cell_type": "code",
   "execution_count": 37,
   "id": "84f9d9b9",
   "metadata": {},
   "outputs": [],
   "source": [
    "'''My name is Arnav and\n",
    "I work at UBS. UBS is a swiss Investment Bank headquartered in Zurich'''\n",
    "d=[23,4,56]"
   ]
  },
  {
   "cell_type": "code",
   "execution_count": 38,
   "id": "63798ea2",
   "metadata": {},
   "outputs": [
    {
     "name": "stdout",
     "output_type": "stream",
     "text": [
      "[23, 4, 56]\n"
     ]
    }
   ],
   "source": [
    "print(d)"
   ]
  },
  {
   "cell_type": "code",
   "execution_count": 39,
   "id": "8c14637a",
   "metadata": {},
   "outputs": [],
   "source": [
    "#Membership Operators: in, not in:\n",
    "    "
   ]
  },
  {
   "cell_type": "code",
   "execution_count": 40,
   "id": "9d514f9a",
   "metadata": {},
   "outputs": [
    {
     "name": "stdout",
     "output_type": "stream",
     "text": [
      "(56, 81, 78, 98)\n"
     ]
    }
   ],
   "source": [
    "f=56,81,78,98\n",
    "print(f)"
   ]
  },
  {
   "cell_type": "code",
   "execution_count": 41,
   "id": "0ad5f2c2",
   "metadata": {},
   "outputs": [
    {
     "name": "stderr",
     "output_type": "stream",
     "text": [
      "<>:1: SyntaxWarning: \"is\" with a literal. Did you mean \"==\"?\n",
      "<>:1: SyntaxWarning: \"is\" with a literal. Did you mean \"==\"?\n",
      "<ipython-input-41-838bb975d525>:1: SyntaxWarning: \"is\" with a literal. Did you mean \"==\"?\n",
      "  f is 56\n"
     ]
    },
    {
     "data": {
      "text/plain": [
       "False"
      ]
     },
     "execution_count": 41,
     "metadata": {},
     "output_type": "execute_result"
    }
   ],
   "source": [
    "f is 56"
   ]
  },
  {
   "cell_type": "code",
   "execution_count": 6,
   "id": "cdcd5407",
   "metadata": {},
   "outputs": [
    {
     "name": "stdout",
     "output_type": "stream",
     "text": [
      "The original list is:  [1, 2, 3, 4, 5]\n",
      "None\n"
     ]
    }
   ],
   "source": [
    "#Data Manipulations in List:\n",
    "temp = [1,2,3,4,5]\n",
    "print(\"The original list is: \", temp)\n",
    "#Add an element:list_name.append(element to be added)\n",
    "temp2 = temp.append(56)\n",
    "print(temp2)"
   ]
  },
  {
   "cell_type": "code",
   "execution_count": 12,
   "id": "21a8fb3d",
   "metadata": {},
   "outputs": [
    {
     "name": "stdout",
     "output_type": "stream",
     "text": [
      "[1, 2, 3, 4, 5, 56, 56, 56, 56, 59, 89, 89]\n"
     ]
    }
   ],
   "source": [
    "temp.append(89)\n",
    "print(temp)"
   ]
  },
  {
   "cell_type": "code",
   "execution_count": 44,
   "id": "69608a4e",
   "metadata": {},
   "outputs": [
    {
     "name": "stdout",
     "output_type": "stream",
     "text": [
      "The Appended list is:  None\n"
     ]
    }
   ],
   "source": [
    "print(\"The Appended list is: \",temp2)"
   ]
  },
  {
   "cell_type": "code",
   "execution_count": 45,
   "id": "d10b1974",
   "metadata": {},
   "outputs": [
    {
     "name": "stdout",
     "output_type": "stream",
     "text": [
      "The original list is:  [1, 2, 3, 4, 5]\n"
     ]
    },
    {
     "data": {
      "text/plain": [
       "[1, 2, 3, 4, 5, 'Pune']"
      ]
     },
     "execution_count": 45,
     "metadata": {},
     "output_type": "execute_result"
    }
   ],
   "source": [
    "temp3 = [1,2,3,4,5]\n",
    "print(\"The original list is: \", temp3)\n",
    "#Add an element:list_name.append(element to be added)\n",
    "temp3.append(\"Pune\")\n",
    "temp3"
   ]
  },
  {
   "cell_type": "code",
   "execution_count": 46,
   "id": "7261950b",
   "metadata": {},
   "outputs": [
    {
     "name": "stdout",
     "output_type": "stream",
     "text": [
      "[1, 2, 3, 9, 4, 5, 56, 56]\n"
     ]
    }
   ],
   "source": [
    "temp.insert(3,9)\n",
    "print(temp)"
   ]
  },
  {
   "cell_type": "code",
   "execution_count": 47,
   "id": "e8e66615",
   "metadata": {},
   "outputs": [
    {
     "name": "stdout",
     "output_type": "stream",
     "text": [
      "[2, 4, 24, 6, 8]\n"
     ]
    }
   ],
   "source": [
    "# If you want to append an element at a defined spot: insert.\n",
    "#Insert Manipulate: listname.insert(index no, element to be inserted)\n",
    "var2 = [2,4,6,8]\n",
    "var2.insert(2,24)\n",
    "print(var2)"
   ]
  },
  {
   "cell_type": "code",
   "execution_count": 48,
   "id": "d5f1fc50",
   "metadata": {},
   "outputs": [
    {
     "data": {
      "text/plain": [
       "[2, 4, 24, 6]"
      ]
     },
     "execution_count": 48,
     "metadata": {},
     "output_type": "execute_result"
    }
   ],
   "source": [
    "#to remove the last element and to spot it:listname.pop()\n",
    "var2.pop()\n",
    "var2"
   ]
  },
  {
   "cell_type": "code",
   "execution_count": 49,
   "id": "2b7fea3e",
   "metadata": {},
   "outputs": [
    {
     "name": "stdout",
     "output_type": "stream",
     "text": [
      "[4, 24, 6]\n"
     ]
    }
   ],
   "source": [
    "#to remove the element from list: listname.remove(element to be removed)\n",
    "var2.remove(2)\n",
    "print(var2)"
   ]
  },
  {
   "cell_type": "code",
   "execution_count": 50,
   "id": "a62c10f2",
   "metadata": {},
   "outputs": [
    {
     "data": {
      "text/plain": [
       "18"
      ]
     },
     "execution_count": 50,
     "metadata": {},
     "output_type": "execute_result"
    }
   ],
   "source": [
    "#pop: used to fetch the last element of list.\n",
    "var3 = [3,6,9,12,15,18]\n",
    "var3.pop()"
   ]
  },
  {
   "cell_type": "code",
   "execution_count": 51,
   "id": "4fe7e4d2",
   "metadata": {},
   "outputs": [],
   "source": [
    "var3.remove(6)"
   ]
  },
  {
   "cell_type": "code",
   "execution_count": 52,
   "id": "a94ecacd",
   "metadata": {},
   "outputs": [
    {
     "name": "stdout",
     "output_type": "stream",
     "text": [
      "[3, 9, 12, 15]\n"
     ]
    }
   ],
   "source": [
    "print(var3)"
   ]
  },
  {
   "cell_type": "code",
   "execution_count": 53,
   "id": "7ff495d3",
   "metadata": {},
   "outputs": [
    {
     "data": {
      "text/plain": [
       "30"
      ]
     },
     "execution_count": 53,
     "metadata": {},
     "output_type": "execute_result"
    }
   ],
   "source": [
    "var5=[5,10,15,20,25,30]\n",
    "var5.pop()"
   ]
  },
  {
   "cell_type": "code",
   "execution_count": 54,
   "id": "e9f548b1",
   "metadata": {},
   "outputs": [
    {
     "name": "stdout",
     "output_type": "stream",
     "text": [
      "[5, 10, 15, 20, 25]\n"
     ]
    }
   ],
   "source": [
    "print(var5)"
   ]
  },
  {
   "cell_type": "code",
   "execution_count": 55,
   "id": "28ff466f",
   "metadata": {},
   "outputs": [],
   "source": [
    "var5.remove(15)"
   ]
  },
  {
   "cell_type": "code",
   "execution_count": 56,
   "id": "745b58fc",
   "metadata": {},
   "outputs": [
    {
     "name": "stdout",
     "output_type": "stream",
     "text": [
      "[5, 10, 20, 25]\n"
     ]
    }
   ],
   "source": [
    "print(var5)"
   ]
  },
  {
   "cell_type": "code",
   "execution_count": 57,
   "id": "89128482",
   "metadata": {},
   "outputs": [
    {
     "data": {
      "text/plain": [
       "20"
      ]
     },
     "execution_count": 57,
     "metadata": {},
     "output_type": "execute_result"
    }
   ],
   "source": [
    "var5[2]"
   ]
  },
  {
   "cell_type": "code",
   "execution_count": 58,
   "id": "c8152329",
   "metadata": {},
   "outputs": [
    {
     "data": {
      "text/plain": [
       "'Rupesh, Shital,Shweta,Soham,Amar'"
      ]
     },
     "execution_count": 58,
     "metadata": {},
     "output_type": "execute_result"
    }
   ],
   "source": [
    "'''Rupesh, Shital,Shweta,Soham,Amar'''"
   ]
  },
  {
   "cell_type": "code",
   "execution_count": 59,
   "id": "e9cd4315",
   "metadata": {},
   "outputs": [
    {
     "name": "stdout",
     "output_type": "stream",
     "text": [
      "3\n"
     ]
    }
   ],
   "source": [
    "t=2\n",
    "z=3\n",
    "print(z)"
   ]
  },
  {
   "cell_type": "code",
   "execution_count": 60,
   "id": "512d3adc",
   "metadata": {},
   "outputs": [
    {
     "data": {
      "text/plain": [
       "[80, 95, 110]"
      ]
     },
     "execution_count": 60,
     "metadata": {},
     "output_type": "execute_result"
    }
   ],
   "source": [
    "#Slicing a list: \n",
    "s=[50,65,80,95,110,125,140,155]\n",
    "s[2:5]"
   ]
  },
  {
   "cell_type": "code",
   "execution_count": 61,
   "id": "fea73e44",
   "metadata": {},
   "outputs": [],
   "source": [
    "#I.N=.   0.            1.        2.      3\n",
    "d=      [\"Vistara\",\"Air India\",\"GoAir\",\"Indigo\"]"
   ]
  },
  {
   "cell_type": "code",
   "execution_count": 62,
   "id": "1cec1646",
   "metadata": {},
   "outputs": [
    {
     "data": {
      "text/plain": [
       "['Air India', 'GoAir', 'Indigo']"
      ]
     },
     "execution_count": 62,
     "metadata": {},
     "output_type": "execute_result"
    }
   ],
   "source": [
    "#List Slicing Syntax: list_name[Start Index No. : End Index No.]\n",
    "#Output:[Start Index No. element,..., last index no. element-1]\n",
    "d[1:3]"
   ]
  },
  {
   "cell_type": "code",
   "execution_count": 63,
   "id": "f3bdf22e",
   "metadata": {},
   "outputs": [
    {
     "data": {
      "text/plain": [
       "[21]"
      ]
     },
     "execution_count": 63,
     "metadata": {},
     "output_type": "execute_result"
    }
   ],
   "source": [
    "e=[12,15,18,21]\n",
    "e[3:5]"
   ]
  },
  {
   "cell_type": "code",
   "execution_count": 64,
   "id": "9df4342d",
   "metadata": {},
   "outputs": [
    {
     "data": {
      "text/plain": [
       "'Indigo'"
      ]
     },
     "execution_count": 64,
     "metadata": {},
     "output_type": "execute_result"
    }
   ],
   "source": [
    "d[-1]"
   ]
  },
  {
   "cell_type": "code",
   "execution_count": 65,
   "id": "d9800f97",
   "metadata": {},
   "outputs": [
    {
     "data": {
      "text/plain": [
       "[12, 15]"
      ]
     },
     "execution_count": 65,
     "metadata": {},
     "output_type": "execute_result"
    }
   ],
   "source": [
    "# I am just giving the end index no. : \n",
    "e=[12,15,18,21]\n",
    "e[:2]"
   ]
  },
  {
   "cell_type": "code",
   "execution_count": 66,
   "id": "e8d30c0e",
   "metadata": {},
   "outputs": [
    {
     "data": {
      "text/plain": [
       "[12, 15]"
      ]
     },
     "execution_count": 66,
     "metadata": {},
     "output_type": "execute_result"
    }
   ],
   "source": [
    "#Need to start the elements pickups from first element (Index 0)\n",
    "e[0:2]"
   ]
  },
  {
   "cell_type": "code",
   "execution_count": 67,
   "id": "5efe0793",
   "metadata": {},
   "outputs": [],
   "source": [
    "#Slicing of String Lists:\n",
    "restr1 =[\"Chai Point\", \"Mainland China\",\"Toit\",\"Big Pitcher\",\"360 Degree\"]"
   ]
  },
  {
   "cell_type": "code",
   "execution_count": 68,
   "id": "0eec3fa7",
   "metadata": {},
   "outputs": [
    {
     "data": {
      "text/plain": [
       "['Mainland China', 'Toit', 'Big Pitcher']"
      ]
     },
     "execution_count": 68,
     "metadata": {},
     "output_type": "execute_result"
    }
   ],
   "source": [
    "#List Slicing:\n",
    "restr1[1:4]"
   ]
  },
  {
   "cell_type": "code",
   "execution_count": 69,
   "id": "11b00c6f",
   "metadata": {},
   "outputs": [
    {
     "data": {
      "text/plain": [
       "['Chai Point', 'Mainland China']"
      ]
     },
     "execution_count": 69,
     "metadata": {},
     "output_type": "execute_result"
    }
   ],
   "source": [
    "\n",
    "restr1[:2]"
   ]
  },
  {
   "cell_type": "code",
   "execution_count": 70,
   "id": "b77cb883",
   "metadata": {},
   "outputs": [],
   "source": [
    "planets = ['Mercurry','Venus','Earth','Mars','Jupiter','Saturn','Uranus','Neptune','Pluto']"
   ]
  },
  {
   "cell_type": "code",
   "execution_count": 71,
   "id": "74081011",
   "metadata": {},
   "outputs": [
    {
     "name": "stdout",
     "output_type": "stream",
     "text": [
      "My sliced list is:  ['Mars', 'Jupiter', 'Saturn', 'Uranus', 'Neptune', 'Pluto']\n"
     ]
    }
   ],
   "source": [
    "#To define only the start index no.:\n",
    "print('My sliced list is: ',planets[3:])"
   ]
  },
  {
   "cell_type": "code",
   "execution_count": 72,
   "id": "5643e694",
   "metadata": {},
   "outputs": [
    {
     "name": "stdout",
     "output_type": "stream",
     "text": [
      "['Mars', 'Jupiter', 'Saturn', 'Uranus', 'Neptune', 'Pluto']\n"
     ]
    }
   ],
   "source": [
    "#Storing & Printing the values of a sliced list:\n",
    "univ1 = planets[3:]\n",
    "print(univ1)"
   ]
  },
  {
   "cell_type": "code",
   "execution_count": 73,
   "id": "8a46f4d9",
   "metadata": {},
   "outputs": [
    {
     "data": {
      "text/plain": [
       "['Venus', 'Earth', 'Mars', 'Jupiter', 'Saturn', 'Uranus', 'Neptune']"
      ]
     },
     "execution_count": 73,
     "metadata": {},
     "output_type": "execute_result"
    }
   ],
   "source": [
    "#To exempt the first & last elements:\n",
    "#I am storing the values of index. nos in some defined variables:\n",
    "tv=1\n",
    "fg=-1\n",
    "planets[1:-1]"
   ]
  },
  {
   "cell_type": "code",
   "execution_count": 74,
   "id": "5a28a915",
   "metadata": {},
   "outputs": [
    {
     "data": {
      "text/plain": [
       "[8, 10, 12, 14, 16, 18, 20]"
      ]
     },
     "execution_count": 74,
     "metadata": {},
     "output_type": "execute_result"
    }
   ],
   "source": [
    "pkg = [\"Total Compensation\",8,10,12,14,16,18,20,132]\n",
    "pkg[1:-1]"
   ]
  },
  {
   "cell_type": "code",
   "execution_count": 75,
   "id": "7f035dcb",
   "metadata": {},
   "outputs": [
    {
     "data": {
      "text/plain": [
       "'Total Compensation'"
      ]
     },
     "execution_count": 75,
     "metadata": {},
     "output_type": "execute_result"
    }
   ],
   "source": [
    "pkg[0]"
   ]
  },
  {
   "cell_type": "code",
   "execution_count": 76,
   "id": "4a336d8c",
   "metadata": {},
   "outputs": [
    {
     "data": {
      "text/plain": [
       "['Venus', 'Earth', 'Mars', 'Jupiter', 'Saturn', 'Uranus', 'Neptune']"
      ]
     },
     "execution_count": 76,
     "metadata": {},
     "output_type": "execute_result"
    }
   ],
   "source": [
    "planets[tv:fg]"
   ]
  },
  {
   "cell_type": "code",
   "execution_count": 77,
   "id": "cef47a6d",
   "metadata": {},
   "outputs": [],
   "source": [
    "#Mutability & Immutability:"
   ]
  },
  {
   "cell_type": "code",
   "execution_count": 78,
   "id": "2e94e481",
   "metadata": {},
   "outputs": [],
   "source": [
    "#how to add elements in a list at a specific spot:\n",
    "#Syntax: listname[index. no. onto which we need to add the element]=\"Element\"\n",
    "planets[8] = 'Titan','Rover'"
   ]
  },
  {
   "cell_type": "code",
   "execution_count": 79,
   "id": "89cf2618",
   "metadata": {},
   "outputs": [
    {
     "data": {
      "text/plain": [
       "['Mercurry',\n",
       " 'Venus',\n",
       " 'Earth',\n",
       " 'Mars',\n",
       " 'Jupiter',\n",
       " 'Saturn',\n",
       " 'Uranus',\n",
       " 'Neptune',\n",
       " ('Titan', 'Rover')]"
      ]
     },
     "execution_count": 79,
     "metadata": {},
     "output_type": "execute_result"
    }
   ],
   "source": [
    "planets"
   ]
  },
  {
   "cell_type": "code",
   "execution_count": 80,
   "id": "d27cf80d",
   "metadata": {},
   "outputs": [
    {
     "name": "stdout",
     "output_type": "stream",
     "text": [
      "['Mur', 'Ven', 'Ur', 'Mars', 'Jupiter', 'Saturn', 'Uranus', 'Neptune', ('Titan', 'Rover')]\n"
     ]
    }
   ],
   "source": [
    "# I want to filter out only some part of the strings in my list:\n",
    "# String Shortening:\n",
    "#This is a subs. to append and will add the elements in the list from left dxn. onwards.\n",
    "planets[:3]=['Mur','Ven','Ur']\n",
    "# The list elements got added and the older ones got substituted with them.\n",
    "print(planets)"
   ]
  },
  {
   "cell_type": "code",
   "execution_count": 81,
   "id": "1245e685",
   "metadata": {},
   "outputs": [
    {
     "name": "stdout",
     "output_type": "stream",
     "text": [
      "['Mur', 'Ven', 'Ur', 'Mars', 'Jupiter', 'Saturn', 'Uranus', 'Neptune', ('Titan', 'Rover')]\n"
     ]
    }
   ],
   "source": [
    "print(planets)"
   ]
  },
  {
   "cell_type": "code",
   "execution_count": 82,
   "id": "817a4164",
   "metadata": {},
   "outputs": [
    {
     "name": "stdout",
     "output_type": "stream",
     "text": [
      "['Mercury', 'Venus', 'Earth', 'Mars', 'Jupiter', 'Saturn', 'Uranus', 'Neptune', ('Titan', 'Rover')]\n"
     ]
    }
   ],
   "source": [
    "planets[:4] = ['Mercury','Venus','Earth','Mars']\n",
    "print(planets)"
   ]
  },
  {
   "cell_type": "markdown",
   "id": "887dccdd",
   "metadata": {},
   "source": [
    "# Data Manipulation in Dictionary"
   ]
  },
  {
   "cell_type": "code",
   "execution_count": 83,
   "id": "f239b6f7",
   "metadata": {},
   "outputs": [
    {
     "name": "stdout",
     "output_type": "stream",
     "text": [
      "😀\n"
     ]
    }
   ],
   "source": [
    "print(\"\\U0001f600\")"
   ]
  },
  {
   "cell_type": "code",
   "execution_count": 84,
   "id": "4af72714",
   "metadata": {},
   "outputs": [
    {
     "name": "stdout",
     "output_type": "stream",
     "text": [
      "😆\n"
     ]
    }
   ],
   "source": [
    "print(\"\\U0001F606\")"
   ]
  },
  {
   "cell_type": "code",
   "execution_count": 85,
   "id": "6f31f94b",
   "metadata": {},
   "outputs": [
    {
     "name": "stdout",
     "output_type": "stream",
     "text": [
      "🤣\n"
     ]
    }
   ],
   "source": [
    "print(\"\\U0001F923\")"
   ]
  },
  {
   "cell_type": "code",
   "execution_count": 2,
   "id": "21d67bef",
   "metadata": {},
   "outputs": [],
   "source": [
    "#Dictionaries: Applications: \n",
    "score = {'Rob':75,'Kevin':95}"
   ]
  },
  {
   "cell_type": "code",
   "execution_count": 3,
   "id": "5a547a24",
   "metadata": {},
   "outputs": [
    {
     "name": "stdout",
     "output_type": "stream",
     "text": [
      "75\n"
     ]
    }
   ],
   "source": [
    "#Data Manipulations in Dict.\n",
    "#Data Fetch thru Keys: dict_name[key]\n",
    "#O/P - Value\n",
    "mark = score['Rob']\n",
    "print(mark)"
   ]
  },
  {
   "cell_type": "code",
   "execution_count": 4,
   "id": "f3a419b5",
   "metadata": {},
   "outputs": [
    {
     "name": "stdout",
     "output_type": "stream",
     "text": [
      "{'Rob': 75, 'Kevin': 95, 'Suresh': 65, 'Jignesh': 100}\n"
     ]
    }
   ],
   "source": [
    "#adding of elements in a dict: dict_name['Key'] = Value\n",
    "score['Suresh'] = 65\n",
    "score['Jignesh'] = 100\n",
    "print(score)"
   ]
  },
  {
   "cell_type": "code",
   "execution_count": 5,
   "id": "21ff8ed3",
   "metadata": {},
   "outputs": [
    {
     "name": "stdout",
     "output_type": "stream",
     "text": [
      "{'Rob': 75, 'Kevin': 95, 'Suresh': 65, 'Jignesh': 100}\n"
     ]
    }
   ],
   "source": [
    "print(score)"
   ]
  },
  {
   "cell_type": "code",
   "execution_count": 6,
   "id": "16186c1a",
   "metadata": {},
   "outputs": [],
   "source": [
    "#Syntax: del dict_name['Key']\n",
    "del score['Kevin']"
   ]
  },
  {
   "cell_type": "code",
   "execution_count": 7,
   "id": "0479a31f",
   "metadata": {},
   "outputs": [
    {
     "name": "stdout",
     "output_type": "stream",
     "text": [
      "{'Rob': 75, 'Suresh': 65, 'Jignesh': 100}\n"
     ]
    }
   ],
   "source": [
    "print(score)"
   ]
  },
  {
   "cell_type": "code",
   "execution_count": 8,
   "id": "1af52303",
   "metadata": {},
   "outputs": [],
   "source": [
    "#To print all the keys in my dictionary:\n",
    "#We are casting the keys of our dict. into a list data structure.\n",
    "#We are using the empty voids so that our final result can take the reqd. format.\n",
    "#right to left: - \n",
    "#keys() - to extract the keys from the dict.\n",
    "#score. - to assign the dictionary name of which i am extracting the keys\n",
    "#list function - the ouput of score.keys() needs to be getting casted in a list\n",
    "#names - var. name\n",
    "names = list(score.keys())"
   ]
  },
  {
   "cell_type": "code",
   "execution_count": null,
   "id": "125b8d81",
   "metadata": {},
   "outputs": [],
   "source": []
  },
  {
   "cell_type": "code",
   "execution_count": 95,
   "id": "ef7d7a87",
   "metadata": {},
   "outputs": [
    {
     "name": "stdout",
     "output_type": "stream",
     "text": [
      "['Rob', 'Suresh', 'Jignesh']\n"
     ]
    }
   ],
   "source": [
    "print(names)"
   ]
  },
  {
   "cell_type": "code",
   "execution_count": 96,
   "id": "8c079dec",
   "metadata": {},
   "outputs": [
    {
     "data": {
      "text/plain": [
       "[]"
      ]
     },
     "execution_count": 96,
     "metadata": {},
     "output_type": "execute_result"
    }
   ],
   "source": [
    "[]"
   ]
  },
  {
   "cell_type": "code",
   "execution_count": 97,
   "id": "cbe399bb",
   "metadata": {},
   "outputs": [],
   "source": [
    "names = list(score.values())"
   ]
  },
  {
   "cell_type": "code",
   "execution_count": 98,
   "id": "90dfcdfa",
   "metadata": {},
   "outputs": [
    {
     "name": "stdout",
     "output_type": "stream",
     "text": [
      "[75, 65, 100]\n"
     ]
    }
   ],
   "source": [
    "print(names)"
   ]
  },
  {
   "cell_type": "code",
   "execution_count": 17,
   "id": "5bbd5aaf",
   "metadata": {},
   "outputs": [],
   "source": [
    "# if i want to sort my values and to print them:\n",
    "sortedmarks = sorted(score.values())"
   ]
  },
  {
   "cell_type": "code",
   "execution_count": 18,
   "id": "8c4be8a3",
   "metadata": {},
   "outputs": [
    {
     "name": "stdout",
     "output_type": "stream",
     "text": [
      "[65, 75, 100]\n"
     ]
    }
   ],
   "source": [
    "print(sortedmarks)"
   ]
  },
  {
   "cell_type": "code",
   "execution_count": 105,
   "id": "e04f6875",
   "metadata": {},
   "outputs": [],
   "source": [
    "#To check whether the element is present in the dict. or not?:\n",
    "check = 'Steve' in score"
   ]
  },
  {
   "cell_type": "code",
   "execution_count": 106,
   "id": "d925dd3f",
   "metadata": {},
   "outputs": [
    {
     "name": "stdout",
     "output_type": "stream",
     "text": [
      "False\n"
     ]
    }
   ],
   "source": [
    "print(check)"
   ]
  },
  {
   "cell_type": "code",
   "execution_count": 107,
   "id": "45d6c0d2",
   "metadata": {},
   "outputs": [
    {
     "name": "stdout",
     "output_type": "stream",
     "text": [
      "True\n"
     ]
    }
   ],
   "source": [
    "chk2 = 'Suresh' in score\n",
    "print(chk2)"
   ]
  },
  {
   "cell_type": "code",
   "execution_count": 108,
   "id": "5bfac169",
   "metadata": {},
   "outputs": [],
   "source": [
    "back_list = {\"Sem.1\": 0,\"Sem.2\":2,\"Sem.3\":2,\"Sem.4\": 4,\"Sem.5\":1,\"Sem.6\":0,\"Sem.7\":4}"
   ]
  },
  {
   "cell_type": "code",
   "execution_count": 113,
   "id": "a1e33da4",
   "metadata": {},
   "outputs": [
    {
     "name": "stdout",
     "output_type": "stream",
     "text": [
      "{}\n"
     ]
    }
   ],
   "source": [
    "print(back_list)"
   ]
  },
  {
   "cell_type": "code",
   "execution_count": 114,
   "id": "0f0e8b04",
   "metadata": {},
   "outputs": [],
   "source": [
    "back_list.clear()"
   ]
  },
  {
   "cell_type": "code",
   "execution_count": 115,
   "id": "55817b63",
   "metadata": {},
   "outputs": [
    {
     "name": "stdout",
     "output_type": "stream",
     "text": [
      "{}\n"
     ]
    }
   ],
   "source": [
    "print(back_list)"
   ]
  },
  {
   "cell_type": "code",
   "execution_count": 1,
   "id": "3f599b3b",
   "metadata": {},
   "outputs": [
    {
     "name": "stdout",
     "output_type": "stream",
     "text": [
      "{'Sem.1': [0, 1], 'Sem.2': 2, 'Sem.3': 2, 'Sem.4': 4, 'Sem.5': 1, 'Sem.6': 0, 'Sem.7': 4}\n"
     ]
    }
   ],
   "source": [
    "back_list1 = {\"Sem.1\": [0,1],\"Sem.2\":2,\"Sem.3\":2,\"Sem.4\": 4,\"Sem.5\":1,\"Sem.6\":0,\"Sem.7\":4}\n",
    "print(back_list1)"
   ]
  },
  {
   "cell_type": "code",
   "execution_count": 3,
   "id": "b6807590",
   "metadata": {},
   "outputs": [],
   "source": [
    "bk1 = back_list1.get(\"Sem.1\")"
   ]
  },
  {
   "cell_type": "code",
   "execution_count": 4,
   "id": "bec92f13",
   "metadata": {},
   "outputs": [
    {
     "name": "stdout",
     "output_type": "stream",
     "text": [
      "[0, 1]\n"
     ]
    }
   ],
   "source": [
    "print(bk1)"
   ]
  },
  {
   "cell_type": "code",
   "execution_count": 5,
   "id": "be1fc7ab",
   "metadata": {},
   "outputs": [],
   "source": [
    "#WAP to make a dictionary of famous indian cities with their number of malls present in them and \n",
    "#carry out all the data manipulations in the dictionary."
   ]
  },
  {
   "cell_type": "code",
   "execution_count": null,
   "id": "a3dfe6c2",
   "metadata": {},
   "outputs": [],
   "source": []
  }
 ],
 "metadata": {
  "kernelspec": {
   "display_name": "Python 3",
   "language": "python",
   "name": "python3"
  },
  "language_info": {
   "codemirror_mode": {
    "name": "ipython",
    "version": 3
   },
   "file_extension": ".py",
   "mimetype": "text/x-python",
   "name": "python",
   "nbconvert_exporter": "python",
   "pygments_lexer": "ipython3",
   "version": "3.8.8"
  }
 },
 "nbformat": 4,
 "nbformat_minor": 5
}

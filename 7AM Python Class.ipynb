{
 "cells": [
  {
   "cell_type": "code",
   "execution_count": 5,
   "id": "e5c47975-78b6-4a2a-9a82-5ce9ac604b84",
   "metadata": {},
   "outputs": [],
   "source": [
    "#variable=value\n",
    "preetha=56"
   ]
  },
  {
   "cell_type": "code",
   "execution_count": 7,
   "id": "6b2cad11-8757-46c1-9a8f-2772bd16b07f",
   "metadata": {},
   "outputs": [],
   "source": [
    "#Data Types: - \n",
    "#integer:- 1,2,3,4....\n",
    "#float: - 1.1,1.2,1.3,1.5,...\n",
    "#complex: - 5+8j,8+9j,5+4j,..."
   ]
  },
  {
   "cell_type": "code",
   "execution_count": 9,
   "id": "bc80723c-f3df-4218-8286-4cf06f78eaeb",
   "metadata": {},
   "outputs": [
    {
     "data": {
      "text/plain": [
       "(8+4j)"
      ]
     },
     "execution_count": 9,
     "metadata": {},
     "output_type": "execute_result"
    }
   ],
   "source": [
    "8+4j"
   ]
  },
  {
   "cell_type": "code",
   "execution_count": null,
   "id": "5d2c07a3-fb2e-4d42-8b44-94c4e0614d2a",
   "metadata": {},
   "outputs": [],
   "source": []
  }
 ],
 "metadata": {
  "kernelspec": {
   "display_name": "Python 3 (ipykernel)",
   "language": "python",
   "name": "python3"
  },
  "language_info": {
   "codemirror_mode": {
    "name": "ipython",
    "version": 3
   },
   "file_extension": ".py",
   "mimetype": "text/x-python",
   "name": "python",
   "nbconvert_exporter": "python",
   "pygments_lexer": "ipython3",
   "version": "3.12.4"
  }
 },
 "nbformat": 4,
 "nbformat_minor": 5
}

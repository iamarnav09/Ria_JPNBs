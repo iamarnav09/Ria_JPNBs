{
 "cells": [
  {
   "cell_type": "markdown",
   "id": "f0bade38-45a1-4540-91a5-602690aa6df3",
   "metadata": {},
   "source": [
    "## String Functions: - "
   ]
  },
  {
   "cell_type": "code",
   "execution_count": 1,
   "id": "8117d9bf-1e74-4bea-825c-38693dfacba4",
   "metadata": {},
   "outputs": [
    {
     "data": {
      "text/plain": [
       "'HELLO'"
      ]
     },
     "execution_count": 1,
     "metadata": {},
     "output_type": "execute_result"
    }
   ],
   "source": [
    "\"hello\".upper()"
   ]
  },
  {
   "cell_type": "code",
   "execution_count": 3,
   "id": "bce6c0ed-6d76-4816-a8ee-7875a6960db3",
   "metadata": {},
   "outputs": [
    {
     "data": {
      "text/plain": [
       "'hello mam'"
      ]
     },
     "execution_count": 3,
     "metadata": {},
     "output_type": "execute_result"
    }
   ],
   "source": [
    "###2. lower function: - \n",
    "\"HELLO MAM\".lower()"
   ]
  },
  {
   "cell_type": "markdown",
   "id": "e192b74b-1ad2-46d8-bd4e-3050f3957eb6",
   "metadata": {},
   "source": [
    "### 3. Capitalize Function"
   ]
  },
  {
   "cell_type": "code",
   "execution_count": 7,
   "id": "93ad68c0-2a7c-402b-a046-9b3685c9eb79",
   "metadata": {},
   "outputs": [
    {
     "data": {
      "text/plain": [
       "'I am very happy today'"
      ]
     },
     "execution_count": 7,
     "metadata": {},
     "output_type": "execute_result"
    }
   ],
   "source": [
    "#Capitalizes the first character of the string. Syntax: \"str\".capitalize()\n",
    "\"i am very happy today\".capitalize()"
   ]
  },
  {
   "cell_type": "markdown",
   "id": "17d1b11f-552d-4bc9-ab2d-d5c3893589f1",
   "metadata": {},
   "source": [
    "### 4. Strip Function"
   ]
  },
  {
   "cell_type": "code",
   "execution_count": 10,
   "id": "b447fc85-3d40-433f-9a3a-d770db54d97d",
   "metadata": {},
   "outputs": [
    {
     "data": {
      "text/plain": [
       "'hello'"
      ]
     },
     "execution_count": 10,
     "metadata": {},
     "output_type": "execute_result"
    }
   ],
   "source": [
    "#removes leading characters from the string (whitespace by default)\n",
    "\" hello   \".strip()"
   ]
  },
  {
   "cell_type": "code",
   "execution_count": 16,
   "id": "72928263-a20c-4613-a55a-21d469355db0",
   "metadata": {},
   "outputs": [
    {
     "name": "stdout",
     "output_type": "stream",
     "text": [
      "Ria Institute   \n",
      "   Ria Institute\n"
     ]
    }
   ],
   "source": [
    "#lstrip: - removes leading characters from the left.\n",
    "#rstrip: - removes leading characters from the right.\n",
    "print(\"   Ria Institute   \".lstrip())\n",
    "print(\"   Ria Institute   \".rstrip())"
   ]
  },
  {
   "cell_type": "markdown",
   "id": "592769e0-451b-4fd3-a5c9-27121fe39926",
   "metadata": {},
   "source": [
    "### 5. Replace Function"
   ]
  },
  {
   "cell_type": "code",
   "execution_count": 19,
   "id": "8131184f-438d-4c99-ae9a-3f2909ec8357",
   "metadata": {},
   "outputs": [
    {
     "data": {
      "text/plain": [
       "'I used to train people earlier at Amity Univ.,Pune'"
      ]
     },
     "execution_count": 19,
     "metadata": {},
     "output_type": "execute_result"
    }
   ],
   "source": [
    "#Syntax: - \"str\".replace(\"word to be rplaced in the string\",\"word which will come instead of previous word in the string\")\n",
    "\"I used to train people earlier at Symbiosis Univ.,Pune\".replace(\"Symbiosis\",\"Amity\")"
   ]
  },
  {
   "cell_type": "markdown",
   "id": "91d122d9-0bd9-44f2-b663-ff77b9208fea",
   "metadata": {},
   "source": [
    "### 6. Split Function"
   ]
  },
  {
   "cell_type": "code",
   "execution_count": 28,
   "id": "230b6832-89f4-40ee-bed8-6eb223ba72b1",
   "metadata": {},
   "outputs": [
    {
     "data": {
      "text/plain": [
       "['I', ' am a Millionaire']"
      ]
     },
     "execution_count": 28,
     "metadata": {},
     "output_type": "execute_result"
    }
   ],
   "source": [
    "#Splits the strings into a list of substrings based on separator. (takes whitespace by default)\n",
    "\"I: am a Millionaire\".split(sep=\":\")"
   ]
  },
  {
   "cell_type": "markdown",
   "id": "c2395b1c-6f81-4d89-93ee-045aea0c7716",
   "metadata": {},
   "source": [
    "### 7. Join Function"
   ]
  },
  {
   "cell_type": "code",
   "execution_count": 44,
   "id": "7d6935e0-f0eb-403d-b131-2b27f4ff7205",
   "metadata": {},
   "outputs": [
    {
     "data": {
      "text/plain": [
       "'parmindermam is in usa'"
      ]
     },
     "execution_count": 44,
     "metadata": {},
     "output_type": "execute_result"
    }
   ],
   "source": [
    "#it concatenates the given set of strings in the iterable with the string as the separator.\n",
    "\", \".join([\"parminder\" \"mam is in usa\"])"
   ]
  },
  {
   "cell_type": "code",
   "execution_count": null,
   "id": "8b6aaf4d-3c70-49f1-b518-85379d811d8f",
   "metadata": {},
   "outputs": [],
   "source": []
  }
 ],
 "metadata": {
  "kernelspec": {
   "display_name": "Python 3 (ipykernel)",
   "language": "python",
   "name": "python3"
  },
  "language_info": {
   "codemirror_mode": {
    "name": "ipython",
    "version": 3
   },
   "file_extension": ".py",
   "mimetype": "text/x-python",
   "name": "python",
   "nbconvert_exporter": "python",
   "pygments_lexer": "ipython3",
   "version": "3.12.4"
  }
 },
 "nbformat": 4,
 "nbformat_minor": 5
}

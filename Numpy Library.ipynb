{
 "cells": [
  {
   "cell_type": "code",
   "execution_count": 3,
   "id": "daf9904c-9d44-470c-9226-3b6efb82f3aa",
   "metadata": {},
   "outputs": [],
   "source": [
    "import numpy as np\n",
    "#Linear Algebra, Determinants & Matrices: - \n",
    "#We use this library to form data arrays using python which is a homogentic arrangement of elements across the structure.\n",
    "#we require this to make data arrays and so that the data can be analyzed perfectly."
   ]
  },
  {
   "cell_type": "code",
   "execution_count": 5,
   "id": "b49b0500-d496-4892-a20e-1b112a9a6f76",
   "metadata": {},
   "outputs": [],
   "source": [
    "a=np.array([(1,2,3),(4,5,6),(7,8,9)])"
   ]
  },
  {
   "cell_type": "code",
   "execution_count": 7,
   "id": "66c8e58d-56ff-4aea-992f-08487b3e0b65",
   "metadata": {},
   "outputs": [
    {
     "data": {
      "text/plain": [
       "2"
      ]
     },
     "execution_count": 7,
     "metadata": {},
     "output_type": "execute_result"
    }
   ],
   "source": [
    "#Dimension of an array: - \n",
    "a.ndim"
   ]
  },
  {
   "cell_type": "code",
   "execution_count": 9,
   "id": "24bdd001-2b07-40e8-a790-13f321edaf79",
   "metadata": {},
   "outputs": [
    {
     "data": {
      "text/plain": [
       "array([[1, 2, 3],\n",
       "       [4, 5, 6],\n",
       "       [7, 8, 9]])"
      ]
     },
     "execution_count": 9,
     "metadata": {},
     "output_type": "execute_result"
    }
   ],
   "source": [
    "a"
   ]
  },
  {
   "cell_type": "code",
   "execution_count": 11,
   "id": "809decd4-24e2-412a-bf11-782ce1aae52d",
   "metadata": {},
   "outputs": [
    {
     "data": {
      "text/plain": [
       "4"
      ]
     },
     "execution_count": 11,
     "metadata": {},
     "output_type": "execute_result"
    }
   ],
   "source": [
    "a.itemsize"
   ]
  },
  {
   "cell_type": "code",
   "execution_count": 13,
   "id": "7f435c4f-3c25-4fc2-9d5f-180a667caa68",
   "metadata": {},
   "outputs": [
    {
     "data": {
      "text/plain": [
       "(3, 3)"
      ]
     },
     "execution_count": 13,
     "metadata": {},
     "output_type": "execute_result"
    }
   ],
   "source": [
    "a.shape"
   ]
  },
  {
   "cell_type": "code",
   "execution_count": 15,
   "id": "398c41d2-f896-4170-9ed9-6d65f5e01fc1",
   "metadata": {},
   "outputs": [
    {
     "name": "stdout",
     "output_type": "stream",
     "text": [
      "Scalar 56\n",
      "ndim: 0\n",
      "\n",
      "1D Array: [1 2 3 4]\n",
      "ndim: 1\n",
      "\n",
      "2D Array: [[1 2 3]\n",
      " [4 5 6]]\n",
      "ndim: 2\n",
      "\n",
      "3D Array: [[[1 2]\n",
      "  [3 4]]\n",
      "\n",
      " [[5 6]\n",
      "  [7 8]]]\n",
      "ndim: 3\n"
     ]
    }
   ],
   "source": [
    "#Scalar (0 D Array): - \n",
    "scalar = np.array(56)\n",
    "print(\"Scalar\",scalar)\n",
    "print(\"ndim:\",scalar.ndim)\n",
    "\n",
    "#1D Array: - \n",
    "arr_1d = np.array([1,2,3,4])\n",
    "print(\"\\n1D Array:\",arr_1d)\n",
    "print(\"ndim:\",arr_1d.ndim)\n",
    "\n",
    "#2D Array: - \n",
    "arr_2d = np.array([[1,2,3],[4,5,6]])\n",
    "print(\"\\n2D Array:\",arr_2d)\n",
    "print(\"ndim:\",arr_2d.ndim)\n",
    "\n",
    "#3D Array: - \n",
    "arr_3d = np.array([[[1,2],[3,4]],[[5,6],[7,8]]])\n",
    "print(\"\\n3D Array:\",arr_3d)\n",
    "print(\"ndim:\",arr_3d.ndim)"
   ]
  },
  {
   "cell_type": "code",
   "execution_count": 17,
   "id": "71b85680-2c57-4cf6-91b8-d7b8a3e63af2",
   "metadata": {},
   "outputs": [
    {
     "name": "stdout",
     "output_type": "stream",
     "text": [
      "\n",
      "3D Array: [[[1 2]\n",
      "  [3 4]]\n",
      "\n",
      " [[5 6]\n",
      "  [7 8]]]\n",
      "ndim: 3\n"
     ]
    }
   ],
   "source": [
    "# 2 code blocks, 2 rows & 2 columns\n",
    "arr_3d = np.array([[[1,2],[3,4]],[[5,6],[7,8]]])\n",
    "print(\"\\n3D Array:\",arr_3d)\n",
    "print(\"ndim:\",arr_3d.ndim)"
   ]
  },
  {
   "cell_type": "code",
   "execution_count": 19,
   "id": "1af4a83f-8b2a-4c99-9748-b6cd476551af",
   "metadata": {},
   "outputs": [
    {
     "name": "stdout",
     "output_type": "stream",
     "text": [
      "\n",
      "4D Array: [[[[ 1  2  3  4]\n",
      "   [ 5  6  7  8]\n",
      "   [ 9 10 11 12]]\n",
      "\n",
      "  [[13 14 15 16]\n",
      "   [17 18 19 20]\n",
      "   [21 22 23 24]]]\n",
      "\n",
      "\n",
      " [[[25 26 27 28]\n",
      "   [29 30 31 32]\n",
      "   [33 34 35 36]]\n",
      "\n",
      "  [[37 38 39 40]\n",
      "   [41 42 43 44]\n",
      "   [45 46 47 48]]]]\n",
      "ndim: 4\n"
     ]
    }
   ],
   "source": [
    "# 2 groups, 2 code blocks, 3 rows & 4 columns\n",
    "arr_4d = np.array([\n",
    "    [ # First Group\n",
    "        [[1,2,3,4],[5,6,7,8],[9,10,11,12]], #First Block\n",
    "        [[13,14,15,16],[17,18,19,20],[21,22,23,24]] #Second Block\n",
    "    ],\n",
    "    [# Second Group\n",
    "        [[25,26,27,28],[29,30,31,32],[33,34,35,36]],\n",
    "        [[37,38,39,40],[41,42,43,44],[45,46,47,48]]\n",
    "    ]\n",
    "])\n",
    "print(\"\\n4D Array:\",arr_4d)\n",
    "print(\"ndim:\",arr_4d.ndim)"
   ]
  },
  {
   "cell_type": "markdown",
   "id": "e22c3a50-d57e-43fb-bb93-33bbba56330a",
   "metadata": {},
   "source": [
    "### Data Manipulations using Arrays: -"
   ]
  },
  {
   "cell_type": "code",
   "execution_count": 22,
   "id": "81d1e4f3-5ed7-4d23-a83a-656a15e521bb",
   "metadata": {},
   "outputs": [],
   "source": [
    "import numpy as np"
   ]
  },
  {
   "cell_type": "code",
   "execution_count": 28,
   "id": "a394b8b5-236f-4a21-a748-56192049b0bb",
   "metadata": {},
   "outputs": [
    {
     "name": "stdout",
     "output_type": "stream",
     "text": [
      "3d_Array:\n",
      "[[[ 1  2  3  4]\n",
      "  [ 5  6  7  8]\n",
      "  [ 9 10 11 12]]\n",
      "\n",
      " [[13 14 15 16]\n",
      "  [17 18 19 20]\n",
      "  [21 22 23 24]]]\n",
      "\n",
      " shape of the array is: (2, 3, 4)\n",
      "\n",
      "Element at block 1, row 2, column 3: 7\n",
      "\n",
      "Element at block 2, row 3, column 2: 22\n",
      "\n",
      " Second Block: \n",
      "[[13 14 15 16]\n",
      " [17 18 19 20]\n",
      " [21 22 23 24]]\n",
      "\n",
      " first column of each block\n",
      "[[ 1  5  9]\n",
      " [13 17 21]]\n",
      "\n",
      " first row of each block\n",
      "[[ 1  2  3  4]\n",
      " [13 14 15 16]]\n",
      "\n",
      " specific set of elements\n",
      "\n",
      " specific set of sliced elements\n",
      "\n",
      " Extracted Elements:\n",
      "[1 2 5 6]\n",
      "\n",
      " Extracted Elements:\n",
      "[19 20 23 24]\n",
      "\n",
      " Extracted Elements:\n",
      "[ 6  7 18 19]\n"
     ]
    }
   ],
   "source": [
    "#Create a 3D array - \n",
    "array_3d = np.array([\n",
    "    [[1,2,3,4],[5,6,7,8],[9,10,11,12]], #first Block\n",
    "    [[13,14,15,16],[17,18,19,20],[21,22,23,24]] #second Block\n",
    "])\n",
    "\n",
    "print(\"3d_Array:\")\n",
    "print(array_3d)\n",
    "\n",
    "#Shape of the array: - (Output Syntax: - Block, Row, Column)\n",
    "print(\"\\n shape of the array is:\",array_3d.shape)\n",
    "\n",
    "#Access elements: - (Output Syntax: - Indices # of [Block, Row, Column])\n",
    "print(\"\\nElement at block 1, row 2, column 3:\",array_3d[0,1,2])\n",
    "print(\"\\nElement at block 2, row 3, column 2:\",array_3d[1,2,1])\n",
    "\n",
    "#Access all the elements: - \n",
    "print(\"\\n Second Block: \")\n",
    "print(array_3d[1])\n",
    "\n",
    "#Access the specific set of elements: - \n",
    "print(\"\\n first column of each block\")\n",
    "print(array_3d[:,:,0])\n",
    "\n",
    "print(\"\\n first row of each block\")\n",
    "print(array_3d[:,0,:])\n",
    "\n",
    "print(\"\\n specific set of elements\") #Indices of [Block, Row, Column]\n",
    "result = (array_3d[0,0:2,0:2])\n",
    "result_1 = (array_3d[1,1:3,2:4])\n",
    "\n",
    "print(\"\\n specific set of sliced elements\")\n",
    "result_2 = (array_3d[:,1,1:3]) \n",
    "\n",
    "print(\"\\n Extracted Elements:\")\n",
    "print(result.flatten())\n",
    "\n",
    "print(\"\\n Extracted Elements:\")\n",
    "print(result_1.flatten())\n",
    "\n",
    "print(\"\\n Extracted Elements:\")\n",
    "print(result_2.flatten())"
   ]
  },
  {
   "cell_type": "markdown",
   "id": "2ab1a562-ce0d-4dfd-875b-3fd4243e5d8c",
   "metadata": {},
   "source": [
    "## Array Methods: - "
   ]
  },
  {
   "cell_type": "markdown",
   "id": "5455e7a3-4519-45e7-9556-20092fcca9f4",
   "metadata": {},
   "source": [
    "### Array creation Methods"
   ]
  },
  {
   "cell_type": "code",
   "execution_count": 36,
   "id": "8dc92617-2808-47ef-9fd5-08cecb1d0595",
   "metadata": {},
   "outputs": [
    {
     "data": {
      "text/plain": [
       "array([1, 2, 3, 4])"
      ]
     },
     "execution_count": 36,
     "metadata": {},
     "output_type": "execute_result"
    }
   ],
   "source": [
    "# np.array() - Converts a list or a tuple into an array.\n",
    "arr_345 = np.array([1,2,3,4])\n",
    "arr_345"
   ]
  },
  {
   "cell_type": "code",
   "execution_count": 42,
   "id": "6f5b5098-d574-4f3f-9899-b87405e98b1a",
   "metadata": {},
   "outputs": [
    {
     "data": {
      "text/plain": [
       "array([[0., 0., 0.],\n",
       "       [0., 0., 0.]])"
      ]
     },
     "execution_count": 42,
     "metadata": {},
     "output_type": "execute_result"
    }
   ],
   "source": [
    "#np.zeroes() - Creates an array filled with zeroes.\n",
    "arr_678 = np.zeros((2,3))\n",
    "arr_678"
   ]
  },
  {
   "cell_type": "code",
   "execution_count": 44,
   "id": "eb17e3a9-f9ed-4589-b083-43f7d1ec973d",
   "metadata": {},
   "outputs": [
    {
     "data": {
      "text/plain": [
       "array([[1., 1., 1.],\n",
       "       [1., 1., 1.]])"
      ]
     },
     "execution_count": 44,
     "metadata": {},
     "output_type": "execute_result"
    }
   ],
   "source": [
    "#np.ones() - Creates an array filled with ones.\n",
    "arr_897 = np.ones((2,3))\n",
    "arr_897"
   ]
  },
  {
   "cell_type": "code",
   "execution_count": 54,
   "id": "dba7e038-58aa-4d49-a578-1163fcdc2449",
   "metadata": {},
   "outputs": [],
   "source": [
    "#np.arange() - creates an array with a range of numbers.\n",
    "art_978 = np.arange(1,11,3)"
   ]
  },
  {
   "cell_type": "code",
   "execution_count": 56,
   "id": "8cf7915c-5f1c-42c9-b1f4-8dd82308794c",
   "metadata": {},
   "outputs": [
    {
     "data": {
      "text/plain": [
       "array([ 1,  4,  7, 10])"
      ]
     },
     "execution_count": 56,
     "metadata": {},
     "output_type": "execute_result"
    }
   ],
   "source": [
    "art_978"
   ]
  },
  {
   "cell_type": "code",
   "execution_count": null,
   "id": "461336a8-8a82-4d91-b527-15fabdd4ec5c",
   "metadata": {},
   "outputs": [],
   "source": []
  }
 ],
 "metadata": {
  "kernelspec": {
   "display_name": "Python 3 (ipykernel)",
   "language": "python",
   "name": "python3"
  },
  "language_info": {
   "codemirror_mode": {
    "name": "ipython",
    "version": 3
   },
   "file_extension": ".py",
   "mimetype": "text/x-python",
   "name": "python",
   "nbconvert_exporter": "python",
   "pygments_lexer": "ipython3",
   "version": "3.12.4"
  }
 },
 "nbformat": 4,
 "nbformat_minor": 5
}

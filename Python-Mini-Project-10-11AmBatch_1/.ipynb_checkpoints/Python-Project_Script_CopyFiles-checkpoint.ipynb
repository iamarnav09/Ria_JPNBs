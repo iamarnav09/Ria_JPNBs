{
 "cells": [
  {
   "cell_type": "code",
   "execution_count": 3,
   "id": "68032906-cae2-4d01-9641-d44dba6a2038",
   "metadata": {},
   "outputs": [],
   "source": [
    "import os\n",
    "import shutil\n",
    "import pandas as pd\n",
    "from tqdm import tqdm"
   ]
  },
  {
   "cell_type": "code",
   "execution_count": 13,
   "id": "7dc57156-928f-4def-a678-05987af59484",
   "metadata": {},
   "outputs": [
    {
     "name": "stdout",
     "output_type": "stream",
     "text": [
      "['ML Datasets' 'Non-ML Datasets']\n",
      "\n",
      "Copying [file_type] Files:\n",
      "ML Datasets\n"
     ]
    },
    {
     "name": "stderr",
     "output_type": "stream",
     "text": [
      "100%|████████████████████████████████████████████████████████████████████████████████████| 9/9 [00:00<00:00, 45.04it/s]\n"
     ]
    },
    {
     "name": "stdout",
     "output_type": "stream",
     "text": [
      "\n",
      "Copying [file_type] Files:\n",
      "Non-ML Datasets\n"
     ]
    },
    {
     "name": "stderr",
     "output_type": "stream",
     "text": [
      "100%|███████████████████████████████████████████████████████████████████████████████████| 9/9 [00:00<00:00, 451.23it/s]"
     ]
    },
    {
     "name": "stdout",
     "output_type": "stream",
     "text": [
      "Non-ML Datasets files copied successfully\n"
     ]
    },
    {
     "name": "stderr",
     "output_type": "stream",
     "text": [
      "\n"
     ]
    }
   ],
   "source": [
    "def copy_files(settings_file):\n",
    "    df=pd.read_excel(settings_file, sheet_name = \"Sheet1\")\n",
    "    file_types = df['FileType'].unique()\n",
    "    print(file_types)\n",
    "\n",
    "    for file_type in file_types:\n",
    "#code snippet for copy status\n",
    "        df_filtered = df[df['FileType']==file_type] #i will explain this at the end\n",
    "        print(f\"\\nCopying [file_type] Files:\")\n",
    "        print(file_type)\n",
    "#code snippet for progress bar\n",
    "        for row in tqdm(df_filtered.itertuples(),total=df_filtered.shape[0]):\n",
    "            source_path = getattr(row,'Source_Directory')\n",
    "            dest_path=getattr(row,'Destination_Directory')\n",
    "\n",
    "            if os.path.exists(source_path):\n",
    "                shutil.copy2(source_path,dest_path)\n",
    "            else:\n",
    "                print(f\"\\nERROR:Check path in {file_type}\")\n",
    "    print(f\"{file_type} files copied successfully\")\n",
    "copy_files(r\"C:\\Users\\ADMIN1\\Downloads\\Python_Project_1-20250110T045604Z-001\\Python_Project_1\\Data_Files\\for_project.xlsx\")"
   ]
  },
  {
   "cell_type": "code",
   "execution_count": 10,
   "id": "dc0e7e4e-7fe1-449b-90d2-61a451b615cb",
   "metadata": {},
   "outputs": [
    {
     "data": {
      "text/plain": [
       "'C:\\\\Users\\\\ADMIN1'"
      ]
     },
     "execution_count": 10,
     "metadata": {},
     "output_type": "execute_result"
    }
   ],
   "source": [
    "pwd"
   ]
  },
  {
   "cell_type": "code",
   "execution_count": 7,
   "id": "dd10cbb9-1bc3-43be-a5b3-3009c11f15f4",
   "metadata": {},
   "outputs": [
    {
     "ename": "NameError",
     "evalue": "name 'file_types' is not defined",
     "output_type": "error",
     "traceback": [
      "\u001b[1;31m---------------------------------------------------------------------------\u001b[0m",
      "\u001b[1;31mNameError\u001b[0m                                 Traceback (most recent call last)",
      "Cell \u001b[1;32mIn[7], line 1\u001b[0m\n\u001b[1;32m----> 1\u001b[0m file_types\n",
      "\u001b[1;31mNameError\u001b[0m: name 'file_types' is not defined"
     ]
    }
   ],
   "source": [
    "file_types"
   ]
  },
  {
   "cell_type": "code",
   "execution_count": null,
   "id": "06c7da67-aa56-4bb5-a32c-cd507e700bec",
   "metadata": {},
   "outputs": [],
   "source": []
  }
 ],
 "metadata": {
  "kernelspec": {
   "display_name": "Python 3 (ipykernel)",
   "language": "python",
   "name": "python3"
  },
  "language_info": {
   "codemirror_mode": {
    "name": "ipython",
    "version": 3
   },
   "file_extension": ".py",
   "mimetype": "text/x-python",
   "name": "python",
   "nbconvert_exporter": "python",
   "pygments_lexer": "ipython3",
   "version": "3.12.4"
  }
 },
 "nbformat": 4,
 "nbformat_minor": 5
}

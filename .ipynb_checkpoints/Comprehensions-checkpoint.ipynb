{
 "cells": [
  {
   "cell_type": "code",
   "execution_count": null,
   "id": "010bd86c-696c-48a9-90be-238ef9186ca5",
   "metadata": {},
   "outputs": [],
   "source": [
    "# they provide a concise way to create lists, dictionaries and sets. They are often more readable and faster than traditional loops."
   ]
  },
  {
   "cell_type": "code",
   "execution_count": 3,
   "id": "ba7bf6af-541f-47ca-87da-5f23c6b548df",
   "metadata": {},
   "outputs": [],
   "source": [
    "# Create a list of tuples where each tuple contains a number and its square, for numbers from 1 to 7.\n",
    "# [(1,1),(2,4)...]"
   ]
  },
  {
   "cell_type": "code",
   "execution_count": 5,
   "id": "7066ba7f-2994-4731-b932-da4e0f983d21",
   "metadata": {},
   "outputs": [
    {
     "name": "stdout",
     "output_type": "stream",
     "text": [
      "[(1, 1), (2, 4), (3, 9), (4, 16), (5, 25), (6, 36), (7, 49)]\n"
     ]
    }
   ],
   "source": [
    "number_and_square = [(x,x**2) for x in range(1,8)]\n",
    "print(number_and_square)"
   ]
  },
  {
   "cell_type": "code",
   "execution_count": 7,
   "id": "c5f07c49-fd8f-4f41-b565-920aefe0a9c3",
   "metadata": {},
   "outputs": [],
   "source": [
    "#Generate a list of numbers from 1 to 100 that are prime."
   ]
  },
  {
   "cell_type": "code",
   "execution_count": 9,
   "id": "6e0233e3-af3b-49a2-a606-852772d7358e",
   "metadata": {},
   "outputs": [
    {
     "name": "stdout",
     "output_type": "stream",
     "text": [
      "[2, 3, 5, 7, 11, 13, 17, 19, 23, 29, 31, 37, 41, 43, 47, 53, 59, 61, 67, 71, 73, 79, 83, 89, 97]\n"
     ]
    }
   ],
   "source": [
    "prime_numbers = [x for x in range(2,101) if all(x%y != 0 for y in range(2, int(x**0.5) +1))]\n",
    "print(prime_numbers)"
   ]
  },
  {
   "cell_type": "code",
   "execution_count": 11,
   "id": "c2374854-25f1-47b2-b6b7-4f1fa514e925",
   "metadata": {},
   "outputs": [],
   "source": [
    "#range(2,101) - Iterates through numbers from 2 to 100 (1 is not a prime number)\n",
    "#all(x%y != 0 for y in range(2, int(x**0.5) +1)) : - \n",
    "# checks the divisibility of x by all numbers y from 2 to the square root of x to optimize the performance.\n",
    "# this returns True if x is not divisible by any of theses y values, meaning it is a prime number."
   ]
  },
  {
   "cell_type": "markdown",
   "id": "86bd5da8-c5cf-41f4-bc35-ae135e11b764",
   "metadata": {},
   "source": [
    "### Nested Comprehensions: - "
   ]
  },
  {
   "cell_type": "code",
   "execution_count": 22,
   "id": "018a17f0-f6b7-4347-b575-822cf7b41e62",
   "metadata": {},
   "outputs": [
    {
     "name": "stdout",
     "output_type": "stream",
     "text": [
      "[[0, 1, 2], [0, 1, 2], [0, 1, 2], [0, 1, 2], [0, 1, 2]]\n"
     ]
    }
   ],
   "source": [
    "matrix = [[j for j in range(3)] for i in range(0,5)]\n",
    "print(matrix)"
   ]
  },
  {
   "cell_type": "raw",
   "id": "efc52a07-3409-4960-a0b7-ba7d1db6f0a4",
   "metadata": {},
   "source": [
    "#Create a 3x3 matrix filled with zeroes using list comprehension: - \n",
    "[[0,0,0],\n",
    "[0,0,0],\n",
    "[0,0,0]]"
   ]
  },
  {
   "cell_type": "code",
   "execution_count": 3,
   "id": "1f0293e7-467f-4723-9ac2-6da7f382045b",
   "metadata": {},
   "outputs": [
    {
     "name": "stdout",
     "output_type": "stream",
     "text": [
      "[[0, 0, 0], [0, 0, 0], [0, 0, 0]]\n"
     ]
    }
   ],
   "source": [
    "matrix_1 = [[0 for _ in range(3)] for _ in range(3)]\n",
    "print(matrix_1)"
   ]
  },
  {
   "cell_type": "code",
   "execution_count": 7,
   "id": "3757f37a-6a7d-4e16-9a77-52e6269411d8",
   "metadata": {},
   "outputs": [
    {
     "data": {
      "text/plain": [
       "[(1, 'a'),\n",
       " (1, 'b'),\n",
       " (1, 'c'),\n",
       " (2, 'a'),\n",
       " (2, 'b'),\n",
       " (2, 'c'),\n",
       " (3, 'a'),\n",
       " (3, 'b'),\n",
       " (3, 'c')]"
      ]
     },
     "execution_count": 7,
     "metadata": {},
     "output_type": "execute_result"
    }
   ],
   "source": [
    "#Create a list of all possible pairs(tuples) from two lists [1,2,3] and [a,b,c]\n",
    "pairs = [(x,y) for x in [1,2,3] for y in ['a','b','c']]\n",
    "pairs"
   ]
  },
  {
   "cell_type": "code",
   "execution_count": 15,
   "id": "4dd7bda6-9093-46d2-a66c-2cb3aa9dd996",
   "metadata": {},
   "outputs": [
    {
     "data": {
      "text/plain": [
       "[[1, 3, 5, 7], [1, 3, 5, 7], [1, 3, 5, 7], [1, 3, 5, 7]]"
      ]
     },
     "execution_count": 15,
     "metadata": {},
     "output_type": "execute_result"
    }
   ],
   "source": [
    "#Create a list of lists where each sublist contains numbers from 1 to 5, but only if they are odd.\n",
    "odd_numbers = [[x for x in range(1,9) if x%2 != 0] for _ in range(4)]\n",
    "odd_numbers"
   ]
  },
  {
   "cell_type": "code",
   "execution_count": null,
   "id": "08b02265-ef2d-4a78-985f-f1f2e150a83b",
   "metadata": {},
   "outputs": [],
   "source": []
  }
 ],
 "metadata": {
  "kernelspec": {
   "display_name": "Python 3 (ipykernel)",
   "language": "python",
   "name": "python3"
  },
  "language_info": {
   "codemirror_mode": {
    "name": "ipython",
    "version": 3
   },
   "file_extension": ".py",
   "mimetype": "text/x-python",
   "name": "python",
   "nbconvert_exporter": "python",
   "pygments_lexer": "ipython3",
   "version": "3.12.4"
  }
 },
 "nbformat": 4,
 "nbformat_minor": 5
}

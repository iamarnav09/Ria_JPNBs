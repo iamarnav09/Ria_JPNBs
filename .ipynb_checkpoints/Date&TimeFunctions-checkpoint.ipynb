{
 "cells": [
  {
   "cell_type": "markdown",
   "id": "4bc46929-4952-48a8-a48b-2b02e8f35a74",
   "metadata": {},
   "source": [
    "### Working with time and dates"
   ]
  },
  {
   "cell_type": "code",
   "execution_count": 24,
   "id": "ab1a7d49-686f-441f-bb5b-edbcc72a1e5f",
   "metadata": {},
   "outputs": [],
   "source": [
    "#inbuilt datetime library got called here.\n",
    "from datetime import datetime, date, time, timedelta"
   ]
  },
  {
   "cell_type": "code",
   "execution_count": 26,
   "id": "bde70607-8785-4654-a10a-65a0cca4847b",
   "metadata": {},
   "outputs": [
    {
     "name": "stdout",
     "output_type": "stream",
     "text": [
      "2024-11-21\n"
     ]
    }
   ],
   "source": [
    "# 1. date.today()\n",
    "from datetime import date\n",
    "today_date = date.today()\n",
    "print(today_date)\n",
    "# YYYY - MM - DD"
   ]
  },
  {
   "cell_type": "code",
   "execution_count": 34,
   "id": "6bf56437-5017-4c3f-9e5c-e2a778067cde",
   "metadata": {},
   "outputs": [
    {
     "name": "stdout",
     "output_type": "stream",
     "text": [
      "2024-11-21 09:01:55.350902\n"
     ]
    }
   ],
   "source": [
    "#2. datetime.now() - this helps us to get the timestamp of the current date. - IST\n",
    "print(datetime.now())"
   ]
  },
  {
   "cell_type": "code",
   "execution_count": 30,
   "id": "3fc17d91-2e67-4142-aa40-796a652a3d01",
   "metadata": {},
   "outputs": [
    {
     "data": {
      "text/plain": [
       "datetime.datetime(2024, 11, 11, 0, 0)"
      ]
     },
     "execution_count": 30,
     "metadata": {},
     "output_type": "execute_result"
    }
   ],
   "source": [
    "#3. Converts a date string into a datetime object using the specified format\n",
    "date_string = \"2024-11-11\"\n",
    "format = \"%Y-%m-%d\"\n",
    "datetime.strptime(date_string, format)"
   ]
  },
  {
   "cell_type": "raw",
   "id": "ef570731-754a-4864-8951-91d9d191db83",
   "metadata": {},
   "source": [
    "\n",
    "#4. datetime.strftime(format)- Converts a datetime object to a specified string.\n",
    "dating = datetime.now\n",
    "datetime.strftime(\"%d-%m-%Y\")\n",
    "print(formatted_date)"
   ]
  },
  {
   "cell_type": "markdown",
   "id": "09632358-30bc-4c6e-bc84-a50a32ca2c2c",
   "metadata": {},
   "source": [
    "### Date Arithmetic"
   ]
  },
  {
   "cell_type": "code",
   "execution_count": 68,
   "id": "a3a259d5-12d4-48d6-acfb-d54e3f8156e1",
   "metadata": {},
   "outputs": [
    {
     "name": "stdin",
     "output_type": "stream",
     "text": [
      "Enter the no. of days 9\n"
     ]
    },
    {
     "name": "stdout",
     "output_type": "stream",
     "text": [
      "2024-11-30\n"
     ]
    }
   ],
   "source": [
    "#timedelta : - represents a duration or difference between two dates/times.\n",
    "delta = timedelta(days= int(input(\"Enter the no. of days\")))\n",
    "future_date = today_date + delta\n",
    "print(future_date)"
   ]
  },
  {
   "cell_type": "code",
   "execution_count": 72,
   "id": "5424831a-62bc-4712-92bd-fa9d5016841d",
   "metadata": {},
   "outputs": [
    {
     "name": "stdout",
     "output_type": "stream",
     "text": [
      "6 days, 0:00:00\n"
     ]
    }
   ],
   "source": [
    "#subtracting dates: - \n",
    "date1 = date(2024, 11, 11)\n",
    "date2 = date(2024, 11, 5)\n",
    "difference = date1 - date2\n",
    "print(difference)"
   ]
  },
  {
   "cell_type": "code",
   "execution_count": null,
   "id": "53aaf466-49d2-484a-a300-709119daeb63",
   "metadata": {},
   "outputs": [],
   "source": []
  }
 ],
 "metadata": {
  "kernelspec": {
   "display_name": "Python 3 (ipykernel)",
   "language": "python",
   "name": "python3"
  },
  "language_info": {
   "codemirror_mode": {
    "name": "ipython",
    "version": 3
   },
   "file_extension": ".py",
   "mimetype": "text/x-python",
   "name": "python",
   "nbconvert_exporter": "python",
   "pygments_lexer": "ipython3",
   "version": "3.12.4"
  }
 },
 "nbformat": 4,
 "nbformat_minor": 5
}

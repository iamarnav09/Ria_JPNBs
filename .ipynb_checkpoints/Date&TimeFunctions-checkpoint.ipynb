{
 "cells": [
  {
   "cell_type": "markdown",
   "id": "4bc46929-4952-48a8-a48b-2b02e8f35a74",
   "metadata": {},
   "source": [
    "### Working with time and dates"
   ]
  },
  {
   "cell_type": "code",
   "execution_count": 2,
   "id": "ab1a7d49-686f-441f-bb5b-edbcc72a1e5f",
   "metadata": {},
   "outputs": [],
   "source": [
    "#inbuilt datetime library got called here.\n",
    "from datetime import datetime, date, time, timedelta"
   ]
  },
  {
   "cell_type": "code",
   "execution_count": 3,
   "id": "bde70607-8785-4654-a10a-65a0cca4847b",
   "metadata": {},
   "outputs": [
    {
     "name": "stdout",
     "output_type": "stream",
     "text": [
      "2024-11-22\n"
     ]
    }
   ],
   "source": [
    "# 1. date.today()\n",
    "from datetime import date\n",
    "today_date = date.today()\n",
    "print(today_date)\n",
    "# YYYY - MM - DD"
   ]
  },
  {
   "cell_type": "code",
   "execution_count": 4,
   "id": "6bf56437-5017-4c3f-9e5c-e2a778067cde",
   "metadata": {},
   "outputs": [
    {
     "name": "stdout",
     "output_type": "stream",
     "text": [
      "2024-11-22 08:20:52.347681\n"
     ]
    }
   ],
   "source": [
    "#2. datetime.now() - this helps us to get the timestamp of the current date. - IST\n",
    "print(datetime.now())"
   ]
  },
  {
   "cell_type": "code",
   "execution_count": 5,
   "id": "3fc17d91-2e67-4142-aa40-796a652a3d01",
   "metadata": {},
   "outputs": [
    {
     "data": {
      "text/plain": [
       "datetime.datetime(2024, 11, 11, 0, 0)"
      ]
     },
     "execution_count": 5,
     "metadata": {},
     "output_type": "execute_result"
    }
   ],
   "source": [
    "#3. Converts a date string into a datetime object using the specified format\n",
    "date_string = \"2024-11-11\"\n",
    "format = \"%Y-%m-%d\"\n",
    "datetime.strptime(date_string, format)"
   ]
  },
  {
   "cell_type": "raw",
   "id": "ef570731-754a-4864-8951-91d9d191db83",
   "metadata": {},
   "source": [
    "\n",
    "#4. datetime.strftime(format)- Converts a datetime object to a specified string.\n",
    "dating = datetime.now\n",
    "datetime.strftime(\"%d-%m-%Y\")\n",
    "print(formatted_date)"
   ]
  },
  {
   "cell_type": "markdown",
   "id": "09632358-30bc-4c6e-bc84-a50a32ca2c2c",
   "metadata": {},
   "source": [
    "### Date Arithmetic"
   ]
  },
  {
   "cell_type": "code",
   "execution_count": 7,
   "id": "a3a259d5-12d4-48d6-acfb-d54e3f8156e1",
   "metadata": {},
   "outputs": [
    {
     "name": "stdin",
     "output_type": "stream",
     "text": [
      "Enter the no. of days 7\n"
     ]
    },
    {
     "name": "stdout",
     "output_type": "stream",
     "text": [
      "2024-11-29\n"
     ]
    }
   ],
   "source": [
    "#timedelta : - represents a duration or difference between two dates/times.\n",
    "delta = timedelta(days= int(input(\"Enter the no. of days\")))\n",
    "future_date = today_date + delta\n",
    "print(future_date)"
   ]
  },
  {
   "cell_type": "code",
   "execution_count": 8,
   "id": "5424831a-62bc-4712-92bd-fa9d5016841d",
   "metadata": {},
   "outputs": [
    {
     "name": "stdout",
     "output_type": "stream",
     "text": [
      "6 days, 0:00:00\n"
     ]
    }
   ],
   "source": [
    "#subtracting dates: - \n",
    "date1 = date(2024, 11, 11)\n",
    "date2 = date(2024, 11, 5)\n",
    "difference = date1 - date2\n",
    "print(difference)"
   ]
  },
  {
   "cell_type": "markdown",
   "id": "834110ec-0373-43a2-803d-5a65ab0fc10c",
   "metadata": {},
   "source": [
    "### Date Attributes"
   ]
  },
  {
   "cell_type": "code",
   "execution_count": 11,
   "id": "0f949fa3-4e2d-47ea-a898-62f17960ccac",
   "metadata": {},
   "outputs": [
    {
     "name": "stdout",
     "output_type": "stream",
     "text": [
      "2024\n",
      "11\n",
      "22\n"
     ]
    }
   ],
   "source": [
    "#helps to access the individual components of a date.\n",
    "print(today_date.year)\n",
    "print(today_date.month)\n",
    "print(today_date.day)"
   ]
  },
  {
   "cell_type": "code",
   "execution_count": 15,
   "id": "60429b05-e7c7-4913-a2c7-3c21e7572e33",
   "metadata": {},
   "outputs": [
    {
     "name": "stdout",
     "output_type": "stream",
     "text": [
      "4\n"
     ]
    }
   ],
   "source": [
    "#datetime.weekday() - Monday - 0 And Sunday - 6\n",
    "print(today_date.weekday())"
   ]
  },
  {
   "cell_type": "code",
   "execution_count": 19,
   "id": "a3aaa1a6-51fc-4e05-85c9-a138ab80cc04",
   "metadata": {},
   "outputs": [
    {
     "name": "stdout",
     "output_type": "stream",
     "text": [
      "2025-11-22\n"
     ]
    }
   ],
   "source": [
    "#date.replace() - replaces the specific parts of the date as per syntax.\n",
    "new_date = today_date.replace(2025)\n",
    "print(new_date)"
   ]
  },
  {
   "cell_type": "markdown",
   "id": "71a0c991-61a0-4df0-b2a0-99f432a0d581",
   "metadata": {},
   "source": [
    "### Creating Custom Dates & Times"
   ]
  },
  {
   "cell_type": "code",
   "execution_count": 29,
   "id": "68061eef-11d6-4be3-b140-b8c80199c4ac",
   "metadata": {},
   "outputs": [
    {
     "name": "stdout",
     "output_type": "stream",
     "text": [
      "14:30:00.000025\n"
     ]
    }
   ],
   "source": [
    "#time(): - it treats the stated input as a time function.\n",
    "specific_time = time(14, 30, 0, 25)\n",
    "print(specific_time)"
   ]
  },
  {
   "cell_type": "code",
   "execution_count": 31,
   "id": "5dacc458-d9c5-4c2f-964c-dc556407d246",
   "metadata": {},
   "outputs": [
    {
     "name": "stdout",
     "output_type": "stream",
     "text": [
      "2024-12-25\n"
     ]
    }
   ],
   "source": [
    "#date(): - Creates a date object for a specific date.\n",
    "specific_date = date(2024, 12, 25)\n",
    "print(specific_date)"
   ]
  },
  {
   "cell_type": "code",
   "execution_count": null,
   "id": "6ebd1848-5dad-46a2-9d64-679c93943c1a",
   "metadata": {},
   "outputs": [],
   "source": [
    "# Python Libraries ( Pandas, Numpy etc.) & User Defined Functions: - Last Topic of Python.\n",
    "# SQL - \n",
    "# We will initiate our DE Project.: - Streamlit."
   ]
  }
 ],
 "metadata": {
  "kernelspec": {
   "display_name": "Python 3 (ipykernel)",
   "language": "python",
   "name": "python3"
  },
  "language_info": {
   "codemirror_mode": {
    "name": "ipython",
    "version": 3
   },
   "file_extension": ".py",
   "mimetype": "text/x-python",
   "name": "python",
   "nbconvert_exporter": "python",
   "pygments_lexer": "ipython3",
   "version": "3.12.4"
  }
 },
 "nbformat": 4,
 "nbformat_minor": 5
}

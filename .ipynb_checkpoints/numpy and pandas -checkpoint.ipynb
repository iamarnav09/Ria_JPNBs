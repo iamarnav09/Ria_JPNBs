{
 "cells": [
  {
   "cell_type": "code",
   "execution_count": 3,
   "id": "187855a7",
   "metadata": {},
   "outputs": [],
   "source": [
    "# numpy is a numerical python\n",
    "#import numpy as np\n",
    "import numpy as np"
   ]
  },
  {
   "cell_type": "code",
   "execution_count": 4,
   "id": "f53679cf",
   "metadata": {},
   "outputs": [],
   "source": [
    "b=np.array([[1,2,3],[4,5.5,6],[-7,8,9]])"
   ]
  },
  {
   "cell_type": "code",
   "execution_count": 5,
   "id": "da2c9ad5",
   "metadata": {},
   "outputs": [
    {
     "data": {
      "text/plain": [
       "numpy.ndarray"
      ]
     },
     "execution_count": 5,
     "metadata": {},
     "output_type": "execute_result"
    }
   ],
   "source": [
    "type(b)"
   ]
  },
  {
   "cell_type": "code",
   "execution_count": 6,
   "id": "4de68fd3",
   "metadata": {},
   "outputs": [
    {
     "data": {
      "text/plain": [
       "(3, 3)"
      ]
     },
     "execution_count": 6,
     "metadata": {},
     "output_type": "execute_result"
    }
   ],
   "source": [
    "b.shape"
   ]
  },
  {
   "cell_type": "code",
   "execution_count": 7,
   "id": "5f5de463",
   "metadata": {},
   "outputs": [
    {
     "data": {
      "text/plain": [
       "6.0"
      ]
     },
     "execution_count": 7,
     "metadata": {},
     "output_type": "execute_result"
    }
   ],
   "source": [
    "b[1,2]"
   ]
  },
  {
   "cell_type": "code",
   "execution_count": 8,
   "id": "1a7867e8",
   "metadata": {},
   "outputs": [
    {
     "data": {
      "text/plain": [
       "2.0"
      ]
     },
     "execution_count": 8,
     "metadata": {},
     "output_type": "execute_result"
    }
   ],
   "source": [
    "b[0,1]"
   ]
  },
  {
   "cell_type": "code",
   "execution_count": 9,
   "id": "0cadccdc",
   "metadata": {},
   "outputs": [
    {
     "data": {
      "text/plain": [
       "array([4. , 5.5, 6. ])"
      ]
     },
     "execution_count": 9,
     "metadata": {},
     "output_type": "execute_result"
    }
   ],
   "source": [
    "b[1]"
   ]
  },
  {
   "cell_type": "code",
   "execution_count": 10,
   "id": "6087a9c5",
   "metadata": {},
   "outputs": [
    {
     "data": {
      "text/plain": [
       "array([4. , 5.5, 6. ])"
      ]
     },
     "execution_count": 10,
     "metadata": {},
     "output_type": "execute_result"
    }
   ],
   "source": [
    "b[1,:]"
   ]
  },
  {
   "cell_type": "code",
   "execution_count": 11,
   "id": "070ff8bb",
   "metadata": {},
   "outputs": [
    {
     "data": {
      "text/plain": [
       "array([2. , 5.5, 8. ])"
      ]
     },
     "execution_count": 11,
     "metadata": {},
     "output_type": "execute_result"
    }
   ],
   "source": [
    "b[:,1]"
   ]
  },
  {
   "cell_type": "code",
   "execution_count": 12,
   "id": "5f6366ed",
   "metadata": {},
   "outputs": [
    {
     "data": {
      "text/plain": [
       "array([[ 4. ,  5.5,  6. ],\n",
       "       [-7. ,  8. ,  9. ]])"
      ]
     },
     "execution_count": 12,
     "metadata": {},
     "output_type": "execute_result"
    }
   ],
   "source": [
    "b[1:]"
   ]
  },
  {
   "cell_type": "code",
   "execution_count": 26,
   "id": "97c378f7",
   "metadata": {},
   "outputs": [],
   "source": [
    "c=np.array([[10,25,30,40],[12,27,32,42],[14,29,34,44]])"
   ]
  },
  {
   "cell_type": "code",
   "execution_count": 27,
   "id": "6427e644",
   "metadata": {},
   "outputs": [
    {
     "data": {
      "text/plain": [
       "numpy.ndarray"
      ]
     },
     "execution_count": 27,
     "metadata": {},
     "output_type": "execute_result"
    }
   ],
   "source": [
    "type(c)"
   ]
  },
  {
   "cell_type": "code",
   "execution_count": 28,
   "id": "9b2efdd3",
   "metadata": {},
   "outputs": [
    {
     "data": {
      "text/plain": [
       "32"
      ]
     },
     "execution_count": 28,
     "metadata": {},
     "output_type": "execute_result"
    }
   ],
   "source": [
    "c[1,2]"
   ]
  },
  {
   "cell_type": "code",
   "execution_count": 29,
   "id": "492e2bd7",
   "metadata": {},
   "outputs": [
    {
     "data": {
      "text/plain": [
       "array([25, 34, 12])"
      ]
     },
     "execution_count": 29,
     "metadata": {},
     "output_type": "execute_result"
    }
   ],
   "source": [
    "c[[0,2,1],[1,2,0]]"
   ]
  },
  {
   "cell_type": "code",
   "execution_count": 37,
   "id": "2e00a67e",
   "metadata": {},
   "outputs": [],
   "source": [
    "c[[2,0,1,2],[3,0,2,0]]=[0,0,0,0]"
   ]
  },
  {
   "cell_type": "code",
   "execution_count": 38,
   "id": "80c4a636",
   "metadata": {},
   "outputs": [
    {
     "data": {
      "text/plain": [
       "array([[ 0, 25, 30, 40],\n",
       "       [12, 27,  0, 42],\n",
       "       [ 0, 29, 34,  0]])"
      ]
     },
     "execution_count": 38,
     "metadata": {},
     "output_type": "execute_result"
    }
   ],
   "source": [
    "c"
   ]
  },
  {
   "cell_type": "code",
   "execution_count": 40,
   "id": "2db61e93",
   "metadata": {},
   "outputs": [],
   "source": [
    "import math"
   ]
  },
  {
   "cell_type": "code",
   "execution_count": 53,
   "id": "7b5a62f8",
   "metadata": {},
   "outputs": [],
   "source": [
    "c[2]=np.sqrt(c[2])"
   ]
  },
  {
   "cell_type": "code",
   "execution_count": 54,
   "id": "4fc50c97",
   "metadata": {},
   "outputs": [
    {
     "data": {
      "text/plain": [
       "array([[ 0, 25, 30, 40],\n",
       "       [ 3,  5,  0,  6],\n",
       "       [ 0,  5,  5,  0]])"
      ]
     },
     "execution_count": 54,
     "metadata": {},
     "output_type": "execute_result"
    }
   ],
   "source": [
    "c"
   ]
  },
  {
   "cell_type": "code",
   "execution_count": 55,
   "id": "614c60d4",
   "metadata": {},
   "outputs": [
    {
     "data": {
      "text/plain": [
       "array([[ 0, 25, 30, 40],\n",
       "       [ 3,  5,  0,  6],\n",
       "       [ 0,  5,  5,  0]])"
      ]
     },
     "execution_count": 55,
     "metadata": {},
     "output_type": "execute_result"
    }
   ],
   "source": [
    "c"
   ]
  },
  {
   "cell_type": "code",
   "execution_count": 56,
   "id": "8ecdcacc",
   "metadata": {},
   "outputs": [],
   "source": [
    "b=np.array([[1,2,3],[4,5.5,6],[-7,8,9]])"
   ]
  },
  {
   "cell_type": "code",
   "execution_count": 57,
   "id": "df366f0c",
   "metadata": {},
   "outputs": [
    {
     "data": {
      "text/plain": [
       "31.5"
      ]
     },
     "execution_count": 57,
     "metadata": {},
     "output_type": "execute_result"
    }
   ],
   "source": [
    "np.sum(b)"
   ]
  },
  {
   "cell_type": "code",
   "execution_count": 58,
   "id": "d4915aae",
   "metadata": {},
   "outputs": [
    {
     "data": {
      "text/plain": [
       "array([-2. , 15.5, 18. ])"
      ]
     },
     "execution_count": 58,
     "metadata": {},
     "output_type": "execute_result"
    }
   ],
   "source": [
    "np.sum(b,axis=0)"
   ]
  },
  {
   "cell_type": "code",
   "execution_count": 59,
   "id": "dca4fa17",
   "metadata": {},
   "outputs": [
    {
     "data": {
      "text/plain": [
       "array([[ 1. ,  2. ,  3. ],\n",
       "       [ 4. ,  5.5,  6. ],\n",
       "       [-7. ,  8. ,  9. ]])"
      ]
     },
     "execution_count": 59,
     "metadata": {},
     "output_type": "execute_result"
    }
   ],
   "source": [
    "b"
   ]
  },
  {
   "cell_type": "code",
   "execution_count": 62,
   "id": "0b3e95c6",
   "metadata": {},
   "outputs": [
    {
     "ename": "SyntaxError",
     "evalue": "cannot assign to function call here. Maybe you meant '==' instead of '='? (488753968.py, line 1)",
     "output_type": "error",
     "traceback": [
      "\u001b[1;36m  Cell \u001b[1;32mIn[62], line 1\u001b[1;36m\u001b[0m\n\u001b[1;33m    np.sum(b,axis=1)=b\u001b[0m\n\u001b[1;37m    ^\u001b[0m\n\u001b[1;31mSyntaxError\u001b[0m\u001b[1;31m:\u001b[0m cannot assign to function call here. Maybe you meant '==' instead of '='?\n"
     ]
    }
   ],
   "source": [
    "np.sum(b,axis=1)=b"
   ]
  },
  {
   "cell_type": "code",
   "execution_count": 63,
   "id": "fd367030",
   "metadata": {},
   "outputs": [
    {
     "data": {
      "text/plain": [
       "array([[ 1. ,  2. ,  3. ],\n",
       "       [ 4. ,  5.5,  6. ],\n",
       "       [-7. ,  8. ,  9. ]])"
      ]
     },
     "execution_count": 63,
     "metadata": {},
     "output_type": "execute_result"
    }
   ],
   "source": [
    "b"
   ]
  },
  {
   "cell_type": "code",
   "execution_count": null,
   "id": "22f1b23a",
   "metadata": {},
   "outputs": [],
   "source": []
  },
  {
   "cell_type": "code",
   "execution_count": null,
   "id": "9bc5c387",
   "metadata": {},
   "outputs": [],
   "source": []
  },
  {
   "cell_type": "code",
   "execution_count": 65,
   "id": "f2a271ac",
   "metadata": {},
   "outputs": [],
   "source": [
    "b=np.array([[-10,40,20],[20,-20,40],[40,20,-40]])"
   ]
  },
  {
   "cell_type": "code",
   "execution_count": 66,
   "id": "e3c3ea0f",
   "metadata": {},
   "outputs": [
    {
     "data": {
      "text/plain": [
       "array([[-10,  40,  20],\n",
       "       [ 20, -20,  40],\n",
       "       [ 40,  20, -40]])"
      ]
     },
     "execution_count": 66,
     "metadata": {},
     "output_type": "execute_result"
    }
   ],
   "source": [
    "b"
   ]
  },
  {
   "cell_type": "code",
   "execution_count": 71,
   "id": "50076116",
   "metadata": {},
   "outputs": [],
   "source": [
    "b=np.array([[1]])"
   ]
  },
  {
   "cell_type": "code",
   "execution_count": 6,
   "id": "562ff764",
   "metadata": {},
   "outputs": [
    {
     "ename": "NameError",
     "evalue": "name 'np' is not defined",
     "output_type": "error",
     "traceback": [
      "\u001b[1;31m---------------------------------------------------------------------------\u001b[0m",
      "\u001b[1;31mNameError\u001b[0m                                 Traceback (most recent call last)",
      "Cell \u001b[1;32mIn[6], line 1\u001b[0m\n\u001b[1;32m----> 1\u001b[0m np\u001b[38;5;241m.\u001b[39marange(\u001b[38;5;241m2\u001b[39m,\u001b[38;5;241m10\u001b[39m)\n",
      "\u001b[1;31mNameError\u001b[0m: name 'np' is not defined"
     ]
    }
   ],
   "source": [
    "\n",
    "np.arange(2,10)"
   ]
  },
  {
   "cell_type": "code",
   "execution_count": 7,
   "id": "83efe99f",
   "metadata": {},
   "outputs": [
    {
     "ename": "NameError",
     "evalue": "name 'np' is not defined",
     "output_type": "error",
     "traceback": [
      "\u001b[1;31m---------------------------------------------------------------------------\u001b[0m",
      "\u001b[1;31mNameError\u001b[0m                                 Traceback (most recent call last)",
      "Cell \u001b[1;32mIn[7], line 1\u001b[0m\n\u001b[1;32m----> 1\u001b[0m np\u001b[38;5;241m.\u001b[39marange(start\u001b[38;5;241m=\u001b[39m\u001b[38;5;241m2\u001b[39m, stop\u001b[38;5;241m=\u001b[39m\u001b[38;5;241m10\u001b[39m, num\u001b[38;5;241m=\u001b[39m\u001b[38;5;241m25\u001b[39m)\n",
      "\u001b[1;31mNameError\u001b[0m: name 'np' is not defined"
     ]
    }
   ],
   "source": [
    "np.arange(start=2, stop=10, num=25)"
   ]
  },
  {
   "cell_type": "code",
   "execution_count": 8,
   "id": "85fc8caa",
   "metadata": {},
   "outputs": [],
   "source": [
    "import numpy as np"
   ]
  },
  {
   "cell_type": "code",
   "execution_count": 9,
   "id": "814f90b8",
   "metadata": {},
   "outputs": [
    {
     "data": {
      "text/plain": [
       "array([2, 3, 4, 5, 6, 7, 8, 9])"
      ]
     },
     "execution_count": 9,
     "metadata": {},
     "output_type": "execute_result"
    }
   ],
   "source": [
    "np.arange(2,10)"
   ]
  },
  {
   "cell_type": "code",
   "execution_count": 10,
   "id": "afde2ad9",
   "metadata": {},
   "outputs": [
    {
     "data": {
      "text/plain": [
       "array([ 2.        ,  2.33333333,  2.66666667,  3.        ,  3.33333333,\n",
       "        3.66666667,  4.        ,  4.33333333,  4.66666667,  5.        ,\n",
       "        5.33333333,  5.66666667,  6.        ,  6.33333333,  6.66666667,\n",
       "        7.        ,  7.33333333,  7.66666667,  8.        ,  8.33333333,\n",
       "        8.66666667,  9.        ,  9.33333333,  9.66666667, 10.        ])"
      ]
     },
     "execution_count": 10,
     "metadata": {},
     "output_type": "execute_result"
    }
   ],
   "source": [
    "np.linspace(start=2,stop=10,num=25)"
   ]
  },
  {
   "cell_type": "code",
   "execution_count": 11,
   "id": "1ebc75fc",
   "metadata": {},
   "outputs": [
    {
     "data": {
      "text/plain": [
       "array([[7, 8, 2],\n",
       "       [6, 2, 4],\n",
       "       [2, 1, 2]])"
      ]
     },
     "execution_count": 11,
     "metadata": {},
     "output_type": "execute_result"
    }
   ],
   "source": [
    "np.random.randint(high=10,low=1,size=(3,3))"
   ]
  },
  {
   "cell_type": "code",
   "execution_count": 12,
   "id": "e0598dde",
   "metadata": {},
   "outputs": [
    {
     "data": {
      "text/plain": [
       "array([[0.69895197, 0.99863264, 0.95402121, 0.12598171],\n",
       "       [0.63137391, 0.01096742, 0.29217331, 0.95788944],\n",
       "       [0.33507471, 0.39413171, 0.7319112 , 0.21265654]])"
      ]
     },
     "execution_count": 12,
     "metadata": {},
     "output_type": "execute_result"
    }
   ],
   "source": [
    "np.random.random( size=(3,4))"
   ]
  },
  {
   "cell_type": "code",
   "execution_count": 3,
   "id": "db3bf146",
   "metadata": {},
   "outputs": [
    {
     "ename": "NameError",
     "evalue": "name 'np' is not defined",
     "output_type": "error",
     "traceback": [
      "\u001b[1;31m---------------------------------------------------------------------------\u001b[0m",
      "\u001b[1;31mNameError\u001b[0m                                 Traceback (most recent call last)",
      "Cell \u001b[1;32mIn[3], line 1\u001b[0m\n\u001b[1;32m----> 1\u001b[0m np\u001b[38;5;241m.\u001b[39mrandom\u001b[38;5;241m.\u001b[39mrandint(high\u001b[38;5;241m=\u001b[39m\u001b[38;5;241m1000\u001b[39m,low\u001b[38;5;241m=\u001b[39m\u001b[38;5;241m5\u001b[39m,size\u001b[38;5;241m=\u001b[39m(\u001b[38;5;241m2000\u001b[39m))\n\u001b[0;32m      2\u001b[0m \u001b[38;5;28;01mimport\u001b[39;00m \u001b[38;5;21;01mnumpy\u001b[39;00m \u001b[38;5;28;01mas\u001b[39;00m \u001b[38;5;21;01mnp\u001b[39;00m\n",
      "\u001b[1;31mNameError\u001b[0m: name 'np' is not defined"
     ]
    }
   ],
   "source": [
    "np.random.randint(high=1000,low=5,size=(2000))\n",
    "import numpy as np"
   ]
  },
  {
   "cell_type": "code",
   "execution_count": 4,
   "id": "2de9bdf4",
   "metadata": {},
   "outputs": [
    {
     "ename": "SyntaxError",
     "evalue": "incomplete input (1668203125.py, line 1)",
     "output_type": "error",
     "traceback": [
      "\u001b[1;36m  Cell \u001b[1;32mIn[4], line 1\u001b[1;36m\u001b[0m\n\u001b[1;33m    np.random.randint(high=30,low=20,size=(20)\u001b[0m\n\u001b[1;37m                                              ^\u001b[0m\n\u001b[1;31mSyntaxError\u001b[0m\u001b[1;31m:\u001b[0m incomplete input\n"
     ]
    }
   ],
   "source": [
    "np.random.randint(high=30,low=20,size=(20)"
   ]
  },
  {
   "cell_type": "code",
   "execution_count": 5,
   "id": "8dcf4439",
   "metadata": {},
   "outputs": [],
   "source": [
    "import numpy as np"
   ]
  },
  {
   "cell_type": "code",
   "execution_count": 9,
   "id": "0d77a525",
   "metadata": {},
   "outputs": [],
   "source": [
    "y=np.random.randint(high=30,low=20,size=(20))"
   ]
  },
  {
   "cell_type": "code",
   "execution_count": 10,
   "id": "9c40dde0",
   "metadata": {},
   "outputs": [
    {
     "data": {
      "text/plain": [
       "array([20, 24, 23, 29, 23, 29])"
      ]
     },
     "execution_count": 10,
     "metadata": {},
     "output_type": "execute_result"
    }
   ],
   "source": [
    "np.random.choice(y,6)"
   ]
  },
  {
   "cell_type": "code",
   "execution_count": 12,
   "id": "078027f1",
   "metadata": {},
   "outputs": [
    {
     "data": {
      "text/plain": [
       "array([23, 25, 23, 24, 24, 20])"
      ]
     },
     "execution_count": 12,
     "metadata": {},
     "output_type": "execute_result"
    }
   ],
   "source": [
    "np.random.choice(y,6,replace=False)"
   ]
  },
  {
   "cell_type": "code",
   "execution_count": 13,
   "id": "6ddb4456",
   "metadata": {},
   "outputs": [
    {
     "data": {
      "text/plain": [
       "array(['b', 'a', 'b', 'a', 'a', 'a'], dtype='<U1')"
      ]
     },
     "execution_count": 13,
     "metadata": {},
     "output_type": "execute_result"
    }
   ],
   "source": [
    "np.random.choice([\"a\",\"b\"],6)"
   ]
  },
  {
   "cell_type": "code",
   "execution_count": 14,
   "id": "b4e67297",
   "metadata": {},
   "outputs": [
    {
     "data": {
      "text/plain": [
       "array(['a', 'a', 'a', 'b', 'a', 'a', 'b', 'b', 'b', 'b', 'a', 'a', 'a',\n",
       "       'a', 'b', 'b', 'a', 'b', 'a', 'a', 'b', 'b', 'b', 'b', 'b', 'b',\n",
       "       'b', 'a', 'b', 'b', 'b', 'b', 'a', 'a', 'a', 'a', 'a', 'a', 'a',\n",
       "       'b', 'b', 'a', 'b', 'a', 'a', 'a', 'b', 'a', 'a', 'a', 'b', 'a',\n",
       "       'b', 'b', 'a', 'a', 'b', 'b', 'b', 'a', 'a', 'a', 'b', 'b', 'b',\n",
       "       'b', 'a', 'b', 'a', 'a', 'b', 'a', 'a', 'b', 'b', 'a', 'a', 'b',\n",
       "       'a', 'a', 'a', 'b', 'a', 'b', 'b', 'a', 'b', 'a', 'a', 'a', 'b',\n",
       "       'a', 'b', 'a', 'b', 'a', 'b', 'b', 'b', 'a', 'b', 'a', 'b', 'b',\n",
       "       'b', 'b', 'b', 'b', 'a', 'b', 'a', 'b', 'b', 'b', 'a', 'b', 'b',\n",
       "       'b', 'a', 'a', 'a', 'b', 'a', 'b', 'b', 'b', 'a', 'a', 'a', 'b',\n",
       "       'a', 'b', 'a', 'b', 'a', 'a', 'b', 'a', 'a', 'b', 'a', 'a', 'a',\n",
       "       'a', 'b', 'a', 'a', 'a', 'a', 'b', 'a', 'b', 'b', 'b', 'a', 'a',\n",
       "       'a', 'b', 'b', 'a', 'b', 'b', 'b', 'a', 'b', 'b', 'b', 'a', 'a',\n",
       "       'a', 'a', 'a', 'a', 'b', 'b', 'b', 'a', 'a', 'a', 'a', 'b', 'a',\n",
       "       'a', 'a', 'a', 'b', 'b', 'a', 'a', 'a', 'a', 'b', 'b', 'b', 'b',\n",
       "       'b', 'a', 'b', 'a', 'b', 'b', 'b', 'a', 'b', 'a', 'b', 'b', 'a',\n",
       "       'b', 'a', 'b', 'b', 'b', 'b', 'b', 'a', 'b', 'b', 'b', 'b', 'a',\n",
       "       'b', 'a', 'a', 'a', 'b', 'a', 'a', 'b', 'b', 'a', 'a', 'a', 'b',\n",
       "       'a', 'a', 'b', 'a', 'a', 'a', 'b', 'a', 'a', 'a', 'b', 'a', 'b',\n",
       "       'b', 'b', 'b', 'a', 'a', 'b', 'a', 'a', 'a', 'a', 'b', 'a', 'b',\n",
       "       'b', 'b', 'b', 'b', 'a', 'a', 'a', 'a', 'b', 'a', 'b', 'b', 'a',\n",
       "       'b', 'a', 'b', 'b', 'a', 'a', 'b', 'b', 'a', 'b', 'b', 'a', 'a',\n",
       "       'a', 'b', 'b', 'b', 'a', 'a', 'a', 'b', 'a', 'a', 'b', 'b', 'a',\n",
       "       'a', 'b', 'a', 'a', 'a', 'b', 'a', 'a', 'a', 'b', 'b', 'b', 'a',\n",
       "       'b', 'b', 'b', 'a', 'a', 'b', 'a', 'a', 'b', 'b', 'b', 'b', 'a',\n",
       "       'b', 'a', 'b', 'a', 'b', 'b', 'a', 'b', 'a', 'a', 'a', 'b', 'b',\n",
       "       'b', 'a', 'b', 'a', 'a', 'b', 'a', 'a', 'b', 'b', 'b', 'a', 'a',\n",
       "       'a', 'a', 'b', 'a', 'a', 'b', 'a', 'a', 'b', 'a', 'a', 'a', 'b',\n",
       "       'a', 'a', 'a', 'a', 'b', 'b', 'b', 'b', 'b', 'a', 'a', 'b', 'b',\n",
       "       'a', 'b', 'b', 'a', 'b', 'b', 'b', 'b', 'b', 'b', 'b', 'a', 'a',\n",
       "       'b', 'b', 'a', 'b', 'a', 'a', 'b', 'a', 'a', 'a', 'b', 'a', 'b',\n",
       "       'a', 'a', 'b', 'a', 'a', 'a', 'a', 'b', 'a', 'a', 'a', 'a', 'b',\n",
       "       'b', 'a', 'b', 'b', 'a', 'b', 'a', 'a', 'a', 'a', 'a', 'a', 'a',\n",
       "       'a', 'b', 'b', 'a', 'a', 'a', 'b', 'a', 'a', 'b', 'a', 'b', 'a',\n",
       "       'b', 'a', 'a', 'b', 'b', 'b', 'a', 'a', 'a', 'a', 'b', 'b', 'a',\n",
       "       'b', 'b', 'a', 'b', 'b', 'b', 'a', 'a', 'a', 'a', 'b', 'b', 'b',\n",
       "       'b', 'b', 'a', 'b', 'a', 'b', 'b', 'b', 'a', 'a', 'b', 'a', 'b',\n",
       "       'b', 'a', 'a', 'a', 'a', 'b', 'b', 'a', 'b', 'b', 'a', 'a', 'b',\n",
       "       'b', 'a', 'a', 'b', 'b', 'a', 'a', 'a', 'a', 'b', 'a', 'a', 'b',\n",
       "       'b', 'b', 'b', 'a', 'b', 'b', 'b', 'b', 'a', 'a', 'a', 'b', 'a',\n",
       "       'b', 'a', 'a', 'b', 'a', 'a', 'b', 'b', 'b', 'a', 'b', 'b', 'a',\n",
       "       'b', 'b', 'a', 'a', 'b', 'b', 'b', 'a', 'b', 'b', 'a', 'a', 'b',\n",
       "       'b', 'a', 'b', 'b', 'b', 'a', 'a', 'b', 'a', 'a', 'b', 'b', 'b',\n",
       "       'b', 'b', 'a', 'b', 'b', 'a', 'a', 'a', 'a', 'b', 'b', 'b', 'a',\n",
       "       'a', 'a', 'a', 'b', 'b', 'a', 'a', 'a', 'a', 'a', 'a', 'b', 'b',\n",
       "       'a', 'a', 'b', 'b', 'a', 'a', 'b', 'b', 'b', 'b', 'a', 'b', 'b',\n",
       "       'a', 'a', 'b', 'b', 'a', 'b', 'a', 'b', 'a', 'a', 'a', 'b', 'b',\n",
       "       'b', 'a', 'a', 'b', 'b', 'a', 'b', 'a', 'a', 'b', 'a', 'b', 'a',\n",
       "       'a', 'a', 'a', 'a', 'b', 'b', 'a', 'b', 'b', 'a', 'a', 'a', 'b',\n",
       "       'a', 'a', 'a', 'b', 'b', 'b', 'a', 'b', 'b', 'a', 'a', 'b', 'b',\n",
       "       'a', 'b', 'a', 'b', 'b', 'b', 'a', 'a', 'b', 'a', 'a', 'a', 'a',\n",
       "       'b', 'a', 'b', 'a', 'b', 'a', 'b', 'b', 'b', 'b', 'a', 'b', 'a',\n",
       "       'b', 'b', 'a', 'a', 'a', 'a', 'b', 'a', 'a', 'a', 'a', 'b', 'b',\n",
       "       'a', 'a', 'b', 'b', 'b', 'a', 'b', 'a', 'a', 'b', 'a', 'b', 'b',\n",
       "       'b', 'a', 'b', 'a', 'b', 'a', 'a', 'a', 'b', 'b', 'a', 'b', 'a',\n",
       "       'a', 'b', 'b', 'a', 'a', 'b', 'b', 'b', 'a', 'b', 'a', 'b', 'a',\n",
       "       'a', 'b', 'a', 'b', 'a', 'a', 'a', 'b', 'b', 'b', 'a', 'b', 'a',\n",
       "       'a', 'a', 'b', 'a', 'a', 'b', 'b', 'b', 'a', 'a', 'a', 'a', 'b',\n",
       "       'b', 'b', 'a', 'b', 'b', 'a', 'a', 'b', 'a', 'b', 'b', 'a', 'b',\n",
       "       'a', 'b', 'b', 'a', 'b', 'a', 'b', 'a', 'a', 'b', 'a', 'a', 'a',\n",
       "       'b', 'b', 'b', 'b', 'a', 'a', 'b', 'a', 'a', 'b', 'b', 'b', 'a',\n",
       "       'b', 'a', 'b', 'a', 'b', 'a', 'b', 'b', 'b', 'a', 'b', 'b', 'a',\n",
       "       'a', 'a', 'b', 'b', 'a', 'b', 'a', 'a', 'a', 'b', 'b', 'b', 'a',\n",
       "       'a', 'a', 'a', 'b', 'b', 'b', 'b', 'b', 'b', 'b', 'a', 'a', 'b',\n",
       "       'b', 'a', 'a', 'a', 'b', 'b', 'a', 'a', 'b', 'a', 'a', 'b', 'b',\n",
       "       'b', 'a', 'b', 'a', 'b', 'b', 'a', 'b', 'b', 'b', 'b', 'b', 'b',\n",
       "       'a', 'b', 'b', 'a', 'b', 'b', 'a', 'a', 'a', 'a', 'a', 'a', 'b',\n",
       "       'b', 'b', 'a', 'b', 'a', 'b', 'a', 'a', 'b', 'b', 'b', 'a', 'b',\n",
       "       'b', 'a', 'a', 'a', 'a', 'a', 'b', 'a', 'b', 'b', 'a', 'a', 'a',\n",
       "       'b', 'a', 'b', 'b', 'b', 'a', 'a', 'a', 'a', 'b', 'a', 'a', 'b',\n",
       "       'a', 'a', 'b', 'a', 'a', 'b', 'b', 'b', 'a', 'a', 'a', 'b', 'a',\n",
       "       'b', 'a', 'a', 'b', 'b', 'a', 'a', 'b', 'b', 'a', 'b', 'b', 'b',\n",
       "       'b', 'a', 'b', 'b', 'b', 'b', 'a', 'b', 'b', 'b', 'a', 'b', 'a',\n",
       "       'a', 'a', 'b', 'b', 'a', 'b', 'a', 'b', 'a', 'a', 'b', 'b', 'a',\n",
       "       'a', 'b', 'a', 'b', 'b', 'b', 'a', 'a', 'a', 'b', 'b', 'a', 'b',\n",
       "       'a', 'b', 'b', 'b', 'b', 'a', 'a', 'a', 'a', 'b', 'b', 'a', 'b',\n",
       "       'a', 'b', 'b', 'b', 'b', 'a', 'b', 'a', 'b', 'b', 'b', 'b'],\n",
       "      dtype='<U1')"
      ]
     },
     "execution_count": 14,
     "metadata": {},
     "output_type": "execute_result"
    }
   ],
   "source": [
    "np.random.choice([\"a\",\"b\"],1000)"
   ]
  },
  {
   "cell_type": "code",
   "execution_count": 15,
   "id": "9016eb3e",
   "metadata": {},
   "outputs": [],
   "source": [
    "y=np.random.choice([\"a\",\"b\"],1000)"
   ]
  },
  {
   "cell_type": "code",
   "execution_count": 1,
   "id": "5dbd3431",
   "metadata": {},
   "outputs": [
    {
     "ename": "NameError",
     "evalue": "name 'np' is not defined",
     "output_type": "error",
     "traceback": [
      "\u001b[1;31m---------------------------------------------------------------------------\u001b[0m",
      "\u001b[1;31mNameError\u001b[0m                                 Traceback (most recent call last)",
      "Cell \u001b[1;32mIn[1], line 1\u001b[0m\n\u001b[1;32m----> 1\u001b[0m np\u001b[38;5;241m.\u001b[39munique(y,return_counts\u001b[38;5;241m=\u001b[39m\u001b[38;5;28;01mTrue\u001b[39;00m)\n",
      "\u001b[1;31mNameError\u001b[0m: name 'np' is not defined"
     ]
    }
   ],
   "source": [
    "np.unique(y,return_counts=True)"
   ]
  },
  {
   "cell_type": "code",
   "execution_count": 2,
   "id": "37a79818",
   "metadata": {},
   "outputs": [],
   "source": [
    "import numpy as np"
   ]
  },
  {
   "cell_type": "code",
   "execution_count": 3,
   "id": "a3921812",
   "metadata": {},
   "outputs": [],
   "source": [
    "y=np.random.choice([\"a\",\"b\"],1000,p=[0.8,0.2])"
   ]
  },
  {
   "cell_type": "code",
   "execution_count": 4,
   "id": "e12cc6f6",
   "metadata": {},
   "outputs": [
    {
     "data": {
      "text/plain": [
       "array(['a', 'b', 'a', 'a', 'a', 'a', 'a', 'a', 'a', 'a', 'a', 'a', 'b',\n",
       "       'a', 'a', 'a', 'b', 'a', 'b', 'a', 'b', 'a', 'a', 'a', 'a', 'b',\n",
       "       'a', 'a', 'a', 'a', 'b', 'a', 'b', 'a', 'a', 'a', 'a', 'a', 'a',\n",
       "       'a', 'b', 'a', 'a', 'a', 'b', 'a', 'a', 'b', 'b', 'a', 'a', 'a',\n",
       "       'a', 'a', 'a', 'a', 'a', 'a', 'a', 'a', 'a', 'a', 'a', 'a', 'b',\n",
       "       'a', 'a', 'a', 'a', 'a', 'a', 'a', 'a', 'a', 'a', 'a', 'a', 'a',\n",
       "       'a', 'a', 'b', 'a', 'a', 'a', 'a', 'a', 'a', 'a', 'b', 'a', 'a',\n",
       "       'b', 'a', 'a', 'a', 'a', 'a', 'b', 'a', 'a', 'a', 'a', 'a', 'a',\n",
       "       'a', 'a', 'b', 'b', 'a', 'b', 'b', 'b', 'a', 'a', 'a', 'a', 'b',\n",
       "       'a', 'a', 'a', 'a', 'b', 'a', 'a', 'b', 'a', 'a', 'a', 'a', 'a',\n",
       "       'a', 'b', 'a', 'a', 'b', 'b', 'a', 'a', 'b', 'a', 'a', 'a', 'a',\n",
       "       'a', 'a', 'a', 'a', 'a', 'a', 'a', 'b', 'b', 'b', 'a', 'a', 'a',\n",
       "       'a', 'a', 'b', 'a', 'a', 'a', 'a', 'a', 'a', 'a', 'a', 'a', 'b',\n",
       "       'a', 'b', 'a', 'a', 'a', 'a', 'a', 'a', 'a', 'a', 'a', 'a', 'b',\n",
       "       'a', 'a', 'a', 'a', 'a', 'a', 'a', 'a', 'b', 'a', 'b', 'a', 'a',\n",
       "       'b', 'a', 'a', 'a', 'a', 'a', 'b', 'a', 'a', 'a', 'b', 'a', 'b',\n",
       "       'a', 'a', 'a', 'a', 'a', 'a', 'a', 'a', 'a', 'b', 'b', 'a', 'a',\n",
       "       'b', 'a', 'a', 'a', 'a', 'a', 'a', 'a', 'a', 'a', 'a', 'a', 'a',\n",
       "       'a', 'a', 'a', 'a', 'a', 'a', 'b', 'a', 'a', 'a', 'a', 'a', 'a',\n",
       "       'a', 'a', 'b', 'a', 'a', 'b', 'a', 'a', 'b', 'a', 'a', 'b', 'a',\n",
       "       'a', 'a', 'a', 'a', 'a', 'a', 'b', 'a', 'a', 'b', 'a', 'a', 'b',\n",
       "       'a', 'a', 'b', 'a', 'a', 'a', 'a', 'a', 'a', 'a', 'a', 'a', 'a',\n",
       "       'b', 'a', 'b', 'a', 'b', 'a', 'a', 'a', 'b', 'a', 'a', 'a', 'a',\n",
       "       'a', 'a', 'a', 'a', 'a', 'a', 'a', 'a', 'b', 'a', 'b', 'a', 'a',\n",
       "       'a', 'a', 'a', 'a', 'a', 'a', 'a', 'a', 'b', 'a', 'b', 'a', 'a',\n",
       "       'b', 'a', 'a', 'a', 'a', 'a', 'a', 'a', 'a', 'a', 'a', 'a', 'b',\n",
       "       'a', 'a', 'a', 'b', 'b', 'a', 'a', 'a', 'a', 'a', 'a', 'a', 'a',\n",
       "       'b', 'a', 'a', 'a', 'b', 'a', 'b', 'a', 'b', 'a', 'a', 'a', 'a',\n",
       "       'a', 'a', 'a', 'b', 'a', 'a', 'b', 'b', 'a', 'a', 'a', 'a', 'b',\n",
       "       'a', 'a', 'a', 'a', 'a', 'a', 'a', 'a', 'b', 'a', 'a', 'a', 'a',\n",
       "       'a', 'a', 'b', 'b', 'a', 'a', 'b', 'a', 'a', 'a', 'a', 'a', 'a',\n",
       "       'a', 'a', 'a', 'a', 'a', 'a', 'a', 'b', 'a', 'a', 'a', 'a', 'a',\n",
       "       'a', 'a', 'b', 'a', 'a', 'a', 'b', 'a', 'a', 'a', 'a', 'a', 'a',\n",
       "       'a', 'a', 'b', 'a', 'b', 'a', 'a', 'a', 'b', 'a', 'a', 'a', 'b',\n",
       "       'b', 'a', 'a', 'a', 'a', 'a', 'a', 'b', 'a', 'a', 'a', 'a', 'b',\n",
       "       'b', 'a', 'b', 'a', 'a', 'a', 'a', 'a', 'a', 'a', 'a', 'a', 'a',\n",
       "       'a', 'b', 'a', 'a', 'a', 'b', 'b', 'a', 'a', 'a', 'b', 'a', 'a',\n",
       "       'a', 'a', 'a', 'a', 'a', 'a', 'a', 'a', 'a', 'a', 'b', 'a', 'a',\n",
       "       'a', 'a', 'a', 'a', 'a', 'a', 'a', 'a', 'a', 'a', 'b', 'a', 'b',\n",
       "       'b', 'a', 'a', 'a', 'b', 'a', 'a', 'b', 'b', 'a', 'a', 'a', 'a',\n",
       "       'a', 'b', 'a', 'a', 'a', 'b', 'a', 'a', 'b', 'a', 'a', 'a', 'a',\n",
       "       'a', 'a', 'a', 'b', 'a', 'a', 'a', 'a', 'a', 'a', 'a', 'a', 'a',\n",
       "       'a', 'a', 'a', 'a', 'b', 'a', 'a', 'a', 'a', 'b', 'b', 'a', 'a',\n",
       "       'a', 'b', 'a', 'a', 'a', 'a', 'b', 'a', 'a', 'a', 'a', 'a', 'a',\n",
       "       'a', 'a', 'b', 'a', 'a', 'a', 'a', 'a', 'a', 'a', 'a', 'b', 'a',\n",
       "       'a', 'a', 'b', 'a', 'a', 'b', 'b', 'a', 'a', 'a', 'a', 'a', 'a',\n",
       "       'a', 'a', 'a', 'a', 'a', 'a', 'a', 'a', 'b', 'a', 'b', 'a', 'a',\n",
       "       'b', 'a', 'a', 'a', 'a', 'a', 'a', 'a', 'a', 'a', 'b', 'b', 'a',\n",
       "       'a', 'a', 'b', 'a', 'a', 'a', 'b', 'a', 'a', 'b', 'a', 'b', 'a',\n",
       "       'a', 'a', 'a', 'a', 'a', 'b', 'a', 'b', 'a', 'a', 'a', 'a', 'a',\n",
       "       'a', 'b', 'a', 'b', 'b', 'a', 'a', 'a', 'b', 'a', 'a', 'a', 'b',\n",
       "       'a', 'a', 'b', 'b', 'a', 'a', 'b', 'b', 'a', 'a', 'a', 'a', 'a',\n",
       "       'a', 'a', 'a', 'b', 'a', 'a', 'a', 'a', 'a', 'b', 'b', 'a', 'a',\n",
       "       'a', 'a', 'a', 'a', 'a', 'a', 'b', 'a', 'a', 'a', 'a', 'b', 'a',\n",
       "       'a', 'a', 'a', 'a', 'a', 'b', 'a', 'a', 'a', 'a', 'b', 'b', 'a',\n",
       "       'a', 'b', 'a', 'b', 'a', 'b', 'a', 'a', 'a', 'a', 'a', 'a', 'a',\n",
       "       'a', 'a', 'a', 'a', 'a', 'a', 'a', 'a', 'a', 'b', 'a', 'a', 'a',\n",
       "       'a', 'b', 'b', 'a', 'a', 'a', 'a', 'a', 'a', 'a', 'a', 'b', 'a',\n",
       "       'a', 'a', 'b', 'a', 'a', 'b', 'b', 'a', 'a', 'a', 'a', 'a', 'a',\n",
       "       'a', 'a', 'a', 'a', 'a', 'b', 'b', 'a', 'a', 'a', 'a', 'b', 'a',\n",
       "       'a', 'a', 'a', 'a', 'a', 'a', 'a', 'a', 'b', 'a', 'a', 'b', 'a',\n",
       "       'b', 'a', 'b', 'a', 'a', 'a', 'a', 'a', 'a', 'a', 'a', 'b', 'b',\n",
       "       'a', 'a', 'a', 'a', 'a', 'b', 'a', 'a', 'b', 'a', 'a', 'a', 'b',\n",
       "       'a', 'a', 'a', 'b', 'b', 'b', 'a', 'b', 'b', 'a', 'a', 'a', 'b',\n",
       "       'b', 'b', 'a', 'a', 'a', 'a', 'a', 'a', 'a', 'a', 'a', 'a', 'a',\n",
       "       'b', 'b', 'a', 'a', 'a', 'a', 'a', 'a', 'a', 'a', 'a', 'a', 'a',\n",
       "       'a', 'b', 'b', 'a', 'a', 'a', 'b', 'b', 'a', 'b', 'a', 'a', 'b',\n",
       "       'a', 'b', 'a', 'a', 'b', 'a', 'a', 'a', 'b', 'a', 'a', 'a', 'a',\n",
       "       'a', 'a', 'a', 'b', 'a', 'a', 'a', 'a', 'a', 'a', 'a', 'a', 'a',\n",
       "       'a', 'a', 'a', 'a', 'a', 'b', 'a', 'a', 'a', 'a', 'a', 'a', 'a',\n",
       "       'a', 'a', 'a', 'a', 'a', 'a', 'a', 'a', 'a', 'a', 'a', 'a', 'a',\n",
       "       'a', 'a', 'a', 'a', 'b', 'a', 'a', 'a', 'b', 'a', 'b', 'a', 'a',\n",
       "       'a', 'a', 'a', 'a', 'b', 'a', 'a', 'a', 'a', 'a', 'a', 'a', 'b',\n",
       "       'a', 'a', 'a', 'a', 'a', 'a', 'a', 'a', 'a', 'a', 'a', 'b', 'a',\n",
       "       'b', 'a', 'a', 'a', 'a', 'a', 'a', 'a', 'a', 'a', 'a', 'a', 'a',\n",
       "       'b', 'a', 'a', 'a', 'a', 'a', 'a', 'a', 'a', 'a', 'a', 'a', 'b',\n",
       "       'a', 'b', 'a', 'a', 'b', 'b', 'a', 'a', 'a', 'a', 'a', 'b'],\n",
       "      dtype='<U1')"
      ]
     },
     "execution_count": 4,
     "metadata": {},
     "output_type": "execute_result"
    }
   ],
   "source": [
    "y"
   ]
  },
  {
   "cell_type": "code",
   "execution_count": 5,
   "id": "5fd2a000",
   "metadata": {},
   "outputs": [
    {
     "data": {
      "text/plain": [
       "(array(['a', 'b'], dtype='<U1'), array([801, 199], dtype=int64))"
      ]
     },
     "execution_count": 5,
     "metadata": {},
     "output_type": "execute_result"
    }
   ],
   "source": [
    "np.unique(y,return_counts=True)"
   ]
  },
  {
   "cell_type": "code",
   "execution_count": 6,
   "id": "0ed5a334",
   "metadata": {},
   "outputs": [],
   "source": [
    "z=np.random.randint(high=100,low=1,size=(40))"
   ]
  },
  {
   "cell_type": "code",
   "execution_count": 7,
   "id": "7ded94b9",
   "metadata": {},
   "outputs": [
    {
     "data": {
      "text/plain": [
       "array([59, 92, 93, 85, 71, 38,  1, 92, 48, 77, 51, 90, 29,  2, 30, 79, 98,\n",
       "       54, 94, 86, 58, 52, 40, 91, 41, 77, 78, 51, 11, 96, 68, 65, 26,  6,\n",
       "       78, 89, 70, 37, 32, 22])"
      ]
     },
     "execution_count": 7,
     "metadata": {},
     "output_type": "execute_result"
    }
   ],
   "source": [
    "z"
   ]
  },
  {
   "cell_type": "code",
   "execution_count": 9,
   "id": "67318b1c",
   "metadata": {},
   "outputs": [
    {
     "data": {
      "text/plain": [
       "98"
      ]
     },
     "execution_count": 9,
     "metadata": {},
     "output_type": "execute_result"
    }
   ],
   "source": [
    "z.max()"
   ]
  },
  {
   "cell_type": "code",
   "execution_count": 10,
   "id": "1a0c992c",
   "metadata": {},
   "outputs": [
    {
     "data": {
      "text/plain": [
       "1"
      ]
     },
     "execution_count": 10,
     "metadata": {},
     "output_type": "execute_result"
    }
   ],
   "source": [
    "z.min()"
   ]
  },
  {
   "cell_type": "code",
   "execution_count": 11,
   "id": "c314d9af",
   "metadata": {},
   "outputs": [
    {
     "data": {
      "text/plain": [
       "16"
      ]
     },
     "execution_count": 11,
     "metadata": {},
     "output_type": "execute_result"
    }
   ],
   "source": [
    "z.argmax()"
   ]
  },
  {
   "cell_type": "code",
   "execution_count": 12,
   "id": "e6236ea5",
   "metadata": {},
   "outputs": [],
   "source": [
    "z=np.random.randint(high=100,low=12,size=(24))"
   ]
  },
  {
   "cell_type": "code",
   "execution_count": 13,
   "id": "ff2db067",
   "metadata": {},
   "outputs": [
    {
     "data": {
      "text/plain": [
       "array([41, 85, 30, 96, 22, 42, 26, 21, 31, 62, 15, 29, 69, 31, 52, 21, 55,\n",
       "       96, 70, 97, 42, 71, 95, 14])"
      ]
     },
     "execution_count": 13,
     "metadata": {},
     "output_type": "execute_result"
    }
   ],
   "source": [
    "z"
   ]
  },
  {
   "cell_type": "code",
   "execution_count": null,
   "id": "1c806284",
   "metadata": {},
   "outputs": [],
   "source": []
  },
  {
   "cell_type": "code",
   "execution_count": 14,
   "id": "8e637592",
   "metadata": {},
   "outputs": [],
   "source": [
    "x=np.random.randint(high=100,low=12,size=(4,6))"
   ]
  },
  {
   "cell_type": "code",
   "execution_count": 15,
   "id": "f3e39956",
   "metadata": {},
   "outputs": [
    {
     "data": {
      "text/plain": [
       "array([[48, 24, 33, 15, 20, 15],\n",
       "       [92, 82, 89, 65, 66, 69],\n",
       "       [41, 73, 64, 69, 49, 91],\n",
       "       [71, 23, 82, 59, 68, 44]])"
      ]
     },
     "execution_count": 15,
     "metadata": {},
     "output_type": "execute_result"
    }
   ],
   "source": [
    "x"
   ]
  },
  {
   "cell_type": "code",
   "execution_count": 16,
   "id": "00eb75d2",
   "metadata": {},
   "outputs": [
    {
     "data": {
      "text/plain": [
       "array([33, 89, 64, 82])"
      ]
     },
     "execution_count": 16,
     "metadata": {},
     "output_type": "execute_result"
    }
   ],
   "source": [
    "x[:,2]"
   ]
  },
  {
   "cell_type": "code",
   "execution_count": 17,
   "id": "2a523877",
   "metadata": {},
   "outputs": [
    {
     "data": {
      "text/plain": [
       "array([0, 2, 3, 1], dtype=int64)"
      ]
     },
     "execution_count": 17,
     "metadata": {},
     "output_type": "execute_result"
    }
   ],
   "source": [
    "x[:,2].argsort()"
   ]
  },
  {
   "cell_type": "code",
   "execution_count": 18,
   "id": "cc0b2489",
   "metadata": {},
   "outputs": [
    {
     "data": {
      "text/plain": [
       "array([[48, 24, 33, 15, 20, 15],\n",
       "       [41, 73, 64, 69, 49, 91],\n",
       "       [71, 23, 82, 59, 68, 44],\n",
       "       [92, 82, 89, 65, 66, 69]])"
      ]
     },
     "execution_count": 18,
     "metadata": {},
     "output_type": "execute_result"
    }
   ],
   "source": [
    "x[x[:,2].argsort(),:]"
   ]
  },
  {
   "cell_type": "code",
   "execution_count": 15,
   "id": "2fa45584",
   "metadata": {},
   "outputs": [],
   "source": [
    "import numpy as np"
   ]
  },
  {
   "cell_type": "code",
   "execution_count": 16,
   "id": "1f45cfbf",
   "metadata": {},
   "outputs": [],
   "source": [
    "id=np.arange(1,51)"
   ]
  },
  {
   "cell_type": "code",
   "execution_count": 17,
   "id": "3eb21f22",
   "metadata": {},
   "outputs": [],
   "source": [
    "rating=np.random.choice([\"good\",\"bad\",\"excellent\",\"pathetic\"],50)"
   ]
  },
  {
   "cell_type": "code",
   "execution_count": 18,
   "id": "be89ec40",
   "metadata": {},
   "outputs": [],
   "source": [
    "city=np.random.choice([\"bangalore\",\"mumbai\",\"chennai\"],50)"
   ]
  },
  {
   "cell_type": "code",
   "execution_count": 19,
   "id": "5c25cfee",
   "metadata": {},
   "outputs": [],
   "source": [
    "children=np.random.randint(high=5,low=0,size=(50))"
   ]
  },
  {
   "cell_type": "code",
   "execution_count": 20,
   "id": "4770d7c1",
   "metadata": {},
   "outputs": [],
   "source": [
    "fico=np.random.choice([\"100-150\",\"150-200\",\"200-250\"],50)"
   ]
  },
  {
   "cell_type": "code",
   "execution_count": 21,
   "id": "d5410fd2",
   "metadata": {},
   "outputs": [],
   "source": [
    "balance=np.random.choice([1000,2000,3000,np.nan,4000],50)"
   ]
  },
  {
   "cell_type": "code",
   "execution_count": 23,
   "id": "57dcdd4e",
   "metadata": {},
   "outputs": [],
   "source": [
    "age=np.random.randint(high=70,low=15,size=(50))"
   ]
  },
  {
   "cell_type": "code",
   "execution_count": 24,
   "id": "8323cf36",
   "metadata": {},
   "outputs": [
    {
     "data": {
      "text/plain": [
       "array([3000., 3000.,   nan,   nan, 1000., 1000., 2000., 3000., 3000.,\n",
       "         nan, 1000.,   nan,   nan, 2000., 3000., 3000., 2000.,   nan,\n",
       "       1000.,   nan, 4000., 1000.,   nan, 4000., 2000., 1000., 1000.,\n",
       "       1000., 2000.,   nan, 3000., 4000., 4000.,   nan, 3000., 3000.,\n",
       "         nan, 2000., 3000., 1000.,   nan, 3000., 2000.,   nan,   nan,\n",
       "       3000., 3000., 3000., 4000., 3000.])"
      ]
     },
     "execution_count": 24,
     "metadata": {},
     "output_type": "execute_result"
    }
   ],
   "source": [
    "balance"
   ]
  },
  {
   "cell_type": "code",
   "execution_count": 25,
   "id": "5db3a063",
   "metadata": {},
   "outputs": [
    {
     "data": {
      "text/plain": [
       "array([3000., 3000.,   nan,   nan, 1000., 1000., 2000., 3000., 3000.,\n",
       "         nan, 1000.,   nan,   nan, 2000., 3000., 3000., 2000.,   nan,\n",
       "       1000.,   nan, 4000., 1000.,   nan, 4000., 2000., 1000., 1000.,\n",
       "       1000., 2000.,   nan, 3000., 4000., 4000.,   nan, 3000., 3000.,\n",
       "         nan, 2000., 3000., 1000.,   nan, 3000., 2000.,   nan,   nan,\n",
       "       3000., 3000., 3000., 4000., 3000.])"
      ]
     },
     "execution_count": 25,
     "metadata": {},
     "output_type": "execute_result"
    }
   ],
   "source": [
    "balance"
   ]
  },
  {
   "cell_type": "code",
   "execution_count": 26,
   "id": "b26dd3c5",
   "metadata": {},
   "outputs": [
    {
     "data": {
      "text/plain": [
       "array([18, 57, 66, 64, 63, 35, 22, 22, 61, 53, 58, 38, 19, 31, 28, 38, 47,\n",
       "       42, 54, 49, 49, 33, 22, 15, 58, 54, 18, 24, 69, 16, 69, 56, 65, 50,\n",
       "       59, 23, 53, 35, 33, 52, 42, 23, 50, 16, 53, 66, 18, 22, 34, 27])"
      ]
     },
     "execution_count": 26,
     "metadata": {},
     "output_type": "execute_result"
    }
   ],
   "source": [
    "age"
   ]
  },
  {
   "cell_type": "code",
   "execution_count": 27,
   "id": "a3438033",
   "metadata": {},
   "outputs": [
    {
     "data": {
      "text/plain": [
       "array(['100-150', '150-200', '100-150', '150-200', '200-250', '150-200',\n",
       "       '150-200', '100-150', '150-200', '100-150', '200-250', '100-150',\n",
       "       '200-250', '100-150', '150-200', '100-150', '200-250', '100-150',\n",
       "       '100-150', '150-200', '200-250', '150-200', '200-250', '100-150',\n",
       "       '150-200', '150-200', '200-250', '150-200', '150-200', '150-200',\n",
       "       '100-150', '100-150', '100-150', '100-150', '200-250', '200-250',\n",
       "       '200-250', '150-200', '150-200', '150-200', '200-250', '100-150',\n",
       "       '150-200', '100-150', '200-250', '150-200', '100-150', '100-150',\n",
       "       '100-150', '150-200'], dtype='<U7')"
      ]
     },
     "execution_count": 27,
     "metadata": {},
     "output_type": "execute_result"
    }
   ],
   "source": [
    "fico"
   ]
  },
  {
   "cell_type": "code",
   "execution_count": 28,
   "id": "683bf4f1",
   "metadata": {},
   "outputs": [
    {
     "data": {
      "text/plain": [
       "array([3, 3, 3, 4, 1, 2, 3, 3, 3, 4, 2, 0, 2, 2, 1, 1, 4, 3, 2, 0, 4, 2,\n",
       "       2, 0, 4, 2, 4, 0, 3, 0, 4, 1, 0, 0, 1, 2, 1, 3, 3, 2, 2, 4, 3, 0,\n",
       "       0, 3, 2, 0, 4, 2])"
      ]
     },
     "execution_count": 28,
     "metadata": {},
     "output_type": "execute_result"
    }
   ],
   "source": [
    "children"
   ]
  },
  {
   "cell_type": "code",
   "execution_count": 29,
   "id": "705afcb2",
   "metadata": {},
   "outputs": [
    {
     "data": {
      "text/plain": [
       "array(['pathetic', 'good', 'pathetic', 'bad', 'bad', 'pathetic', 'bad',\n",
       "       'excellent', 'good', 'excellent', 'excellent', 'bad', 'good',\n",
       "       'excellent', 'bad', 'good', 'excellent', 'good', 'bad', 'good',\n",
       "       'good', 'good', 'pathetic', 'bad', 'bad', 'pathetic', 'pathetic',\n",
       "       'pathetic', 'pathetic', 'pathetic', 'bad', 'good', 'good',\n",
       "       'excellent', 'pathetic', 'bad', 'pathetic', 'excellent',\n",
       "       'excellent', 'good', 'good', 'good', 'bad', 'pathetic', 'pathetic',\n",
       "       'bad', 'pathetic', 'bad', 'pathetic', 'excellent'], dtype='<U9')"
      ]
     },
     "execution_count": 29,
     "metadata": {},
     "output_type": "execute_result"
    }
   ],
   "source": [
    "rating"
   ]
  },
  {
   "cell_type": "code",
   "execution_count": 30,
   "id": "6126e59f",
   "metadata": {},
   "outputs": [
    {
     "data": {
      "text/plain": [
       "array([ 1,  2,  3,  4,  5,  6,  7,  8,  9, 10, 11, 12, 13, 14, 15, 16, 17,\n",
       "       18, 19, 20, 21, 22, 23, 24, 25, 26, 27, 28, 29, 30, 31, 32, 33, 34,\n",
       "       35, 36, 37, 38, 39, 40, 41, 42, 43, 44, 45, 46, 47, 48, 49, 50])"
      ]
     },
     "execution_count": 30,
     "metadata": {},
     "output_type": "execute_result"
    }
   ],
   "source": [
    "id"
   ]
  },
  {
   "cell_type": "code",
   "execution_count": 31,
   "id": "e0e7da47",
   "metadata": {},
   "outputs": [],
   "source": [
    "import pandas as pd"
   ]
  },
  {
   "cell_type": "code",
   "execution_count": 32,
   "id": "bedc4c71",
   "metadata": {},
   "outputs": [],
   "source": [
    "df=pd.DataFrame({\"ID\":id,\"RATING\":rating,\"CITY\":city,\"FICO\":fico,\"BALANCE\":balance,\"AGE\":age})"
   ]
  },
  {
   "cell_type": "code",
   "execution_count": 33,
   "id": "333c4a0d",
   "metadata": {},
   "outputs": [
    {
     "data": {
      "text/html": [
       "<div>\n",
       "<style scoped>\n",
       "    .dataframe tbody tr th:only-of-type {\n",
       "        vertical-align: middle;\n",
       "    }\n",
       "\n",
       "    .dataframe tbody tr th {\n",
       "        vertical-align: top;\n",
       "    }\n",
       "\n",
       "    .dataframe thead th {\n",
       "        text-align: right;\n",
       "    }\n",
       "</style>\n",
       "<table border=\"1\" class=\"dataframe\">\n",
       "  <thead>\n",
       "    <tr style=\"text-align: right;\">\n",
       "      <th></th>\n",
       "      <th>ID</th>\n",
       "      <th>RATING</th>\n",
       "      <th>CITY</th>\n",
       "      <th>FICO</th>\n",
       "      <th>BALANCE</th>\n",
       "      <th>AGE</th>\n",
       "    </tr>\n",
       "  </thead>\n",
       "  <tbody>\n",
       "    <tr>\n",
       "      <th>0</th>\n",
       "      <td>1</td>\n",
       "      <td>pathetic</td>\n",
       "      <td>mumbai</td>\n",
       "      <td>100-150</td>\n",
       "      <td>3000.0</td>\n",
       "      <td>18</td>\n",
       "    </tr>\n",
       "    <tr>\n",
       "      <th>1</th>\n",
       "      <td>2</td>\n",
       "      <td>good</td>\n",
       "      <td>mumbai</td>\n",
       "      <td>150-200</td>\n",
       "      <td>3000.0</td>\n",
       "      <td>57</td>\n",
       "    </tr>\n",
       "    <tr>\n",
       "      <th>2</th>\n",
       "      <td>3</td>\n",
       "      <td>pathetic</td>\n",
       "      <td>mumbai</td>\n",
       "      <td>100-150</td>\n",
       "      <td>NaN</td>\n",
       "      <td>66</td>\n",
       "    </tr>\n",
       "    <tr>\n",
       "      <th>3</th>\n",
       "      <td>4</td>\n",
       "      <td>bad</td>\n",
       "      <td>chennai</td>\n",
       "      <td>150-200</td>\n",
       "      <td>NaN</td>\n",
       "      <td>64</td>\n",
       "    </tr>\n",
       "    <tr>\n",
       "      <th>4</th>\n",
       "      <td>5</td>\n",
       "      <td>bad</td>\n",
       "      <td>mumbai</td>\n",
       "      <td>200-250</td>\n",
       "      <td>1000.0</td>\n",
       "      <td>63</td>\n",
       "    </tr>\n",
       "    <tr>\n",
       "      <th>5</th>\n",
       "      <td>6</td>\n",
       "      <td>pathetic</td>\n",
       "      <td>chennai</td>\n",
       "      <td>150-200</td>\n",
       "      <td>1000.0</td>\n",
       "      <td>35</td>\n",
       "    </tr>\n",
       "    <tr>\n",
       "      <th>6</th>\n",
       "      <td>7</td>\n",
       "      <td>bad</td>\n",
       "      <td>chennai</td>\n",
       "      <td>150-200</td>\n",
       "      <td>2000.0</td>\n",
       "      <td>22</td>\n",
       "    </tr>\n",
       "    <tr>\n",
       "      <th>7</th>\n",
       "      <td>8</td>\n",
       "      <td>excellent</td>\n",
       "      <td>mumbai</td>\n",
       "      <td>100-150</td>\n",
       "      <td>3000.0</td>\n",
       "      <td>22</td>\n",
       "    </tr>\n",
       "    <tr>\n",
       "      <th>8</th>\n",
       "      <td>9</td>\n",
       "      <td>good</td>\n",
       "      <td>bangalore</td>\n",
       "      <td>150-200</td>\n",
       "      <td>3000.0</td>\n",
       "      <td>61</td>\n",
       "    </tr>\n",
       "    <tr>\n",
       "      <th>9</th>\n",
       "      <td>10</td>\n",
       "      <td>excellent</td>\n",
       "      <td>mumbai</td>\n",
       "      <td>100-150</td>\n",
       "      <td>NaN</td>\n",
       "      <td>53</td>\n",
       "    </tr>\n",
       "    <tr>\n",
       "      <th>10</th>\n",
       "      <td>11</td>\n",
       "      <td>excellent</td>\n",
       "      <td>mumbai</td>\n",
       "      <td>200-250</td>\n",
       "      <td>1000.0</td>\n",
       "      <td>58</td>\n",
       "    </tr>\n",
       "    <tr>\n",
       "      <th>11</th>\n",
       "      <td>12</td>\n",
       "      <td>bad</td>\n",
       "      <td>bangalore</td>\n",
       "      <td>100-150</td>\n",
       "      <td>NaN</td>\n",
       "      <td>38</td>\n",
       "    </tr>\n",
       "    <tr>\n",
       "      <th>12</th>\n",
       "      <td>13</td>\n",
       "      <td>good</td>\n",
       "      <td>chennai</td>\n",
       "      <td>200-250</td>\n",
       "      <td>NaN</td>\n",
       "      <td>19</td>\n",
       "    </tr>\n",
       "    <tr>\n",
       "      <th>13</th>\n",
       "      <td>14</td>\n",
       "      <td>excellent</td>\n",
       "      <td>mumbai</td>\n",
       "      <td>100-150</td>\n",
       "      <td>2000.0</td>\n",
       "      <td>31</td>\n",
       "    </tr>\n",
       "    <tr>\n",
       "      <th>14</th>\n",
       "      <td>15</td>\n",
       "      <td>bad</td>\n",
       "      <td>chennai</td>\n",
       "      <td>150-200</td>\n",
       "      <td>3000.0</td>\n",
       "      <td>28</td>\n",
       "    </tr>\n",
       "    <tr>\n",
       "      <th>15</th>\n",
       "      <td>16</td>\n",
       "      <td>good</td>\n",
       "      <td>bangalore</td>\n",
       "      <td>100-150</td>\n",
       "      <td>3000.0</td>\n",
       "      <td>38</td>\n",
       "    </tr>\n",
       "    <tr>\n",
       "      <th>16</th>\n",
       "      <td>17</td>\n",
       "      <td>excellent</td>\n",
       "      <td>bangalore</td>\n",
       "      <td>200-250</td>\n",
       "      <td>2000.0</td>\n",
       "      <td>47</td>\n",
       "    </tr>\n",
       "    <tr>\n",
       "      <th>17</th>\n",
       "      <td>18</td>\n",
       "      <td>good</td>\n",
       "      <td>bangalore</td>\n",
       "      <td>100-150</td>\n",
       "      <td>NaN</td>\n",
       "      <td>42</td>\n",
       "    </tr>\n",
       "    <tr>\n",
       "      <th>18</th>\n",
       "      <td>19</td>\n",
       "      <td>bad</td>\n",
       "      <td>chennai</td>\n",
       "      <td>100-150</td>\n",
       "      <td>1000.0</td>\n",
       "      <td>54</td>\n",
       "    </tr>\n",
       "    <tr>\n",
       "      <th>19</th>\n",
       "      <td>20</td>\n",
       "      <td>good</td>\n",
       "      <td>mumbai</td>\n",
       "      <td>150-200</td>\n",
       "      <td>NaN</td>\n",
       "      <td>49</td>\n",
       "    </tr>\n",
       "    <tr>\n",
       "      <th>20</th>\n",
       "      <td>21</td>\n",
       "      <td>good</td>\n",
       "      <td>chennai</td>\n",
       "      <td>200-250</td>\n",
       "      <td>4000.0</td>\n",
       "      <td>49</td>\n",
       "    </tr>\n",
       "    <tr>\n",
       "      <th>21</th>\n",
       "      <td>22</td>\n",
       "      <td>good</td>\n",
       "      <td>bangalore</td>\n",
       "      <td>150-200</td>\n",
       "      <td>1000.0</td>\n",
       "      <td>33</td>\n",
       "    </tr>\n",
       "    <tr>\n",
       "      <th>22</th>\n",
       "      <td>23</td>\n",
       "      <td>pathetic</td>\n",
       "      <td>bangalore</td>\n",
       "      <td>200-250</td>\n",
       "      <td>NaN</td>\n",
       "      <td>22</td>\n",
       "    </tr>\n",
       "    <tr>\n",
       "      <th>23</th>\n",
       "      <td>24</td>\n",
       "      <td>bad</td>\n",
       "      <td>bangalore</td>\n",
       "      <td>100-150</td>\n",
       "      <td>4000.0</td>\n",
       "      <td>15</td>\n",
       "    </tr>\n",
       "    <tr>\n",
       "      <th>24</th>\n",
       "      <td>25</td>\n",
       "      <td>bad</td>\n",
       "      <td>bangalore</td>\n",
       "      <td>150-200</td>\n",
       "      <td>2000.0</td>\n",
       "      <td>58</td>\n",
       "    </tr>\n",
       "    <tr>\n",
       "      <th>25</th>\n",
       "      <td>26</td>\n",
       "      <td>pathetic</td>\n",
       "      <td>mumbai</td>\n",
       "      <td>150-200</td>\n",
       "      <td>1000.0</td>\n",
       "      <td>54</td>\n",
       "    </tr>\n",
       "    <tr>\n",
       "      <th>26</th>\n",
       "      <td>27</td>\n",
       "      <td>pathetic</td>\n",
       "      <td>bangalore</td>\n",
       "      <td>200-250</td>\n",
       "      <td>1000.0</td>\n",
       "      <td>18</td>\n",
       "    </tr>\n",
       "    <tr>\n",
       "      <th>27</th>\n",
       "      <td>28</td>\n",
       "      <td>pathetic</td>\n",
       "      <td>chennai</td>\n",
       "      <td>150-200</td>\n",
       "      <td>1000.0</td>\n",
       "      <td>24</td>\n",
       "    </tr>\n",
       "    <tr>\n",
       "      <th>28</th>\n",
       "      <td>29</td>\n",
       "      <td>pathetic</td>\n",
       "      <td>bangalore</td>\n",
       "      <td>150-200</td>\n",
       "      <td>2000.0</td>\n",
       "      <td>69</td>\n",
       "    </tr>\n",
       "    <tr>\n",
       "      <th>29</th>\n",
       "      <td>30</td>\n",
       "      <td>pathetic</td>\n",
       "      <td>mumbai</td>\n",
       "      <td>150-200</td>\n",
       "      <td>NaN</td>\n",
       "      <td>16</td>\n",
       "    </tr>\n",
       "    <tr>\n",
       "      <th>30</th>\n",
       "      <td>31</td>\n",
       "      <td>bad</td>\n",
       "      <td>mumbai</td>\n",
       "      <td>100-150</td>\n",
       "      <td>3000.0</td>\n",
       "      <td>69</td>\n",
       "    </tr>\n",
       "    <tr>\n",
       "      <th>31</th>\n",
       "      <td>32</td>\n",
       "      <td>good</td>\n",
       "      <td>bangalore</td>\n",
       "      <td>100-150</td>\n",
       "      <td>4000.0</td>\n",
       "      <td>56</td>\n",
       "    </tr>\n",
       "    <tr>\n",
       "      <th>32</th>\n",
       "      <td>33</td>\n",
       "      <td>good</td>\n",
       "      <td>chennai</td>\n",
       "      <td>100-150</td>\n",
       "      <td>4000.0</td>\n",
       "      <td>65</td>\n",
       "    </tr>\n",
       "    <tr>\n",
       "      <th>33</th>\n",
       "      <td>34</td>\n",
       "      <td>excellent</td>\n",
       "      <td>bangalore</td>\n",
       "      <td>100-150</td>\n",
       "      <td>NaN</td>\n",
       "      <td>50</td>\n",
       "    </tr>\n",
       "    <tr>\n",
       "      <th>34</th>\n",
       "      <td>35</td>\n",
       "      <td>pathetic</td>\n",
       "      <td>bangalore</td>\n",
       "      <td>200-250</td>\n",
       "      <td>3000.0</td>\n",
       "      <td>59</td>\n",
       "    </tr>\n",
       "    <tr>\n",
       "      <th>35</th>\n",
       "      <td>36</td>\n",
       "      <td>bad</td>\n",
       "      <td>bangalore</td>\n",
       "      <td>200-250</td>\n",
       "      <td>3000.0</td>\n",
       "      <td>23</td>\n",
       "    </tr>\n",
       "    <tr>\n",
       "      <th>36</th>\n",
       "      <td>37</td>\n",
       "      <td>pathetic</td>\n",
       "      <td>chennai</td>\n",
       "      <td>200-250</td>\n",
       "      <td>NaN</td>\n",
       "      <td>53</td>\n",
       "    </tr>\n",
       "    <tr>\n",
       "      <th>37</th>\n",
       "      <td>38</td>\n",
       "      <td>excellent</td>\n",
       "      <td>mumbai</td>\n",
       "      <td>150-200</td>\n",
       "      <td>2000.0</td>\n",
       "      <td>35</td>\n",
       "    </tr>\n",
       "    <tr>\n",
       "      <th>38</th>\n",
       "      <td>39</td>\n",
       "      <td>excellent</td>\n",
       "      <td>bangalore</td>\n",
       "      <td>150-200</td>\n",
       "      <td>3000.0</td>\n",
       "      <td>33</td>\n",
       "    </tr>\n",
       "    <tr>\n",
       "      <th>39</th>\n",
       "      <td>40</td>\n",
       "      <td>good</td>\n",
       "      <td>mumbai</td>\n",
       "      <td>150-200</td>\n",
       "      <td>1000.0</td>\n",
       "      <td>52</td>\n",
       "    </tr>\n",
       "    <tr>\n",
       "      <th>40</th>\n",
       "      <td>41</td>\n",
       "      <td>good</td>\n",
       "      <td>mumbai</td>\n",
       "      <td>200-250</td>\n",
       "      <td>NaN</td>\n",
       "      <td>42</td>\n",
       "    </tr>\n",
       "    <tr>\n",
       "      <th>41</th>\n",
       "      <td>42</td>\n",
       "      <td>good</td>\n",
       "      <td>mumbai</td>\n",
       "      <td>100-150</td>\n",
       "      <td>3000.0</td>\n",
       "      <td>23</td>\n",
       "    </tr>\n",
       "    <tr>\n",
       "      <th>42</th>\n",
       "      <td>43</td>\n",
       "      <td>bad</td>\n",
       "      <td>mumbai</td>\n",
       "      <td>150-200</td>\n",
       "      <td>2000.0</td>\n",
       "      <td>50</td>\n",
       "    </tr>\n",
       "    <tr>\n",
       "      <th>43</th>\n",
       "      <td>44</td>\n",
       "      <td>pathetic</td>\n",
       "      <td>bangalore</td>\n",
       "      <td>100-150</td>\n",
       "      <td>NaN</td>\n",
       "      <td>16</td>\n",
       "    </tr>\n",
       "    <tr>\n",
       "      <th>44</th>\n",
       "      <td>45</td>\n",
       "      <td>pathetic</td>\n",
       "      <td>mumbai</td>\n",
       "      <td>200-250</td>\n",
       "      <td>NaN</td>\n",
       "      <td>53</td>\n",
       "    </tr>\n",
       "    <tr>\n",
       "      <th>45</th>\n",
       "      <td>46</td>\n",
       "      <td>bad</td>\n",
       "      <td>mumbai</td>\n",
       "      <td>150-200</td>\n",
       "      <td>3000.0</td>\n",
       "      <td>66</td>\n",
       "    </tr>\n",
       "    <tr>\n",
       "      <th>46</th>\n",
       "      <td>47</td>\n",
       "      <td>pathetic</td>\n",
       "      <td>mumbai</td>\n",
       "      <td>100-150</td>\n",
       "      <td>3000.0</td>\n",
       "      <td>18</td>\n",
       "    </tr>\n",
       "    <tr>\n",
       "      <th>47</th>\n",
       "      <td>48</td>\n",
       "      <td>bad</td>\n",
       "      <td>mumbai</td>\n",
       "      <td>100-150</td>\n",
       "      <td>3000.0</td>\n",
       "      <td>22</td>\n",
       "    </tr>\n",
       "    <tr>\n",
       "      <th>48</th>\n",
       "      <td>49</td>\n",
       "      <td>pathetic</td>\n",
       "      <td>bangalore</td>\n",
       "      <td>100-150</td>\n",
       "      <td>4000.0</td>\n",
       "      <td>34</td>\n",
       "    </tr>\n",
       "    <tr>\n",
       "      <th>49</th>\n",
       "      <td>50</td>\n",
       "      <td>excellent</td>\n",
       "      <td>chennai</td>\n",
       "      <td>150-200</td>\n",
       "      <td>3000.0</td>\n",
       "      <td>27</td>\n",
       "    </tr>\n",
       "  </tbody>\n",
       "</table>\n",
       "</div>"
      ],
      "text/plain": [
       "    ID     RATING       CITY     FICO  BALANCE  AGE\n",
       "0    1   pathetic     mumbai  100-150   3000.0   18\n",
       "1    2       good     mumbai  150-200   3000.0   57\n",
       "2    3   pathetic     mumbai  100-150      NaN   66\n",
       "3    4        bad    chennai  150-200      NaN   64\n",
       "4    5        bad     mumbai  200-250   1000.0   63\n",
       "5    6   pathetic    chennai  150-200   1000.0   35\n",
       "6    7        bad    chennai  150-200   2000.0   22\n",
       "7    8  excellent     mumbai  100-150   3000.0   22\n",
       "8    9       good  bangalore  150-200   3000.0   61\n",
       "9   10  excellent     mumbai  100-150      NaN   53\n",
       "10  11  excellent     mumbai  200-250   1000.0   58\n",
       "11  12        bad  bangalore  100-150      NaN   38\n",
       "12  13       good    chennai  200-250      NaN   19\n",
       "13  14  excellent     mumbai  100-150   2000.0   31\n",
       "14  15        bad    chennai  150-200   3000.0   28\n",
       "15  16       good  bangalore  100-150   3000.0   38\n",
       "16  17  excellent  bangalore  200-250   2000.0   47\n",
       "17  18       good  bangalore  100-150      NaN   42\n",
       "18  19        bad    chennai  100-150   1000.0   54\n",
       "19  20       good     mumbai  150-200      NaN   49\n",
       "20  21       good    chennai  200-250   4000.0   49\n",
       "21  22       good  bangalore  150-200   1000.0   33\n",
       "22  23   pathetic  bangalore  200-250      NaN   22\n",
       "23  24        bad  bangalore  100-150   4000.0   15\n",
       "24  25        bad  bangalore  150-200   2000.0   58\n",
       "25  26   pathetic     mumbai  150-200   1000.0   54\n",
       "26  27   pathetic  bangalore  200-250   1000.0   18\n",
       "27  28   pathetic    chennai  150-200   1000.0   24\n",
       "28  29   pathetic  bangalore  150-200   2000.0   69\n",
       "29  30   pathetic     mumbai  150-200      NaN   16\n",
       "30  31        bad     mumbai  100-150   3000.0   69\n",
       "31  32       good  bangalore  100-150   4000.0   56\n",
       "32  33       good    chennai  100-150   4000.0   65\n",
       "33  34  excellent  bangalore  100-150      NaN   50\n",
       "34  35   pathetic  bangalore  200-250   3000.0   59\n",
       "35  36        bad  bangalore  200-250   3000.0   23\n",
       "36  37   pathetic    chennai  200-250      NaN   53\n",
       "37  38  excellent     mumbai  150-200   2000.0   35\n",
       "38  39  excellent  bangalore  150-200   3000.0   33\n",
       "39  40       good     mumbai  150-200   1000.0   52\n",
       "40  41       good     mumbai  200-250      NaN   42\n",
       "41  42       good     mumbai  100-150   3000.0   23\n",
       "42  43        bad     mumbai  150-200   2000.0   50\n",
       "43  44   pathetic  bangalore  100-150      NaN   16\n",
       "44  45   pathetic     mumbai  200-250      NaN   53\n",
       "45  46        bad     mumbai  150-200   3000.0   66\n",
       "46  47   pathetic     mumbai  100-150   3000.0   18\n",
       "47  48        bad     mumbai  100-150   3000.0   22\n",
       "48  49   pathetic  bangalore  100-150   4000.0   34\n",
       "49  50  excellent    chennai  150-200   3000.0   27"
      ]
     },
     "execution_count": 33,
     "metadata": {},
     "output_type": "execute_result"
    }
   ],
   "source": [
    "df"
   ]
  },
  {
   "cell_type": "code",
   "execution_count": 54,
   "id": "3c1cc939",
   "metadata": {},
   "outputs": [
    {
     "data": {
      "text/plain": [
       "pandas.core.frame.DataFrame"
      ]
     },
     "execution_count": 54,
     "metadata": {},
     "output_type": "execute_result"
    }
   ],
   "source": [
    "type(df)"
   ]
  },
  {
   "cell_type": "code",
   "execution_count": 46,
   "id": "ef0388a7",
   "metadata": {},
   "outputs": [
    {
     "data": {
      "text/plain": [
       "mumbai       21\n",
       "bangalore    18\n",
       "chennai      11\n",
       "Name: CITY, dtype: int64"
      ]
     },
     "execution_count": 46,
     "metadata": {},
     "output_type": "execute_result"
    }
   ],
   "source": [
    "df[\"CITY\"].value_counts()"
   ]
  },
  {
   "cell_type": "code",
   "execution_count": 53,
   "id": "0b8aa00e",
   "metadata": {},
   "outputs": [],
   "source": [
    "df[\"CITY_bangalore\"]=np.where(df[\"CITY\"]==\"bangalore\",1,0)"
   ]
  },
  {
   "cell_type": "code",
   "execution_count": 54,
   "id": "07395c8a",
   "metadata": {},
   "outputs": [
    {
     "data": {
      "text/plain": [
       "0     0\n",
       "1     0\n",
       "2     0\n",
       "3     0\n",
       "4     0\n",
       "5     0\n",
       "6     0\n",
       "7     0\n",
       "8     1\n",
       "9     0\n",
       "10    0\n",
       "11    1\n",
       "12    0\n",
       "13    0\n",
       "14    0\n",
       "15    1\n",
       "16    1\n",
       "17    1\n",
       "18    0\n",
       "19    0\n",
       "20    0\n",
       "21    1\n",
       "22    1\n",
       "23    1\n",
       "24    1\n",
       "25    0\n",
       "26    1\n",
       "27    0\n",
       "28    1\n",
       "29    0\n",
       "30    0\n",
       "31    1\n",
       "32    0\n",
       "33    1\n",
       "34    1\n",
       "35    1\n",
       "36    0\n",
       "37    0\n",
       "38    1\n",
       "39    0\n",
       "40    0\n",
       "41    0\n",
       "42    0\n",
       "43    1\n",
       "44    0\n",
       "45    0\n",
       "46    0\n",
       "47    0\n",
       "48    1\n",
       "49    0\n",
       "Name: CITY_bangalore, dtype: int32"
      ]
     },
     "execution_count": 54,
     "metadata": {},
     "output_type": "execute_result"
    }
   ],
   "source": [
    "df[\"CITY_bangalore\"]"
   ]
  },
  {
   "cell_type": "code",
   "execution_count": 56,
   "id": "d8843d16",
   "metadata": {},
   "outputs": [],
   "source": [
    "df['constant']=100"
   ]
  },
  {
   "cell_type": "code",
   "execution_count": 57,
   "id": "02c0c4e6",
   "metadata": {},
   "outputs": [],
   "source": [
    "df['log_balance']=np.log(balance)"
   ]
  },
  {
   "cell_type": "code",
   "execution_count": 60,
   "id": "58bdab50",
   "metadata": {},
   "outputs": [
    {
     "data": {
      "text/plain": [
       "pathetic     15\n",
       "good         13\n",
       "bad          13\n",
       "excellent     9\n",
       "Name: RATING, dtype: int64"
      ]
     },
     "execution_count": 60,
     "metadata": {},
     "output_type": "execute_result"
    }
   ],
   "source": [
    "df['RATING'].value_counts()"
   ]
  },
  {
   "cell_type": "code",
   "execution_count": null,
   "id": "3d54fbc8",
   "metadata": {},
   "outputs": [],
   "source": []
  }
 ],
 "metadata": {
  "kernelspec": {
   "display_name": "Python 3 (ipykernel)",
   "language": "python",
   "name": "python3"
  },
  "language_info": {
   "codemirror_mode": {
    "name": "ipython",
    "version": 3
   },
   "file_extension": ".py",
   "mimetype": "text/x-python",
   "name": "python",
   "nbconvert_exporter": "python",
   "pygments_lexer": "ipython3",
   "version": "3.11.4"
  }
 },
 "nbformat": 4,
 "nbformat_minor": 5
}

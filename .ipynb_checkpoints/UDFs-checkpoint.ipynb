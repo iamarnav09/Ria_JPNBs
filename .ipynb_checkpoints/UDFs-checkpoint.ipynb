{
 "cells": [
  {
   "cell_type": "code",
   "execution_count": 1,
   "id": "605b96e1-b0ea-451b-8f7f-0cca21ee9273",
   "metadata": {},
   "outputs": [],
   "source": [
    "#Write a function called as \"find_largest\" that takes two numbers as parameters and print the \n",
    "#larger number"
   ]
  },
  {
   "cell_type": "code",
   "execution_count": 3,
   "id": "ad962bd7-561a-42ae-b0c2-8d35b0e44b06",
   "metadata": {},
   "outputs": [],
   "source": [
    "def find_largest(num1, num2):\n",
    "    if num1>num2: \n",
    "        print(f\"The larger number is {num1}\")\n",
    "    elif num2>num1:\n",
    "        print(f\"The larger number is {num2}\")\n",
    "    else:\n",
    "        print(\"Both are equal\")"
   ]
  },
  {
   "cell_type": "code",
   "execution_count": 5,
   "id": "994c306e-f461-4f9b-a3bd-8fa2f239d0f5",
   "metadata": {},
   "outputs": [
    {
     "name": "stdout",
     "output_type": "stream",
     "text": [
      "The larger number is 5\n"
     ]
    }
   ],
   "source": [
    "find_largest(3,5)"
   ]
  },
  {
   "cell_type": "code",
   "execution_count": 7,
   "id": "f07fc65b-69cb-43f9-a73d-0b5024eac3d3",
   "metadata": {},
   "outputs": [
    {
     "name": "stdout",
     "output_type": "stream",
     "text": [
      "The larger number is 8\n"
     ]
    }
   ],
   "source": [
    "find_largest(8,5)"
   ]
  },
  {
   "cell_type": "code",
   "execution_count": 9,
   "id": "81705e79-0a45-4271-aa88-4c15496ae0c5",
   "metadata": {},
   "outputs": [],
   "source": [
    "#one feature addition: - using return to print the result directly.\n",
    "def add_numbers(a,b):\n",
    "    return a+b\n",
    "result  = add_numbers(5,10)"
   ]
  },
  {
   "cell_type": "code",
   "execution_count": 11,
   "id": "2e972613-a579-4c80-919e-c8c1ebfe39c8",
   "metadata": {},
   "outputs": [
    {
     "name": "stdout",
     "output_type": "stream",
     "text": [
      "15\n"
     ]
    }
   ],
   "source": [
    "print(result)"
   ]
  },
  {
   "cell_type": "code",
   "execution_count": 13,
   "id": "65b370af-d9c6-43ce-9aef-2d225868aece",
   "metadata": {},
   "outputs": [
    {
     "name": "stdout",
     "output_type": "stream",
     "text": [
      "The result is 15\n"
     ]
    }
   ],
   "source": [
    "def print_sum(num1,num2):\n",
    "    result  = num1 + num2\n",
    "    print(f\"The result is {result}\")\n",
    "print_sum(5,10)"
   ]
  },
  {
   "cell_type": "code",
   "execution_count": 15,
   "id": "b9b5c035-523b-4c97-9222-78359185b9e6",
   "metadata": {},
   "outputs": [
    {
     "data": {
      "text/plain": [
       "16"
      ]
     },
     "execution_count": 15,
     "metadata": {},
     "output_type": "execute_result"
    }
   ],
   "source": [
    "# WAF that takes a number and returns its square.\n",
    "def square(number):\n",
    "    return number ** 2\n",
    "square(4)"
   ]
  },
  {
   "cell_type": "code",
   "execution_count": 21,
   "id": "87f5deb7-1b68-4993-8c8e-51373f24c121",
   "metadata": {},
   "outputs": [
    {
     "data": {
      "text/plain": [
       "122.0"
      ]
     },
     "execution_count": 21,
     "metadata": {},
     "output_type": "execute_result"
    }
   ],
   "source": [
    "# °F = (°C × 9/5) + 32\n",
    "def to_fahren(cel):\n",
    "    return (cel*9/5)+32\n",
    "to_fahren(50)"
   ]
  },
  {
   "cell_type": "code",
   "execution_count": 23,
   "id": "1a3ffca3-dadd-4425-9555-a8afc80f93b9",
   "metadata": {},
   "outputs": [
    {
     "data": {
      "text/plain": [
       "17"
      ]
     },
     "execution_count": 23,
     "metadata": {},
     "output_type": "execute_result"
    }
   ],
   "source": [
    "# A function that takes three numbers and returns the largest\n",
    "def max_of_three(a,b,c):\n",
    "    return max(a,b,c)\n",
    "max_of_three(5,10,17)"
   ]
  },
  {
   "cell_type": "code",
   "execution_count": 31,
   "id": "6f78dde3-9693-4fe8-8ef3-8bdec09195c6",
   "metadata": {},
   "outputs": [
    {
     "data": {
      "text/plain": [
       "'air'"
      ]
     },
     "execution_count": 31,
     "metadata": {},
     "output_type": "execute_result"
    }
   ],
   "source": [
    "#A function that takes a string and reverses it.\n",
    "#Hint: string[::-1]\n",
    "def string_rev(string):\n",
    "    return string[::-1]\n",
    "string_rev(\"ria\")"
   ]
  },
  {
   "cell_type": "code",
   "execution_count": 39,
   "id": "e100373a-360c-4fdd-844e-6fc0e45d72ae",
   "metadata": {},
   "outputs": [
    {
     "data": {
      "text/plain": [
       "3"
      ]
     },
     "execution_count": 39,
     "metadata": {},
     "output_type": "execute_result"
    }
   ],
   "source": [
    "#a function that can count the number of vowels in a string: - \n",
    "\"AEIOU\"\n",
    "def count_vowels(string):\n",
    "    vowels = \"aeiouAEIOU\"\n",
    "    return sum(1 for char in string if char in vowels)\n",
    "count_vowels(\"Hello World\")"
   ]
  },
  {
   "cell_type": "code",
   "execution_count": null,
   "id": "814df397-b0eb-4162-b045-bc51cff7b85f",
   "metadata": {},
   "outputs": [],
   "source": []
  }
 ],
 "metadata": {
  "kernelspec": {
   "display_name": "Python 3 (ipykernel)",
   "language": "python",
   "name": "python3"
  },
  "language_info": {
   "codemirror_mode": {
    "name": "ipython",
    "version": 3
   },
   "file_extension": ".py",
   "mimetype": "text/x-python",
   "name": "python",
   "nbconvert_exporter": "python",
   "pygments_lexer": "ipython3",
   "version": "3.12.4"
  }
 },
 "nbformat": 4,
 "nbformat_minor": 5
}

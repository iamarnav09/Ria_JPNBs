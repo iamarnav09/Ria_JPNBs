{
 "cells": [
  {
   "cell_type": "code",
   "execution_count": 1,
   "id": "f1d78818-0990-46f5-a3cf-bcec55683282",
   "metadata": {},
   "outputs": [],
   "source": [
    "#Values & Variables: - \n",
    "x=5\n",
    "#The = sign is helping to store the value, \"5\" in the varaible \"x\""
   ]
  },
  {
   "cell_type": "code",
   "execution_count": 2,
   "id": "cc25772e-32be-42fa-8c9b-dbf1556b7ab9",
   "metadata": {},
   "outputs": [
    {
     "data": {
      "text/plain": [
       "5"
      ]
     },
     "execution_count": 2,
     "metadata": {},
     "output_type": "execute_result"
    }
   ],
   "source": [
    "x"
   ]
  },
  {
   "cell_type": "code",
   "execution_count": 3,
   "id": "cd503b16-09ff-4095-94b6-b58af505c79c",
   "metadata": {},
   "outputs": [],
   "source": [
    "pam = 56"
   ]
  },
  {
   "cell_type": "code",
   "execution_count": 4,
   "id": "a520aced-33b1-46dd-9297-e1cecb18d2c5",
   "metadata": {},
   "outputs": [
    {
     "data": {
      "text/plain": [
       "56"
      ]
     },
     "execution_count": 4,
     "metadata": {},
     "output_type": "execute_result"
    }
   ],
   "source": [
    "pam"
   ]
  },
  {
   "cell_type": "code",
   "execution_count": 5,
   "id": "65565eae-cf44-4418-9674-210ed2ff5bce",
   "metadata": {},
   "outputs": [],
   "source": [
    "#Values & Variables\n",
    "#Operators in Python\n",
    "#Condtional Statements (if,else)\n",
    "#Loops\n",
    "#Functions (In-Python & def)\n",
    "#Libraries"
   ]
  },
  {
   "cell_type": "code",
   "execution_count": 6,
   "id": "21976322-73b5-4854-81e0-88e0a35a1868",
   "metadata": {},
   "outputs": [],
   "source": [
    "fgh=89"
   ]
  },
  {
   "cell_type": "code",
   "execution_count": 7,
   "id": "c6a70399-c289-482e-b0eb-efe68c208ee8",
   "metadata": {},
   "outputs": [
    {
     "data": {
      "text/plain": [
       "89"
      ]
     },
     "execution_count": 7,
     "metadata": {},
     "output_type": "execute_result"
    }
   ],
   "source": [
    "fgh"
   ]
  },
  {
   "cell_type": "code",
   "execution_count": 8,
   "id": "ad0861e6-f924-4c77-a768-fa04cabab296",
   "metadata": {},
   "outputs": [],
   "source": [
    "f_g_h = 89"
   ]
  },
  {
   "cell_type": "code",
   "execution_count": 9,
   "id": "c0c2bed4-22eb-4d7a-ab06-f5d4b3cb4f03",
   "metadata": {},
   "outputs": [],
   "source": [
    "arnav_sharma = 123"
   ]
  },
  {
   "cell_type": "code",
   "execution_count": 10,
   "id": "ff2911e6-22ca-43df-9727-70654ebcd931",
   "metadata": {},
   "outputs": [
    {
     "data": {
      "text/plain": [
       "123"
      ]
     },
     "execution_count": 10,
     "metadata": {},
     "output_type": "execute_result"
    }
   ],
   "source": [
    "arnav_sharma"
   ]
  },
  {
   "cell_type": "code",
   "execution_count": 11,
   "id": "afc4451f-c9fc-4742-9e3f-69c23497d2e1",
   "metadata": {},
   "outputs": [
    {
     "data": {
      "text/plain": [
       "'/Users/arnav/Documents/GitHub/Ria_JPNBs'"
      ]
     },
     "execution_count": 11,
     "metadata": {},
     "output_type": "execute_result"
    }
   ],
   "source": [
    "pwd"
   ]
  },
  {
   "cell_type": "code",
   "execution_count": 12,
   "id": "b2b3f08e-d04b-4486-8908-5ac858a65eb8",
   "metadata": {},
   "outputs": [],
   "source": [
    "#Kernel Architecture: - \n",
    "\n",
    "# Step 1 - Input the data\n",
    "# Step 2 - The input data as taken from step 1 goes in \"Syntax Checker & Translator (STC)\" which is installed in your system's CPU.\n",
    "# Step 2.1 - The STC converts the input into \"byte\" code\n",
    "# Step 3 - The byte code now goes into the another component of python arch. \"Python Virtual Machine (PVM)\" - Compiler\n",
    "# Step 3.1 - This PVM converts the byte code into machine output\n",
    "# Step 4 - We as humans get the value from Step 3.1"
   ]
  },
  {
   "cell_type": "code",
   "execution_count": 13,
   "id": "32c39d6a-ad2e-471a-a0af-47bddad66316",
   "metadata": {},
   "outputs": [
    {
     "data": {
      "text/plain": [
       "24"
      ]
     },
     "execution_count": 13,
     "metadata": {},
     "output_type": "execute_result"
    }
   ],
   "source": [
    "1+23"
   ]
  },
  {
   "cell_type": "code",
   "execution_count": 14,
   "id": "1d0fe1f4-6db0-4619-b2fd-4515e215f1b3",
   "metadata": {},
   "outputs": [],
   "source": [
    "import pandas as pd"
   ]
  },
  {
   "cell_type": "code",
   "execution_count": 15,
   "id": "f8fd884b-a43a-450f-af00-b90a1cb1ac8c",
   "metadata": {},
   "outputs": [
    {
     "ename": "FileNotFoundError",
     "evalue": "[Errno 2] No such file or directory: 'C:\\\\Users\\\\ADMIN1\\\\Downloads\\\\23.Date Functions (2).csv'",
     "output_type": "error",
     "traceback": [
      "\u001b[0;31m---------------------------------------------------------------------------\u001b[0m",
      "\u001b[0;31mFileNotFoundError\u001b[0m                         Traceback (most recent call last)",
      "\u001b[0;32m<ipython-input-15-889b8645d978>\u001b[0m in \u001b[0;36m<module>\u001b[0;34m\u001b[0m\n\u001b[1;32m      1\u001b[0m \u001b[0;31m#Pandas Dataframe\u001b[0m\u001b[0;34m\u001b[0m\u001b[0;34m\u001b[0m\u001b[0;34m\u001b[0m\u001b[0m\n\u001b[0;32m----> 2\u001b[0;31m \u001b[0mdf\u001b[0m \u001b[0;34m=\u001b[0m \u001b[0mpd\u001b[0m\u001b[0;34m.\u001b[0m\u001b[0mread_csv\u001b[0m\u001b[0;34m(\u001b[0m\u001b[0;34mr\"C:\\Users\\ADMIN1\\Downloads\\23.Date Functions (2).csv\"\u001b[0m\u001b[0;34m)\u001b[0m\u001b[0;34m\u001b[0m\u001b[0;34m\u001b[0m\u001b[0m\n\u001b[0m",
      "\u001b[0;32m~/opt/anaconda3/lib/python3.8/site-packages/pandas/util/_decorators.py\u001b[0m in \u001b[0;36mwrapper\u001b[0;34m(*args, **kwargs)\u001b[0m\n\u001b[1;32m    309\u001b[0m                     \u001b[0mstacklevel\u001b[0m\u001b[0;34m=\u001b[0m\u001b[0mstacklevel\u001b[0m\u001b[0;34m,\u001b[0m\u001b[0;34m\u001b[0m\u001b[0;34m\u001b[0m\u001b[0m\n\u001b[1;32m    310\u001b[0m                 )\n\u001b[0;32m--> 311\u001b[0;31m             \u001b[0;32mreturn\u001b[0m \u001b[0mfunc\u001b[0m\u001b[0;34m(\u001b[0m\u001b[0;34m*\u001b[0m\u001b[0margs\u001b[0m\u001b[0;34m,\u001b[0m \u001b[0;34m**\u001b[0m\u001b[0mkwargs\u001b[0m\u001b[0;34m)\u001b[0m\u001b[0;34m\u001b[0m\u001b[0;34m\u001b[0m\u001b[0m\n\u001b[0m\u001b[1;32m    312\u001b[0m \u001b[0;34m\u001b[0m\u001b[0m\n\u001b[1;32m    313\u001b[0m         \u001b[0;32mreturn\u001b[0m \u001b[0mwrapper\u001b[0m\u001b[0;34m\u001b[0m\u001b[0;34m\u001b[0m\u001b[0m\n",
      "\u001b[0;32m~/opt/anaconda3/lib/python3.8/site-packages/pandas/io/parsers/readers.py\u001b[0m in \u001b[0;36mread_csv\u001b[0;34m(filepath_or_buffer, sep, delimiter, header, names, index_col, usecols, squeeze, prefix, mangle_dupe_cols, dtype, engine, converters, true_values, false_values, skipinitialspace, skiprows, skipfooter, nrows, na_values, keep_default_na, na_filter, verbose, skip_blank_lines, parse_dates, infer_datetime_format, keep_date_col, date_parser, dayfirst, cache_dates, iterator, chunksize, compression, thousands, decimal, lineterminator, quotechar, quoting, doublequote, escapechar, comment, encoding, encoding_errors, dialect, error_bad_lines, warn_bad_lines, on_bad_lines, delim_whitespace, low_memory, memory_map, float_precision, storage_options)\u001b[0m\n\u001b[1;32m    584\u001b[0m     \u001b[0mkwds\u001b[0m\u001b[0;34m.\u001b[0m\u001b[0mupdate\u001b[0m\u001b[0;34m(\u001b[0m\u001b[0mkwds_defaults\u001b[0m\u001b[0;34m)\u001b[0m\u001b[0;34m\u001b[0m\u001b[0;34m\u001b[0m\u001b[0m\n\u001b[1;32m    585\u001b[0m \u001b[0;34m\u001b[0m\u001b[0m\n\u001b[0;32m--> 586\u001b[0;31m     \u001b[0;32mreturn\u001b[0m \u001b[0m_read\u001b[0m\u001b[0;34m(\u001b[0m\u001b[0mfilepath_or_buffer\u001b[0m\u001b[0;34m,\u001b[0m \u001b[0mkwds\u001b[0m\u001b[0;34m)\u001b[0m\u001b[0;34m\u001b[0m\u001b[0;34m\u001b[0m\u001b[0m\n\u001b[0m\u001b[1;32m    587\u001b[0m \u001b[0;34m\u001b[0m\u001b[0m\n\u001b[1;32m    588\u001b[0m \u001b[0;34m\u001b[0m\u001b[0m\n",
      "\u001b[0;32m~/opt/anaconda3/lib/python3.8/site-packages/pandas/io/parsers/readers.py\u001b[0m in \u001b[0;36m_read\u001b[0;34m(filepath_or_buffer, kwds)\u001b[0m\n\u001b[1;32m    480\u001b[0m \u001b[0;34m\u001b[0m\u001b[0m\n\u001b[1;32m    481\u001b[0m     \u001b[0;31m# Create the parser.\u001b[0m\u001b[0;34m\u001b[0m\u001b[0;34m\u001b[0m\u001b[0;34m\u001b[0m\u001b[0m\n\u001b[0;32m--> 482\u001b[0;31m     \u001b[0mparser\u001b[0m \u001b[0;34m=\u001b[0m \u001b[0mTextFileReader\u001b[0m\u001b[0;34m(\u001b[0m\u001b[0mfilepath_or_buffer\u001b[0m\u001b[0;34m,\u001b[0m \u001b[0;34m**\u001b[0m\u001b[0mkwds\u001b[0m\u001b[0;34m)\u001b[0m\u001b[0;34m\u001b[0m\u001b[0;34m\u001b[0m\u001b[0m\n\u001b[0m\u001b[1;32m    483\u001b[0m \u001b[0;34m\u001b[0m\u001b[0m\n\u001b[1;32m    484\u001b[0m     \u001b[0;32mif\u001b[0m \u001b[0mchunksize\u001b[0m \u001b[0;32mor\u001b[0m \u001b[0miterator\u001b[0m\u001b[0;34m:\u001b[0m\u001b[0;34m\u001b[0m\u001b[0;34m\u001b[0m\u001b[0m\n",
      "\u001b[0;32m~/opt/anaconda3/lib/python3.8/site-packages/pandas/io/parsers/readers.py\u001b[0m in \u001b[0;36m__init__\u001b[0;34m(self, f, engine, **kwds)\u001b[0m\n\u001b[1;32m    809\u001b[0m             \u001b[0mself\u001b[0m\u001b[0;34m.\u001b[0m\u001b[0moptions\u001b[0m\u001b[0;34m[\u001b[0m\u001b[0;34m\"has_index_names\"\u001b[0m\u001b[0;34m]\u001b[0m \u001b[0;34m=\u001b[0m \u001b[0mkwds\u001b[0m\u001b[0;34m[\u001b[0m\u001b[0;34m\"has_index_names\"\u001b[0m\u001b[0;34m]\u001b[0m\u001b[0;34m\u001b[0m\u001b[0;34m\u001b[0m\u001b[0m\n\u001b[1;32m    810\u001b[0m \u001b[0;34m\u001b[0m\u001b[0m\n\u001b[0;32m--> 811\u001b[0;31m         \u001b[0mself\u001b[0m\u001b[0;34m.\u001b[0m\u001b[0m_engine\u001b[0m \u001b[0;34m=\u001b[0m \u001b[0mself\u001b[0m\u001b[0;34m.\u001b[0m\u001b[0m_make_engine\u001b[0m\u001b[0;34m(\u001b[0m\u001b[0mself\u001b[0m\u001b[0;34m.\u001b[0m\u001b[0mengine\u001b[0m\u001b[0;34m)\u001b[0m\u001b[0;34m\u001b[0m\u001b[0;34m\u001b[0m\u001b[0m\n\u001b[0m\u001b[1;32m    812\u001b[0m \u001b[0;34m\u001b[0m\u001b[0m\n\u001b[1;32m    813\u001b[0m     \u001b[0;32mdef\u001b[0m \u001b[0mclose\u001b[0m\u001b[0;34m(\u001b[0m\u001b[0mself\u001b[0m\u001b[0;34m)\u001b[0m\u001b[0;34m:\u001b[0m\u001b[0;34m\u001b[0m\u001b[0;34m\u001b[0m\u001b[0m\n",
      "\u001b[0;32m~/opt/anaconda3/lib/python3.8/site-packages/pandas/io/parsers/readers.py\u001b[0m in \u001b[0;36m_make_engine\u001b[0;34m(self, engine)\u001b[0m\n\u001b[1;32m   1038\u001b[0m             )\n\u001b[1;32m   1039\u001b[0m         \u001b[0;31m# error: Too many arguments for \"ParserBase\"\u001b[0m\u001b[0;34m\u001b[0m\u001b[0;34m\u001b[0m\u001b[0;34m\u001b[0m\u001b[0m\n\u001b[0;32m-> 1040\u001b[0;31m         \u001b[0;32mreturn\u001b[0m \u001b[0mmapping\u001b[0m\u001b[0;34m[\u001b[0m\u001b[0mengine\u001b[0m\u001b[0;34m]\u001b[0m\u001b[0;34m(\u001b[0m\u001b[0mself\u001b[0m\u001b[0;34m.\u001b[0m\u001b[0mf\u001b[0m\u001b[0;34m,\u001b[0m \u001b[0;34m**\u001b[0m\u001b[0mself\u001b[0m\u001b[0;34m.\u001b[0m\u001b[0moptions\u001b[0m\u001b[0;34m)\u001b[0m  \u001b[0;31m# type: ignore[call-arg]\u001b[0m\u001b[0;34m\u001b[0m\u001b[0;34m\u001b[0m\u001b[0m\n\u001b[0m\u001b[1;32m   1041\u001b[0m \u001b[0;34m\u001b[0m\u001b[0m\n\u001b[1;32m   1042\u001b[0m     \u001b[0;32mdef\u001b[0m \u001b[0m_failover_to_python\u001b[0m\u001b[0;34m(\u001b[0m\u001b[0mself\u001b[0m\u001b[0;34m)\u001b[0m\u001b[0;34m:\u001b[0m\u001b[0;34m\u001b[0m\u001b[0;34m\u001b[0m\u001b[0m\n",
      "\u001b[0;32m~/opt/anaconda3/lib/python3.8/site-packages/pandas/io/parsers/c_parser_wrapper.py\u001b[0m in \u001b[0;36m__init__\u001b[0;34m(self, src, **kwds)\u001b[0m\n\u001b[1;32m     49\u001b[0m \u001b[0;34m\u001b[0m\u001b[0m\n\u001b[1;32m     50\u001b[0m         \u001b[0;31m# open handles\u001b[0m\u001b[0;34m\u001b[0m\u001b[0;34m\u001b[0m\u001b[0;34m\u001b[0m\u001b[0m\n\u001b[0;32m---> 51\u001b[0;31m         \u001b[0mself\u001b[0m\u001b[0;34m.\u001b[0m\u001b[0m_open_handles\u001b[0m\u001b[0;34m(\u001b[0m\u001b[0msrc\u001b[0m\u001b[0;34m,\u001b[0m \u001b[0mkwds\u001b[0m\u001b[0;34m)\u001b[0m\u001b[0;34m\u001b[0m\u001b[0;34m\u001b[0m\u001b[0m\n\u001b[0m\u001b[1;32m     52\u001b[0m         \u001b[0;32massert\u001b[0m \u001b[0mself\u001b[0m\u001b[0;34m.\u001b[0m\u001b[0mhandles\u001b[0m \u001b[0;32mis\u001b[0m \u001b[0;32mnot\u001b[0m \u001b[0;32mNone\u001b[0m\u001b[0;34m\u001b[0m\u001b[0;34m\u001b[0m\u001b[0m\n\u001b[1;32m     53\u001b[0m \u001b[0;34m\u001b[0m\u001b[0m\n",
      "\u001b[0;32m~/opt/anaconda3/lib/python3.8/site-packages/pandas/io/parsers/base_parser.py\u001b[0m in \u001b[0;36m_open_handles\u001b[0;34m(self, src, kwds)\u001b[0m\n\u001b[1;32m    220\u001b[0m         \u001b[0mLet\u001b[0m \u001b[0mthe\u001b[0m \u001b[0mreaders\u001b[0m \u001b[0mopen\u001b[0m \u001b[0mIOHandles\u001b[0m \u001b[0mafter\u001b[0m \u001b[0mthey\u001b[0m \u001b[0mare\u001b[0m \u001b[0mdone\u001b[0m \u001b[0;32mwith\u001b[0m \u001b[0mtheir\u001b[0m \u001b[0mpotential\u001b[0m \u001b[0mraises\u001b[0m\u001b[0;34m.\u001b[0m\u001b[0;34m\u001b[0m\u001b[0;34m\u001b[0m\u001b[0m\n\u001b[1;32m    221\u001b[0m         \"\"\"\n\u001b[0;32m--> 222\u001b[0;31m         self.handles = get_handle(\n\u001b[0m\u001b[1;32m    223\u001b[0m             \u001b[0msrc\u001b[0m\u001b[0;34m,\u001b[0m\u001b[0;34m\u001b[0m\u001b[0;34m\u001b[0m\u001b[0m\n\u001b[1;32m    224\u001b[0m             \u001b[0;34m\"r\"\u001b[0m\u001b[0;34m,\u001b[0m\u001b[0;34m\u001b[0m\u001b[0;34m\u001b[0m\u001b[0m\n",
      "\u001b[0;32m~/opt/anaconda3/lib/python3.8/site-packages/pandas/io/common.py\u001b[0m in \u001b[0;36mget_handle\u001b[0;34m(path_or_buf, mode, encoding, compression, memory_map, is_text, errors, storage_options)\u001b[0m\n\u001b[1;32m    700\u001b[0m         \u001b[0;32mif\u001b[0m \u001b[0mioargs\u001b[0m\u001b[0;34m.\u001b[0m\u001b[0mencoding\u001b[0m \u001b[0;32mand\u001b[0m \u001b[0;34m\"b\"\u001b[0m \u001b[0;32mnot\u001b[0m \u001b[0;32min\u001b[0m \u001b[0mioargs\u001b[0m\u001b[0;34m.\u001b[0m\u001b[0mmode\u001b[0m\u001b[0;34m:\u001b[0m\u001b[0;34m\u001b[0m\u001b[0;34m\u001b[0m\u001b[0m\n\u001b[1;32m    701\u001b[0m             \u001b[0;31m# Encoding\u001b[0m\u001b[0;34m\u001b[0m\u001b[0;34m\u001b[0m\u001b[0;34m\u001b[0m\u001b[0m\n\u001b[0;32m--> 702\u001b[0;31m             handle = open(\n\u001b[0m\u001b[1;32m    703\u001b[0m                 \u001b[0mhandle\u001b[0m\u001b[0;34m,\u001b[0m\u001b[0;34m\u001b[0m\u001b[0;34m\u001b[0m\u001b[0m\n\u001b[1;32m    704\u001b[0m                 \u001b[0mioargs\u001b[0m\u001b[0;34m.\u001b[0m\u001b[0mmode\u001b[0m\u001b[0;34m,\u001b[0m\u001b[0;34m\u001b[0m\u001b[0;34m\u001b[0m\u001b[0m\n",
      "\u001b[0;31mFileNotFoundError\u001b[0m: [Errno 2] No such file or directory: 'C:\\\\Users\\\\ADMIN1\\\\Downloads\\\\23.Date Functions (2).csv'"
     ]
    }
   ],
   "source": [
    "#Pandas Dataframe\n",
    "df = pd.read_csv(r\"C:\\Users\\ADMIN1\\Downloads\\23.Date Functions (2).csv\")"
   ]
  },
  {
   "cell_type": "code",
   "execution_count": 16,
   "id": "fbe30c1a-ae76-4a41-8cde-c260eb9aa835",
   "metadata": {
    "scrolled": true
   },
   "outputs": [
    {
     "ename": "NameError",
     "evalue": "name 'df' is not defined",
     "output_type": "error",
     "traceback": [
      "\u001b[0;31m---------------------------------------------------------------------------\u001b[0m",
      "\u001b[0;31mNameError\u001b[0m                                 Traceback (most recent call last)",
      "\u001b[0;32m<ipython-input-16-00cf07b74dcd>\u001b[0m in \u001b[0;36m<module>\u001b[0;34m\u001b[0m\n\u001b[0;32m----> 1\u001b[0;31m \u001b[0mdf\u001b[0m\u001b[0;34m\u001b[0m\u001b[0;34m\u001b[0m\u001b[0m\n\u001b[0m",
      "\u001b[0;31mNameError\u001b[0m: name 'df' is not defined"
     ]
    }
   ],
   "source": [
    "df"
   ]
  },
  {
   "cell_type": "code",
   "execution_count": 17,
   "id": "653643df-01e8-4733-b67e-e47dbd6233e6",
   "metadata": {},
   "outputs": [
    {
     "data": {
      "text/plain": [
       "7"
      ]
     },
     "execution_count": 17,
     "metadata": {},
     "output_type": "execute_result"
    }
   ],
   "source": [
    "#Operators in Python - \n",
    "#Arithmetic Operators - +,-,*,/,%,//\n",
    "2+5"
   ]
  },
  {
   "cell_type": "code",
   "execution_count": 18,
   "id": "824798e9-a3e1-42df-aba1-e4eb2bf7eff4",
   "metadata": {},
   "outputs": [
    {
     "data": {
      "text/plain": [
       "30"
      ]
     },
     "execution_count": 18,
     "metadata": {},
     "output_type": "execute_result"
    }
   ],
   "source": [
    "6*5"
   ]
  },
  {
   "cell_type": "code",
   "execution_count": 19,
   "id": "3f7cb7f9-22a1-4f80-a086-64b47179a924",
   "metadata": {},
   "outputs": [
    {
     "data": {
      "text/plain": [
       "10.0"
      ]
     },
     "execution_count": 19,
     "metadata": {},
     "output_type": "execute_result"
    }
   ],
   "source": [
    "30/3"
   ]
  },
  {
   "cell_type": "code",
   "execution_count": 20,
   "id": "49c764bb-399d-4544-a198-3f98e909f23d",
   "metadata": {},
   "outputs": [
    {
     "data": {
      "text/plain": [
       "91"
      ]
     },
     "execution_count": 20,
     "metadata": {},
     "output_type": "execute_result"
    }
   ],
   "source": [
    "98-7"
   ]
  },
  {
   "cell_type": "code",
   "execution_count": 21,
   "id": "81e98606-8872-4146-8ac5-4ab76943c2ad",
   "metadata": {},
   "outputs": [
    {
     "data": {
      "text/plain": [
       "2"
      ]
     },
     "execution_count": 21,
     "metadata": {},
     "output_type": "execute_result"
    }
   ],
   "source": [
    "#% Operator: - This basically helps us to know the remainder.\n",
    "30%7"
   ]
  },
  {
   "cell_type": "code",
   "execution_count": 22,
   "id": "79f18264-7312-4b91-9ba9-ebc127bf1caf",
   "metadata": {},
   "outputs": [
    {
     "name": "stdout",
     "output_type": "stream",
     "text": [
      "5\n"
     ]
    }
   ],
   "source": [
    "if x%5 == 0:\n",
    "    print(x)"
   ]
  },
  {
   "cell_type": "code",
   "execution_count": 23,
   "id": "8f4fb720-b6c8-4827-823b-5a9bc876f65a",
   "metadata": {},
   "outputs": [
    {
     "data": {
      "text/plain": [
       "16"
      ]
     },
     "execution_count": 23,
     "metadata": {},
     "output_type": "execute_result"
    }
   ],
   "source": [
    "#// Operator: - This basically helps us to know the Divisor\n",
    "96//6"
   ]
  },
  {
   "cell_type": "code",
   "execution_count": 24,
   "id": "2ba81831-31a7-44b0-badf-e21b9ad6b1f6",
   "metadata": {},
   "outputs": [],
   "source": [
    "#OS Library in Python: - \n",
    "import os"
   ]
  },
  {
   "cell_type": "code",
   "execution_count": 25,
   "id": "0b16e18b-00e8-4ac6-8341-39590ab511fc",
   "metadata": {},
   "outputs": [
    {
     "data": {
      "text/plain": [
       "'/Users/arnav/Documents/GitHub/Ria_JPNBs'"
      ]
     },
     "execution_count": 25,
     "metadata": {},
     "output_type": "execute_result"
    }
   ],
   "source": [
    "pwd"
   ]
  },
  {
   "cell_type": "code",
   "execution_count": 26,
   "id": "1a0a3599-ad23-4a70-bd45-cf252f59991d",
   "metadata": {},
   "outputs": [
    {
     "name": "stdout",
     "output_type": "stream",
     "text": [
      "Folder got Created\n"
     ]
    }
   ],
   "source": [
    "#This helps me to create a directory and execute it.\n",
    "os.mkdir('Prabha_1')\n",
    "print(\"Folder got Created\")"
   ]
  },
  {
   "cell_type": "code",
   "execution_count": 27,
   "id": "0b9420a0-f164-478d-832e-6be4bc097bb3",
   "metadata": {},
   "outputs": [
    {
     "name": "stdout",
     "output_type": "stream",
     "text": [
      "Folder got Changed\n"
     ]
    }
   ],
   "source": [
    "#This helps me to change the directory and execute it.\n",
    "os.chdir('Prabha_1')\n",
    "print(\"Folder got Changed\")"
   ]
  },
  {
   "cell_type": "code",
   "execution_count": 28,
   "id": "33268bec-eed3-486d-999c-e9bbf16c9299",
   "metadata": {},
   "outputs": [
    {
     "data": {
      "text/plain": [
       "'/Users/arnav/Documents/GitHub/Ria_JPNBs/Prabha_1'"
      ]
     },
     "execution_count": 28,
     "metadata": {},
     "output_type": "execute_result"
    }
   ],
   "source": [
    "pwd"
   ]
  },
  {
   "cell_type": "code",
   "execution_count": 29,
   "id": "be0b6e40-16b0-427b-803a-2bd401d64779",
   "metadata": {},
   "outputs": [
    {
     "data": {
      "text/plain": [
       "'/Users/arnav/Documents/GitHub/Ria_JPNBs/Prabha_1'"
      ]
     },
     "execution_count": 29,
     "metadata": {},
     "output_type": "execute_result"
    }
   ],
   "source": [
    "#The filepath of my host directory.\n",
    "os.getcwd()"
   ]
  },
  {
   "cell_type": "code",
   "execution_count": 30,
   "id": "458ce90f-17ac-472f-b55a-1bdb67e24e1c",
   "metadata": {},
   "outputs": [
    {
     "data": {
      "text/plain": [
       "'/Users/arnav/Documents/GitHub/Ria_JPNBs/Prabha_1'"
      ]
     },
     "execution_count": 30,
     "metadata": {},
     "output_type": "execute_result"
    }
   ],
   "source": [
    "pwd"
   ]
  },
  {
   "cell_type": "code",
   "execution_count": 31,
   "id": "1d844dc6-4973-4977-911d-4a7976b1e279",
   "metadata": {},
   "outputs": [
    {
     "ename": "FileNotFoundError",
     "evalue": "[Errno 2] No such file or directory: 'C://Users//ADMIN1//Desktop//Parminder'",
     "output_type": "error",
     "traceback": [
      "\u001b[0;31m---------------------------------------------------------------------------\u001b[0m",
      "\u001b[0;31mFileNotFoundError\u001b[0m                         Traceback (most recent call last)",
      "\u001b[0;32m<ipython-input-31-5c18dabe7595>\u001b[0m in \u001b[0;36m<module>\u001b[0;34m\u001b[0m\n\u001b[0;32m----> 1\u001b[0;31m \u001b[0mos\u001b[0m\u001b[0;34m.\u001b[0m\u001b[0mchdir\u001b[0m\u001b[0;34m(\u001b[0m\u001b[0;34m'C://Users//ADMIN1//Desktop//Parminder'\u001b[0m\u001b[0;34m)\u001b[0m\u001b[0;34m\u001b[0m\u001b[0;34m\u001b[0m\u001b[0m\n\u001b[0m\u001b[1;32m      2\u001b[0m \u001b[0mprint\u001b[0m\u001b[0;34m(\u001b[0m\u001b[0;34m'the host dir. got changed'\u001b[0m\u001b[0;34m)\u001b[0m\u001b[0;34m\u001b[0m\u001b[0;34m\u001b[0m\u001b[0m\n",
      "\u001b[0;31mFileNotFoundError\u001b[0m: [Errno 2] No such file or directory: 'C://Users//ADMIN1//Desktop//Parminder'"
     ]
    }
   ],
   "source": [
    "os.chdir('C://Users//ADMIN1//Desktop//Parminder')\n",
    "print('the host dir. got changed')"
   ]
  },
  {
   "cell_type": "code",
   "execution_count": 32,
   "id": "7f54c187-3228-429e-b6f2-2f0ac359d54f",
   "metadata": {},
   "outputs": [
    {
     "data": {
      "text/plain": [
       "'/Users/arnav/Documents/GitHub/Ria_JPNBs/Prabha_1'"
      ]
     },
     "execution_count": 32,
     "metadata": {},
     "output_type": "execute_result"
    }
   ],
   "source": [
    "pwd"
   ]
  },
  {
   "cell_type": "code",
   "execution_count": 33,
   "id": "e3d33146-b17d-4b62-ab61-6a9762156110",
   "metadata": {},
   "outputs": [],
   "source": [
    "#Logical Operators: - and, or & not\n",
    "# \"Do or Die\"  \"Do and Die\"\n",
    "#Logical: - (1) This will always give me either a True or False value.\n",
    "#Logical AND: - This returns only the \"True\" value when both my operands are True.\n",
    "#Logical OR: - This returns the \"True\" value when any of my operand is Ture."
   ]
  },
  {
   "cell_type": "code",
   "execution_count": 34,
   "id": "8bf193e0-567e-42ab-b04b-ca507b72e0be",
   "metadata": {},
   "outputs": [],
   "source": [
    "#Body To Mass Indx: - BMI\n",
    "height=181\n",
    "weight=81 "
   ]
  },
  {
   "cell_type": "code",
   "execution_count": 35,
   "id": "639fc65c-cfe0-44b0-83f5-4d3e60ee9744",
   "metadata": {},
   "outputs": [
    {
     "data": {
      "text/plain": [
       "False"
      ]
     },
     "execution_count": 35,
     "metadata": {},
     "output_type": "execute_result"
    }
   ],
   "source": [
    "height>188 and weight>75"
   ]
  },
  {
   "cell_type": "code",
   "execution_count": 36,
   "id": "4afe2019-9317-419f-a5a2-4634276a62f9",
   "metadata": {},
   "outputs": [
    {
     "data": {
      "text/plain": [
       "True"
      ]
     },
     "execution_count": 36,
     "metadata": {},
     "output_type": "execute_result"
    }
   ],
   "source": [
    "height>188 or weight>75"
   ]
  },
  {
   "cell_type": "code",
   "execution_count": 37,
   "id": "80318da1-5ac0-40b7-bea0-b57705acf3e1",
   "metadata": {},
   "outputs": [
    {
     "data": {
      "text/plain": [
       "True"
      ]
     },
     "execution_count": 37,
     "metadata": {},
     "output_type": "execute_result"
    }
   ],
   "source": [
    "# 51-64: - x\n",
    "x=55\n",
    "x>=51 and x<=64"
   ]
  },
  {
   "cell_type": "code",
   "execution_count": 38,
   "id": "e8f6345b-7897-4b11-b0a0-f0ca51add46f",
   "metadata": {},
   "outputs": [
    {
     "name": "stdout",
     "output_type": "stream",
     "text": [
      "False\n"
     ]
    }
   ],
   "source": [
    "#Boolean: - 0 or 1 (False or True)\n",
    "cv=True\n",
    "print(not cv)"
   ]
  },
  {
   "cell_type": "code",
   "execution_count": 39,
   "id": "c91a332e-54a7-4e14-8ede-07249b0bea51",
   "metadata": {},
   "outputs": [
    {
     "name": "stdout",
     "output_type": "stream",
     "text": [
      "Enter the Boy's CTC: \n"
     ]
    },
    {
     "ename": "ValueError",
     "evalue": "invalid literal for int() with base 10: ''",
     "output_type": "error",
     "traceback": [
      "\u001b[0;31m---------------------------------------------------------------------------\u001b[0m",
      "\u001b[0;31mValueError\u001b[0m                                Traceback (most recent call last)",
      "\u001b[0;32m<ipython-input-39-939600455155>\u001b[0m in \u001b[0;36m<module>\u001b[0;34m\u001b[0m\n\u001b[0;32m----> 1\u001b[0;31m \u001b[0mctc\u001b[0m \u001b[0;34m=\u001b[0m \u001b[0mint\u001b[0m\u001b[0;34m(\u001b[0m\u001b[0minput\u001b[0m\u001b[0;34m(\u001b[0m\u001b[0;34m\"Enter the Boy's CTC: \"\u001b[0m\u001b[0;34m)\u001b[0m\u001b[0;34m)\u001b[0m\u001b[0;34m\u001b[0m\u001b[0;34m\u001b[0m\u001b[0m\n\u001b[0m\u001b[1;32m      2\u001b[0m \u001b[0mheight\u001b[0m \u001b[0;34m=\u001b[0m \u001b[0mint\u001b[0m\u001b[0;34m(\u001b[0m\u001b[0minput\u001b[0m\u001b[0;34m(\u001b[0m\u001b[0;34m\"Enter the Boy's Height: \"\u001b[0m\u001b[0;34m)\u001b[0m\u001b[0;34m)\u001b[0m\u001b[0;34m\u001b[0m\u001b[0;34m\u001b[0m\u001b[0m\n",
      "\u001b[0;31mValueError\u001b[0m: invalid literal for int() with base 10: ''"
     ]
    }
   ],
   "source": [
    "ctc = int(input(\"Enter the Boy's CTC: \"))\n",
    "height = int(input(\"Enter the Boy's Height: \"))"
   ]
  },
  {
   "cell_type": "code",
   "execution_count": 40,
   "id": "7742153a-49d4-4656-bcee-f64e9db7aebc",
   "metadata": {},
   "outputs": [
    {
     "ename": "NameError",
     "evalue": "name 'ctc' is not defined",
     "output_type": "error",
     "traceback": [
      "\u001b[0;31m---------------------------------------------------------------------------\u001b[0m",
      "\u001b[0;31mNameError\u001b[0m                                 Traceback (most recent call last)",
      "\u001b[0;32m<ipython-input-40-a31caf1ae577>\u001b[0m in \u001b[0;36m<module>\u001b[0;34m\u001b[0m\n\u001b[0;32m----> 1\u001b[0;31m \u001b[0mctc\u001b[0m\u001b[0;34m>=\u001b[0m\u001b[0;36m15\u001b[0m \u001b[0;32mand\u001b[0m \u001b[0mheight\u001b[0m\u001b[0;34m>=\u001b[0m\u001b[0;36m181\u001b[0m\u001b[0;34m\u001b[0m\u001b[0;34m\u001b[0m\u001b[0m\n\u001b[0m",
      "\u001b[0;31mNameError\u001b[0m: name 'ctc' is not defined"
     ]
    }
   ],
   "source": [
    "ctc>=15 and height>=181"
   ]
  },
  {
   "cell_type": "code",
   "execution_count": 41,
   "id": "16eabfd5-fed9-484e-9a7b-e8de31af7d9e",
   "metadata": {},
   "outputs": [],
   "source": [
    "#Retail Store: - \n",
    "#Lenskart: - they have showrooms across PAN-India delivering the glasses.\n",
    "#Retail Key Performance Indicator: - Average Basket Size.\n",
    "#(Sum of all the amount of articles as mentioned in the bills/invoices/No. of bills) divided by( no. of invoices).\n",
    "#Specs cleaning lotion/liquid; specs case/box - 2-3 articles.\n",
    "#Cross-Selling - Avg. Basket Size(bsb)"
   ]
  },
  {
   "cell_type": "code",
   "execution_count": 42,
   "id": "56c15f08-8bfd-472a-a34e-5d0a8a4c7d3e",
   "metadata": {},
   "outputs": [],
   "source": [
    "#bsb - 0 to 3: - Average\n",
    "#bsb - 3.1 to 5: - Good\n",
    "#bsb - 5.1 to 8: - Very Good\n",
    "#bsb - 8.1 to 10: - Exceptional"
   ]
  },
  {
   "cell_type": "code",
   "execution_count": 43,
   "id": "c667d94f-2cc0-4b45-9a40-5ea0a313a931",
   "metadata": {},
   "outputs": [],
   "source": [
    "bsb=8"
   ]
  },
  {
   "cell_type": "code",
   "execution_count": 44,
   "id": "1d82f34c-c391-4eac-a09f-1e7f88998438",
   "metadata": {},
   "outputs": [
    {
     "data": {
      "text/plain": [
       "False"
      ]
     },
     "execution_count": 44,
     "metadata": {},
     "output_type": "execute_result"
    }
   ],
   "source": [
    "bsb>=0 and bsb<=3"
   ]
  },
  {
   "cell_type": "code",
   "execution_count": 45,
   "id": "2526ed8a-db85-40fe-ae82-8aecc87f8878",
   "metadata": {},
   "outputs": [
    {
     "data": {
      "text/plain": [
       "False"
      ]
     },
     "execution_count": 45,
     "metadata": {},
     "output_type": "execute_result"
    }
   ],
   "source": [
    "bsb>=3.1 and bsb<=5"
   ]
  },
  {
   "cell_type": "code",
   "execution_count": 46,
   "id": "f136bce5-9ddc-4e1e-8ad4-9d3cf8944d92",
   "metadata": {},
   "outputs": [
    {
     "data": {
      "text/plain": [
       "True"
      ]
     },
     "execution_count": 46,
     "metadata": {},
     "output_type": "execute_result"
    }
   ],
   "source": [
    "bsb>=5.1 and bsb<=8"
   ]
  },
  {
   "cell_type": "code",
   "execution_count": 47,
   "id": "ca1075fe-75a2-40ed-9dca-351465d6ddc9",
   "metadata": {},
   "outputs": [
    {
     "data": {
      "text/plain": [
       "False"
      ]
     },
     "execution_count": 47,
     "metadata": {},
     "output_type": "execute_result"
    }
   ],
   "source": [
    "bsb>=8.1 and bsb<=10\n"
   ]
  },
  {
   "cell_type": "code",
   "execution_count": 48,
   "id": "750e5619-c964-4385-9e52-26e90c76e3bf",
   "metadata": {},
   "outputs": [
    {
     "data": {
      "text/plain": [
       "0.6666666666666666"
      ]
     },
     "execution_count": 48,
     "metadata": {},
     "output_type": "execute_result"
    }
   ],
   "source": [
    "#Assignment Operators: - +=, -=, *=, /=\n",
    "fgh=2 #we have stored the value of 2 to a variable i.e 'fgh'\n",
    "fgh/=3 #we are storing and coonsequently adding the value '3' to the variable\n",
    "fgh"
   ]
  },
  {
   "cell_type": "markdown",
   "id": "4854a502-24df-4529-9ad7-847c0d62ef17",
   "metadata": {},
   "source": [
    "Data Types in Python: - Hindi - Devnagari Script, Sanskrit Script, Gurumukhi Script\n",
    "\n",
    "1) integers - int - 0,1,2,3....\n",
    "2) float - 2.1,3.2,4.5,....\n",
    "3) complex - 4+5j, 8+9j, 7+6j, .....\n",
    "4) Boolean - Bool - either 0 or 1 as the values\n",
    "5) string - str - \"Mary Had a Little Lamb!\""
   ]
  },
  {
   "cell_type": "code",
   "execution_count": 49,
   "id": "9570be61-630e-4ae0-96c9-b172b08c2965",
   "metadata": {},
   "outputs": [
    {
     "name": "stdout",
     "output_type": "stream",
     "text": [
      "(13+13j)\n"
     ]
    }
   ],
   "source": [
    "swiggy = 5+7j\n",
    "zomato = 8+6j\n",
    "subway = swiggy + zomato\n",
    "print(subway)"
   ]
  },
  {
   "cell_type": "code",
   "execution_count": 50,
   "id": "3f73248d-e218-4777-811a-f4fccda1d0c7",
   "metadata": {},
   "outputs": [
    {
     "name": "stdout",
     "output_type": "stream",
     "text": [
      "Hello World, My name is Arnav!\n"
     ]
    }
   ],
   "source": [
    "z=\"Hello World, My name is Arnav!\"\n",
    "print(z)"
   ]
  },
  {
   "cell_type": "code",
   "execution_count": 51,
   "id": "c8c5e770-17e9-4063-ae4d-764c9a469bc5",
   "metadata": {},
   "outputs": [
    {
     "name": "stdout",
     "output_type": "stream",
     "text": [
      "False\n",
      "True\n",
      "True\n"
     ]
    }
   ],
   "source": [
    "#Bool Data Types: - \n",
    "var1=6\n",
    "var1=0\n",
    "print(bool(var1))\n",
    "var2=3+4j\n",
    "print(bool(var2))\n",
    "var3=-5\n",
    "print(bool(var3))"
   ]
  },
  {
   "cell_type": "code",
   "execution_count": 52,
   "id": "a99b2e76-96b0-41d7-91ab-93b12aa0be2c",
   "metadata": {},
   "outputs": [],
   "source": [
    "#WAP (Write a Program) to externally input the cost of living of 2 cities and then to compare them which one is better to live.\n",
    "#The answer of better to live should be given by the program only: - True or False."
   ]
  },
  {
   "cell_type": "code",
   "execution_count": 53,
   "id": "b4563c73-d279-440a-bf83-6b9accf475dd",
   "metadata": {},
   "outputs": [
    {
     "name": "stdout",
     "output_type": "stream",
     "text": [
      "enter the cost of living in texas: \n"
     ]
    },
    {
     "ename": "ValueError",
     "evalue": "could not convert string to float: ''",
     "output_type": "error",
     "traceback": [
      "\u001b[0;31m---------------------------------------------------------------------------\u001b[0m",
      "\u001b[0;31mValueError\u001b[0m                                Traceback (most recent call last)",
      "\u001b[0;32m<ipython-input-53-26c43469384f>\u001b[0m in \u001b[0;36m<module>\u001b[0;34m\u001b[0m\n\u001b[1;32m      1\u001b[0m \u001b[0;31m#IN USD\u001b[0m\u001b[0;34m\u001b[0m\u001b[0;34m\u001b[0m\u001b[0;34m\u001b[0m\u001b[0m\n\u001b[1;32m      2\u001b[0m \u001b[0mbenchmark_cost_of_living\u001b[0m \u001b[0;34m=\u001b[0m \u001b[0;36m70000.0\u001b[0m\u001b[0;34m\u001b[0m\u001b[0;34m\u001b[0m\u001b[0m\n\u001b[0;32m----> 3\u001b[0;31m \u001b[0mtexas\u001b[0m \u001b[0;34m=\u001b[0m \u001b[0mfloat\u001b[0m\u001b[0;34m(\u001b[0m\u001b[0minput\u001b[0m\u001b[0;34m(\u001b[0m\u001b[0;34m\"enter the cost of living in texas: \"\u001b[0m\u001b[0;34m)\u001b[0m\u001b[0;34m)\u001b[0m\u001b[0;34m\u001b[0m\u001b[0;34m\u001b[0m\u001b[0m\n\u001b[0m\u001b[1;32m      4\u001b[0m \u001b[0mcalifornia\u001b[0m \u001b[0;34m=\u001b[0m \u001b[0mfloat\u001b[0m\u001b[0;34m(\u001b[0m\u001b[0minput\u001b[0m\u001b[0;34m(\u001b[0m\u001b[0;34m\"enter the cost of living in california: \"\u001b[0m\u001b[0;34m)\u001b[0m\u001b[0;34m)\u001b[0m\u001b[0;34m\u001b[0m\u001b[0;34m\u001b[0m\u001b[0m\n\u001b[1;32m      5\u001b[0m \u001b[0mprint\u001b[0m\u001b[0;34m(\u001b[0m\u001b[0;34m\"texas value:\"\u001b[0m \u001b[0;34m,\u001b[0m \u001b[0mtexas\u001b[0m\u001b[0;34m)\u001b[0m\u001b[0;34m\u001b[0m\u001b[0;34m\u001b[0m\u001b[0m\n",
      "\u001b[0;31mValueError\u001b[0m: could not convert string to float: ''"
     ]
    }
   ],
   "source": [
    "#IN USD\n",
    "benchmark_cost_of_living = 70000.0\n",
    "texas = float(input(\"enter the cost of living in texas: \"))\n",
    "california = float(input(\"enter the cost of living in california: \"))\n",
    "print(\"texas value:\" , texas)\n",
    "print(\"california value:\" ,california)"
   ]
  },
  {
   "cell_type": "code",
   "execution_count": 54,
   "id": "c62b8e3d-979d-410f-9b96-35204ec6d073",
   "metadata": {},
   "outputs": [
    {
     "ename": "NameError",
     "evalue": "name 'texas' is not defined",
     "output_type": "error",
     "traceback": [
      "\u001b[0;31m---------------------------------------------------------------------------\u001b[0m",
      "\u001b[0;31mNameError\u001b[0m                                 Traceback (most recent call last)",
      "\u001b[0;32m<ipython-input-54-f499a1d09431>\u001b[0m in \u001b[0;36m<module>\u001b[0;34m\u001b[0m\n\u001b[0;32m----> 1\u001b[0;31m \u001b[0mtexas\u001b[0m \u001b[0;34m>=\u001b[0m \u001b[0mbenchmark_cost_of_living\u001b[0m \u001b[0;32mand\u001b[0m \u001b[0mcalifornia\u001b[0m \u001b[0;34m>=\u001b[0m \u001b[0mbenchmark_cost_of_living\u001b[0m\u001b[0;34m\u001b[0m\u001b[0;34m\u001b[0m\u001b[0m\n\u001b[0m",
      "\u001b[0;31mNameError\u001b[0m: name 'texas' is not defined"
     ]
    }
   ],
   "source": [
    "texas >= benchmark_cost_of_living and california >= benchmark_cost_of_living"
   ]
  },
  {
   "cell_type": "code",
   "execution_count": 55,
   "id": "295a26f2-cc46-4e53-90a9-cc849f057698",
   "metadata": {},
   "outputs": [
    {
     "ename": "NameError",
     "evalue": "name 'texas' is not defined",
     "output_type": "error",
     "traceback": [
      "\u001b[0;31m---------------------------------------------------------------------------\u001b[0m",
      "\u001b[0;31mNameError\u001b[0m                                 Traceback (most recent call last)",
      "\u001b[0;32m<ipython-input-55-88da3564a124>\u001b[0m in \u001b[0;36m<module>\u001b[0;34m\u001b[0m\n\u001b[0;32m----> 1\u001b[0;31m \u001b[0mtexas\u001b[0m \u001b[0;34m>=\u001b[0m \u001b[0mbenchmark_cost_of_living\u001b[0m \u001b[0;32mor\u001b[0m \u001b[0mcalifornia\u001b[0m \u001b[0;34m>=\u001b[0m \u001b[0mbenchmark_cost_of_living\u001b[0m\u001b[0;34m\u001b[0m\u001b[0;34m\u001b[0m\u001b[0m\n\u001b[0m",
      "\u001b[0;31mNameError\u001b[0m: name 'texas' is not defined"
     ]
    }
   ],
   "source": [
    "texas >= benchmark_cost_of_living or california >= benchmark_cost_of_living"
   ]
  },
  {
   "cell_type": "code",
   "execution_count": 56,
   "id": "aaac83f1-e306-4f61-91af-7dadc69c5e99",
   "metadata": {},
   "outputs": [],
   "source": [
    "#Vital Concepts: - \n",
    "#Indentation: - \n",
    "#Indexing: - Negative & Positive Indexing.\n",
    "df= \"1,2,3,4,5,6\""
   ]
  },
  {
   "cell_type": "code",
   "execution_count": 57,
   "id": "5c99b2b7-bcf3-4ba4-bf16-c5e271805e0e",
   "metadata": {},
   "outputs": [
    {
     "data": {
      "text/plain": [
       "'1,2,3,4,5,6'"
      ]
     },
     "execution_count": 57,
     "metadata": {},
     "output_type": "execute_result"
    }
   ],
   "source": [
    "df"
   ]
  },
  {
   "cell_type": "code",
   "execution_count": 58,
   "id": "d880d11c-c7e4-4a60-8ad6-8a827da96cee",
   "metadata": {},
   "outputs": [],
   "source": [
    "#list bracket: - \n",
    "sdf=[1,2,3,4,5,6]"
   ]
  },
  {
   "cell_type": "code",
   "execution_count": 59,
   "id": "c1010400-3505-4217-961c-a6f72c10a7b4",
   "metadata": {},
   "outputs": [
    {
     "data": {
      "text/plain": [
       "[1, 2, 3, 4, 5, 6]"
      ]
     },
     "execution_count": 59,
     "metadata": {},
     "output_type": "execute_result"
    }
   ],
   "source": [
    "sdf"
   ]
  },
  {
   "cell_type": "code",
   "execution_count": 60,
   "id": "c488c692-baf3-44ee-b618-1ee417da8058",
   "metadata": {},
   "outputs": [
    {
     "data": {
      "text/plain": [
       "(1, 2)"
      ]
     },
     "execution_count": 60,
     "metadata": {},
     "output_type": "execute_result"
    }
   ],
   "source": [
    "#Positive Indexing: - It goes from left to right direction.\n",
    "#1st element: - 0\n",
    "sdf[0], sdf[1]"
   ]
  },
  {
   "cell_type": "code",
   "execution_count": 61,
   "id": "eba89958-3492-4f8a-905d-3d0a4431dcef",
   "metadata": {},
   "outputs": [
    {
     "data": {
      "text/plain": [
       "3"
      ]
     },
     "execution_count": 61,
     "metadata": {},
     "output_type": "execute_result"
    }
   ],
   "source": [
    "sdf[2]"
   ]
  },
  {
   "cell_type": "code",
   "execution_count": 62,
   "id": "f5640cda-6c23-4f4d-be80-81aa560863ca",
   "metadata": {},
   "outputs": [
    {
     "data": {
      "text/plain": [
       "6"
      ]
     },
     "execution_count": 62,
     "metadata": {},
     "output_type": "execute_result"
    }
   ],
   "source": [
    "#Negative Indexing: - It goes from right to left direction.\n",
    "#1st element: - -1\n",
    "sdf[-1]"
   ]
  },
  {
   "cell_type": "markdown",
   "id": "690861f8-86f3-4925-a50a-d2dadaacad87",
   "metadata": {},
   "source": [
    "### Data Structures: - "
   ]
  },
  {
   "cell_type": "raw",
   "id": "57a73cd0-92d7-4f66-add4-dcbd2755eb36",
   "metadata": {},
   "source": [
    "Data strucutres in Python helps us to define the template of any data/information which we will provide to Python\n",
    "-List\n",
    "-Dictionary\n",
    "-Tuple"
   ]
  },
  {
   "cell_type": "code",
   "execution_count": 63,
   "id": "602c45d2-7029-4eef-a1cb-996cbad5b51b",
   "metadata": {},
   "outputs": [],
   "source": [
    "#List Data Structure: - []\n",
    "sitcoms = ['House of Cards','Designated Survivor','Mirzapur','GoT','Sacred Games']"
   ]
  },
  {
   "cell_type": "code",
   "execution_count": 64,
   "id": "39123805-e4c2-4c05-8fe7-7c2a97ec7e4b",
   "metadata": {},
   "outputs": [
    {
     "data": {
      "text/plain": [
       "['House of Cards', 'Designated Survivor', 'Mirzapur', 'GoT', 'Sacred Games']"
      ]
     },
     "execution_count": 64,
     "metadata": {},
     "output_type": "execute_result"
    }
   ],
   "source": [
    "sitcoms"
   ]
  },
  {
   "cell_type": "code",
   "execution_count": 65,
   "id": "60244626-97de-43ad-b8af-e97739567087",
   "metadata": {},
   "outputs": [
    {
     "name": "stdout",
     "output_type": "stream",
     "text": [
      "['House of Cards', 'Designated Survivor', 'Mirzapur', 'GoT', 'Sacred Games']\n"
     ]
    }
   ],
   "source": [
    "print(sitcoms)"
   ]
  },
  {
   "cell_type": "code",
   "execution_count": 66,
   "id": "2551d310-9f3a-4809-bfb6-d9e29dc4b046",
   "metadata": {},
   "outputs": [],
   "source": [
    "#1. Reverese: - Reverse all the elements of the list: - listname.reverse()\n",
    "sitcoms.reverse()"
   ]
  },
  {
   "cell_type": "code",
   "execution_count": 67,
   "id": "4430f5da-0bbd-4e0f-86b9-7260db86c29d",
   "metadata": {},
   "outputs": [
    {
     "name": "stdout",
     "output_type": "stream",
     "text": [
      "['Sacred Games', 'GoT', 'Mirzapur', 'Designated Survivor', 'House of Cards']\n"
     ]
    }
   ],
   "source": [
    "print(sitcoms)"
   ]
  },
  {
   "cell_type": "code",
   "execution_count": 68,
   "id": "e8352663-aeab-4644-97fe-1aa0488b9cfe",
   "metadata": {},
   "outputs": [
    {
     "data": {
      "text/plain": [
       "['Sacred Games',\n",
       " 'GoT',\n",
       " 'Mirzapur',\n",
       " 'Designated Survivor',\n",
       " 'House of Cards',\n",
       " 'Shooter']"
      ]
     },
     "execution_count": 68,
     "metadata": {},
     "output_type": "execute_result"
    }
   ],
   "source": [
    "#2. Append: - Adds the elements towards the rightmost side of the list: - listname.append('Element to be added')\n",
    "sitcoms.append('Shooter')\n",
    "sitcoms"
   ]
  },
  {
   "cell_type": "code",
   "execution_count": 69,
   "id": "3bdc35cf-b0a0-40f4-bba8-fa4ff57b8ade",
   "metadata": {},
   "outputs": [
    {
     "data": {
      "text/plain": [
       "['Spiderman',\n",
       " 'Sacred Games',\n",
       " 'GoT',\n",
       " 'Mirzapur',\n",
       " 'Designated Survivor',\n",
       " 'House of Cards',\n",
       " 'Shooter']"
      ]
     },
     "execution_count": 69,
     "metadata": {},
     "output_type": "execute_result"
    }
   ],
   "source": [
    "# Insert: - Add the element anywhere as per the index no. in the list: - listname.insert(Index No, Element to be added)\n",
    "sitcoms.insert(0,'Spiderman')\n",
    "sitcoms"
   ]
  },
  {
   "cell_type": "code",
   "execution_count": 70,
   "id": "f76ecb99-328b-4be0-a9fc-460b58fa596d",
   "metadata": {},
   "outputs": [
    {
     "data": {
      "text/plain": [
       "['Spiderman',\n",
       " 'Sacred Games',\n",
       " 'GoT',\n",
       " 'Mirzapur',\n",
       " 'Designated Survivor',\n",
       " 'House of Cards']"
      ]
     },
     "execution_count": 70,
     "metadata": {},
     "output_type": "execute_result"
    }
   ],
   "source": [
    "# Pop: - To remove the rightmost element from the list: - listname.pop()\\\n",
    "sitcoms.pop()\n",
    "sitcoms"
   ]
  },
  {
   "cell_type": "code",
   "execution_count": 71,
   "id": "3ddb1164-444d-4c13-bc31-06cd71845c29",
   "metadata": {},
   "outputs": [
    {
     "data": {
      "text/plain": [
       "['Spiderman',\n",
       " 'Sacred Games',\n",
       " 'Mirzapur',\n",
       " 'Designated Survivor',\n",
       " 'House of Cards']"
      ]
     },
     "execution_count": 71,
     "metadata": {},
     "output_type": "execute_result"
    }
   ],
   "source": [
    "#Remove: - To remove any element from the list as per the element name only: - listname.remove('Element to be removed')\n",
    "sitcoms.remove('GoT')\n",
    "sitcoms"
   ]
  },
  {
   "cell_type": "code",
   "execution_count": 72,
   "id": "71b899e2-4661-457d-a7f2-08ea78f173de",
   "metadata": {},
   "outputs": [
    {
     "data": {
      "text/plain": [
       "['Sacred Games', 'Mirzapur', 'Designated Survivor', 'House of Cards']"
      ]
     },
     "execution_count": 72,
     "metadata": {},
     "output_type": "execute_result"
    }
   ],
   "source": [
    "#Using remove with Index No.: - listname.remove(listname[Index No.]) \n",
    "sitcoms.remove(sitcoms[0])\n",
    "sitcoms"
   ]
  },
  {
   "cell_type": "code",
   "execution_count": 73,
   "id": "4847a819-a31f-4cc6-9732-906e8dd781c9",
   "metadata": {},
   "outputs": [
    {
     "data": {
      "text/plain": [
       "['Designated Survivor', 'House of Cards', 'Mirzapur', 'Sacred Games']"
      ]
     },
     "execution_count": 73,
     "metadata": {},
     "output_type": "execute_result"
    }
   ],
   "source": [
    "#Sort values: - This helps to chronologically sort the data in the ascending order.\n",
    "sitcoms.sort()\n",
    "sitcoms"
   ]
  },
  {
   "cell_type": "code",
   "execution_count": 74,
   "id": "10cd9359-328a-4137-bc70-dd36547149d2",
   "metadata": {},
   "outputs": [],
   "source": [
    "coaching_inst = [\"Imarticus Learning\", \"IMS Proschool\", \"3ri Technologies\",\"Techdata\",\"IT Vedant\",\"Ethans\"]"
   ]
  },
  {
   "cell_type": "raw",
   "id": "30c64ced-f684-43c8-9403-cc6feb63dfda",
   "metadata": {},
   "source": [
    "reverese, append, pop, insert, remove & sort\n",
    "mutable - something of which its form can be rightfully changed. (list, dictionary)\n",
    "immutable - something of which its form cannot be rightfully changed.(tuple)"
   ]
  },
  {
   "cell_type": "code",
   "execution_count": 75,
   "id": "dd5638ca",
   "metadata": {},
   "outputs": [],
   "source": [
    "#Dictionary Data Structures: - {Key:Value}\n",
    "students_data = {\"Parminder\": \"C007\",\"Prabha\":\"C009\"}"
   ]
  },
  {
   "cell_type": "code",
   "execution_count": 76,
   "id": "3384593c",
   "metadata": {},
   "outputs": [
    {
     "data": {
      "text/plain": [
       "{'Parminder': 'C007', 'Prabha': 'C009'}"
      ]
     },
     "execution_count": 76,
     "metadata": {},
     "output_type": "execute_result"
    }
   ],
   "source": [
    "students_data"
   ]
  },
  {
   "cell_type": "code",
   "execution_count": 77,
   "id": "f106c3fb",
   "metadata": {},
   "outputs": [
    {
     "ename": "KeyError",
     "evalue": "0",
     "output_type": "error",
     "traceback": [
      "\u001b[0;31m---------------------------------------------------------------------------\u001b[0m",
      "\u001b[0;31mKeyError\u001b[0m                                  Traceback (most recent call last)",
      "\u001b[0;32m<ipython-input-77-b4f8a07e1039>\u001b[0m in \u001b[0;36m<module>\u001b[0;34m\u001b[0m\n\u001b[0;32m----> 1\u001b[0;31m \u001b[0mstudents_data\u001b[0m\u001b[0;34m[\u001b[0m\u001b[0;36m0\u001b[0m\u001b[0;34m]\u001b[0m\u001b[0;34m\u001b[0m\u001b[0;34m\u001b[0m\u001b[0m\n\u001b[0m",
      "\u001b[0;31mKeyError\u001b[0m: 0"
     ]
    }
   ],
   "source": [
    "students_data[0]"
   ]
  },
  {
   "cell_type": "code",
   "execution_count": 78,
   "id": "3b0aacef",
   "metadata": {},
   "outputs": [],
   "source": [
    "#Marks secured in TOEFL exam: - \n",
    "\n",
    "#   Name.      Marks(in %)\n",
    "#   Sam          90\n",
    "#  Juile         95\n",
    "#  Yvonne        85\n",
    "#  Simon         65\n",
    "#  Luke          55\n",
    "#  Lucia         67"
   ]
  },
  {
   "cell_type": "markdown",
   "id": "414a194a",
   "metadata": {},
   "source": [
    "### If-else statements: -"
   ]
  },
  {
   "cell_type": "raw",
   "id": "5bbcf588",
   "metadata": {},
   "source": [
    "#conditions: - they help us to define certain criterion on which we want our Python Program to be driven.\n",
    "y=\"Mango\"\n",
    "for t in y:\n",
    "    if y == \"M\":\n",
    "        break\n",
    "    else:\n",
    "        print(y)"
   ]
  },
  {
   "cell_type": "raw",
   "id": "9fe965bf",
   "metadata": {},
   "source": [
    "if </Condition>:\n",
    "    then </Criteria>\n",
    "    print(Output)\n",
    "else: \n",
    "    print(by default Output)"
   ]
  },
  {
   "cell_type": "code",
   "execution_count": 79,
   "id": "e595383c",
   "metadata": {},
   "outputs": [
    {
     "name": "stdout",
     "output_type": "stream",
     "text": [
      "she is alreday there\n",
      "she is already there\n",
      "He might be busy in training them!\n",
      "we are good to go\n"
     ]
    }
   ],
   "source": [
    "list1 = [\"Parminder\",\"Prabha\",\"Arnav\",\"Vijay\"]\n",
    "for x in list1: #you can write this as it is\n",
    "    if x == \"Parminder\":\n",
    "        print(\"she is alreday there\")\n",
    "    elif x == \"Prabha\":\n",
    "        print(\"she is already there\")\n",
    "    elif x == \"Arnav\":\n",
    "        print(\"He might be busy in training them!\")\n",
    "    else:\n",
    "        print(\"we are good to go\")"
   ]
  },
  {
   "cell_type": "raw",
   "id": "69e7583e",
   "metadata": {},
   "source": [
    "if\n",
    "elif\n",
    "elif\n",
    "elif\n",
    "else"
   ]
  },
  {
   "cell_type": "code",
   "execution_count": 80,
   "id": "3959f5c5",
   "metadata": {},
   "outputs": [],
   "source": [
    "list2 = [\"Jennifer Lopez\",\"DuaLipa\"]"
   ]
  },
  {
   "cell_type": "code",
   "execution_count": 81,
   "id": "a442a0a6",
   "metadata": {},
   "outputs": [],
   "source": [
    "#Loops: - Control Flow statements in Python : for loop & while loop"
   ]
  },
  {
   "cell_type": "code",
   "execution_count": 4,
   "id": "d9314884",
   "metadata": {},
   "outputs": [
    {
     "name": "stdout",
     "output_type": "stream",
     "text": [
      "0\n",
      "1\n",
      "2\n",
      "3\n",
      "4\n",
      "5\n",
      "6\n",
      "7\n",
      "8\n",
      "9\n",
      "10\n"
     ]
    }
   ],
   "source": [
    "#for loop: - this loop iterates over a given set of elements and it performs this task of action till we reach \n",
    "#at the last element.\n",
    "for df_1 in range(0,11):\n",
    "    print(df_1)"
   ]
  },
  {
   "cell_type": "code",
   "execution_count": 83,
   "id": "e91bbb5b",
   "metadata": {},
   "outputs": [
    {
     "name": "stdout",
     "output_type": "stream",
     "text": [
      "0\n",
      "1\n",
      "2\n"
     ]
    }
   ],
   "source": [
    "print(0)\n",
    "print(1)\n",
    "print(2)"
   ]
  },
  {
   "cell_type": "code",
   "execution_count": 13,
   "id": "74121bf4",
   "metadata": {},
   "outputs": [
    {
     "name": "stdout",
     "output_type": "stream",
     "text": [
      "0\n",
      "1\n",
      "2\n",
      "3\n",
      "4\n"
     ]
    }
   ],
   "source": [
    "#while loop: - this loop iterates over a given set of elements till we reach at a stage where the condition\n",
    "#gets falsified.\n",
    "\n",
    "o=0\n",
    "while o<=4:\n",
    "    print(o)\n",
    "    o+=1"
   ]
  },
  {
   "cell_type": "code",
   "execution_count": 12,
   "id": "c202ade1",
   "metadata": {
    "scrolled": true
   },
   "outputs": [
    {
     "name": "stdout",
     "output_type": "stream",
     "text": [
      "0\n",
      "5\n",
      "10\n"
     ]
    }
   ],
   "source": [
    "# WAP to create Rock, Paper & Scissors game using Python's For loop, if-else, operators & input function?\n",
    "# format of involving if-else condtion and loops: - \n",
    "# format of writing if-else condition: -\n",
    "for d in range(0,11):\n",
    "    if d%5 == 0:\n",
    "        print(d)"
   ]
  },
  {
   "cell_type": "code",
   "execution_count": 18,
   "id": "4bdcdd35",
   "metadata": {},
   "outputs": [
    {
     "name": "stdout",
     "output_type": "stream",
     "text": [
      "0\n",
      "5\n",
      "10\n"
     ]
    }
   ],
   "source": [
    "numb = 0\n",
    "while numb < 11: #this is the condition till which the loop shall work untill this gets falsified.\n",
    "    print(numb)\n",
    "    numb+=5"
   ]
  },
  {
   "cell_type": "code",
   "execution_count": 19,
   "id": "f062a970",
   "metadata": {},
   "outputs": [
    {
     "name": "stdout",
     "output_type": "stream",
     "text": [
      "5\n",
      "10\n",
      "15\n"
     ]
    }
   ],
   "source": [
    "numb_1 = 0\n",
    "while numb_1 < 11:\n",
    "    numb_1+=5\n",
    "    print(numb_1)"
   ]
  },
  {
   "cell_type": "code",
   "execution_count": 12,
   "id": "ae1f7ae6",
   "metadata": {},
   "outputs": [
    {
     "name": "stdout",
     "output_type": "stream",
     "text": [
      "18\n",
      "36\n",
      "32\n",
      "16.0\n",
      "3\n"
     ]
    }
   ],
   "source": [
    "#Operator Precedence: - L-R:- \n",
    "((((13+5)*2)-4)/2)-13\n",
    "\n",
    "print(13+5)\n",
    "print(18*2)\n",
    "print(36-4)\n",
    "print(32/2)\n",
    "print(16-13)"
   ]
  },
  {
   "cell_type": "raw",
   "id": "914661bc",
   "metadata": {},
   "source": [
    "#Operator Precedence: - This helps Python to prioritize the numerical set of operations on the basis of priority.\n",
    "Paranthesis: - () - Any expression which is added in them shall be calculated at first.\n",
    "Exponents: -  This is an exception.\n",
    "Multiplication: - \n",
    "Division: - \n",
    "Addition: - \n",
    "Subtraction: -\n",
    "BODMAS: - The operator precedence is totally similar to it."
   ]
  },
  {
   "cell_type": "code",
   "execution_count": 9,
   "id": "6d2f0bcd",
   "metadata": {},
   "outputs": [
    {
     "data": {
      "text/plain": [
       "43046721"
      ]
     },
     "execution_count": 9,
     "metadata": {},
     "output_type": "execute_result"
    }
   ],
   "source": [
    "3**2**4"
   ]
  },
  {
   "cell_type": "code",
   "execution_count": 6,
   "id": "5f8e3694",
   "metadata": {},
   "outputs": [
    {
     "data": {
      "text/plain": [
       "64"
      ]
     },
     "execution_count": 6,
     "metadata": {},
     "output_type": "execute_result"
    }
   ],
   "source": [
    "(2**3)**2"
   ]
  },
  {
   "cell_type": "code",
   "execution_count": 7,
   "id": "735f8b9b",
   "metadata": {},
   "outputs": [
    {
     "data": {
      "text/plain": [
       "512"
      ]
     },
     "execution_count": 7,
     "metadata": {},
     "output_type": "execute_result"
    }
   ],
   "source": [
    "#[0]**[1]**[2]: - Python will take element present on [2] as the power only. Then, [1] will serve as the \n",
    "#base of that power. \n",
    "2**3**2 "
   ]
  },
  {
   "cell_type": "code",
   "execution_count": 8,
   "id": "c01cfdf8",
   "metadata": {},
   "outputs": [
    {
     "data": {
      "text/plain": [
       "512"
      ]
     },
     "execution_count": 8,
     "metadata": {},
     "output_type": "execute_result"
    }
   ],
   "source": [
    "2**9"
   ]
  },
  {
   "cell_type": "code",
   "execution_count": 10,
   "id": "87157bb7",
   "metadata": {},
   "outputs": [
    {
     "data": {
      "text/plain": [
       "43046721"
      ]
     },
     "execution_count": 10,
     "metadata": {},
     "output_type": "execute_result"
    }
   ],
   "source": [
    "3**16"
   ]
  },
  {
   "cell_type": "code",
   "execution_count": 11,
   "id": "c051b7ec",
   "metadata": {},
   "outputs": [
    {
     "data": {
      "text/plain": [
       "256"
      ]
     },
     "execution_count": 11,
     "metadata": {},
     "output_type": "execute_result"
    }
   ],
   "source": [
    "2**8"
   ]
  },
  {
   "cell_type": "raw",
   "id": "e7d00f02",
   "metadata": {},
   "source": [
    "# there is user who enters any number in b/w 0-10 should get its table in the same format.\n",
    "\n",
    "What is the 7 Table in Maths?\n",
    "7 × 1 = 7.\n",
    "7 × 2 = 14.\n",
    "7 × 3 = 21.\n",
    "7 × 4 = 28.\n",
    "7 × 5 = 35.\n",
    "7 × 6 = 42.\n",
    "7 × 7 = 49.\n",
    "7 × 8 = 56.\n",
    "\n",
    "#number * count - number: - static (user input) count - (range)"
   ]
  },
  {
   "cell_type": "code",
   "execution_count": 27,
   "id": "54eb5b76",
   "metadata": {},
   "outputs": [
    {
     "name": "stdout",
     "output_type": "stream",
     "text": [
      "Enter an Integer: - 5\n",
      "Enter an Integer for start: - 3\n",
      "Enter an Integer for end+1: - 16\n",
      "What is the 5 table in maths\n",
      "5 X 3 = 15\n",
      "5 X 4 = 20\n",
      "5 X 5 = 25\n",
      "5 X 6 = 30\n",
      "5 X 7 = 35\n",
      "5 X 8 = 40\n",
      "5 X 9 = 45\n",
      "5 X 10 = 50\n",
      "5 X 11 = 55\n",
      "5 X 12 = 60\n",
      "5 X 13 = 65\n",
      "5 X 14 = 70\n",
      "5 X 15 = 75\n"
     ]
    }
   ],
   "source": [
    "#supply the numbers: - \n",
    "number = int(input(\"Enter an Integer: - \"))\n",
    "start_num = int(input(\"Enter an Integer for start: - \"))\n",
    "end_num = int(input(\"Enter an Integer for end+1: - \"))\n",
    "#logic: - \n",
    "print(f\"What is the {number} table in maths\")\n",
    "\n",
    "for count in range(start_num,end_num):\n",
    "    product = number*count\n",
    "    print(number,\"X\",count,\"=\",product)"
   ]
  },
  {
   "cell_type": "markdown",
   "id": "ac2f601d",
   "metadata": {},
   "source": [
    "### In-built functions of Python: - "
   ]
  },
  {
   "cell_type": "markdown",
   "id": "80f8260d",
   "metadata": {},
   "source": [
    "### Print Function: - "
   ]
  },
  {
   "cell_type": "code",
   "execution_count": 2,
   "id": "ed2149b2",
   "metadata": {},
   "outputs": [
    {
     "name": "stdout",
     "output_type": "stream",
     "text": [
      "Hello, World!\n"
     ]
    }
   ],
   "source": [
    "print(\"Hello, World!\")"
   ]
  },
  {
   "cell_type": "code",
   "execution_count": 5,
   "id": "d6616f0d",
   "metadata": {},
   "outputs": [
    {
     "name": "stdout",
     "output_type": "stream",
     "text": [
      "Hello, World!\n"
     ]
    }
   ],
   "source": [
    "print(\"Hello, World!\")"
   ]
  },
  {
   "cell_type": "code",
   "execution_count": 6,
   "id": "8a99366f",
   "metadata": {},
   "outputs": [
    {
     "name": "stdout",
     "output_type": "stream",
     "text": [
      "Hello, World!\n",
      "Hello, World!\n"
     ]
    }
   ],
   "source": [
    "print(\"Hello, World!\") ; print(\"Hello, World!\")"
   ]
  },
  {
   "cell_type": "code",
   "execution_count": 7,
   "id": "da740b90",
   "metadata": {},
   "outputs": [
    {
     "name": "stdout",
     "output_type": "stream",
     "text": [
      "Hello, World!\n",
      "\n",
      "Hello, World!\n"
     ]
    }
   ],
   "source": [
    "print(\"Hello, World!\")\n",
    "print()\n",
    "print(\"Hello, World!\")"
   ]
  },
  {
   "cell_type": "code",
   "execution_count": 8,
   "id": "83a30eda",
   "metadata": {},
   "outputs": [
    {
     "name": "stdout",
     "output_type": "stream",
     "text": [
      "Ria Institute in Bangalore is located on Marathahalli\n"
     ]
    }
   ],
   "source": [
    "print('Ria','Institute','in','Bangalore','is','located','on','Marathahalli')"
   ]
  },
  {
   "cell_type": "code",
   "execution_count": 9,
   "id": "bda9f748",
   "metadata": {},
   "outputs": [
    {
     "name": "stdout",
     "output_type": "stream",
     "text": [
      "Ria\n",
      "Institute\n",
      "in\n",
      "Bangalore\n",
      "is\n",
      "located\n",
      "on\n",
      "Marathahalli\n"
     ]
    }
   ],
   "source": [
    "print('Ria','Institute','in','Bangalore','is','located','on','Marathahalli',sep='\\n')\n",
    "\n",
    "#each word will now be put in a single line."
   ]
  },
  {
   "cell_type": "code",
   "execution_count": 10,
   "id": "dcf80465",
   "metadata": {},
   "outputs": [
    {
     "name": "stdout",
     "output_type": "stream",
     "text": [
      "Ria,Institute,in,Bangalore,is,located,on,Marathahalli\n"
     ]
    }
   ],
   "source": [
    "print('Ria','Institute','in','Bangalore','is','located','on','Marathahalli',sep=',')"
   ]
  },
  {
   "cell_type": "code",
   "execution_count": 11,
   "id": "20cf6d01",
   "metadata": {},
   "outputs": [
    {
     "name": "stdout",
     "output_type": "stream",
     "text": [
      "Ria\n",
      "\n",
      "Institute\n",
      "\n",
      "in\n",
      "\n",
      "Bangalore\n",
      "\n",
      "is\n",
      "\n",
      "located\n",
      "\n",
      "on\n",
      "\n",
      "Marathahalli\n"
     ]
    }
   ],
   "source": [
    "print('Ria','Institute','in','Bangalore','is','located','on','Marathahalli',sep='\\n\\n')"
   ]
  },
  {
   "cell_type": "code",
   "execution_count": 12,
   "id": "ac9711d8",
   "metadata": {},
   "outputs": [],
   "source": [
    "str1='Ria Institute session on'\n",
    "str2='python print function'"
   ]
  },
  {
   "cell_type": "code",
   "execution_count": 13,
   "id": "f6cb2427",
   "metadata": {},
   "outputs": [
    {
     "name": "stdout",
     "output_type": "stream",
     "text": [
      "Ria Institute session on\n",
      "python print function\n"
     ]
    }
   ],
   "source": [
    "print(str1)\n",
    "print(str2)"
   ]
  },
  {
   "cell_type": "code",
   "execution_count": 14,
   "id": "e7025b9f",
   "metadata": {},
   "outputs": [
    {
     "name": "stdout",
     "output_type": "stream",
     "text": [
      "Ria Institute session on python print function\n"
     ]
    }
   ],
   "source": [
    "print(str1, end=' ')\n",
    "print(str2)"
   ]
  },
  {
   "cell_type": "code",
   "execution_count": 16,
   "id": "ad517be0",
   "metadata": {},
   "outputs": [
    {
     "name": "stdout",
     "output_type": "stream",
     "text": [
      "Print Function\n",
      "The topic of today's session is: Print Function\n"
     ]
    }
   ],
   "source": [
    "session_topic = input()\n",
    "print(\"The topic of today's session is: \",end='')\n",
    "print(session_topic)"
   ]
  },
  {
   "cell_type": "code",
   "execution_count": 17,
   "id": "84e275f5",
   "metadata": {},
   "outputs": [
    {
     "name": "stdout",
     "output_type": "stream",
     "text": [
      "2 is an integer while Ria Institute is a string. \n"
     ]
    }
   ],
   "source": [
    "var_char1=2\n",
    "var_char2=\"Ria Institute\"\n",
    "print(var_char1,\"is an integer while\",var_char2,\"is a string. \")"
   ]
  },
  {
   "cell_type": "code",
   "execution_count": 19,
   "id": "9a2d925b",
   "metadata": {},
   "outputs": [
    {
     "name": "stdout",
     "output_type": "stream",
     "text": [
      "2 is an integer while Ria Institute is a string. \n"
     ]
    }
   ],
   "source": [
    "var_char1=2\n",
    "var_char2=\"Ria Institute\"\n",
    "print(\"{0} is an integer while {1} is a string. \".format(var_char1,var_char2))"
   ]
  },
  {
   "cell_type": "code",
   "execution_count": 22,
   "id": "0c969d7c",
   "metadata": {},
   "outputs": [
    {
     "name": "stdout",
     "output_type": "stream",
     "text": [
      "2 is an integer while Ria Institute is a string. \n"
     ]
    }
   ],
   "source": [
    "var_char1=2\n",
    "var_char2=\"Ria Institute\"\n",
    "print(\"%d is an integer while %s is a string. \"%(var_char1,var_char2))"
   ]
  },
  {
   "cell_type": "markdown",
   "id": "ab985fc9",
   "metadata": {},
   "source": [
    "### Apply Function (standby)"
   ]
  },
  {
   "cell_type": "code",
   "execution_count": 1,
   "id": "d0cfcd21",
   "metadata": {},
   "outputs": [],
   "source": [
    "#It is applicable across Pandas library.\n",
    "import pandas as pd"
   ]
  },
  {
   "cell_type": "code",
   "execution_count": 3,
   "id": "ae46355e",
   "metadata": {},
   "outputs": [
    {
     "name": "stdout",
     "output_type": "stream",
     "text": [
      "x     120\n",
      "y    1454\n",
      "dtype: int64\n"
     ]
    }
   ],
   "source": [
    "def calc_sum(x):\n",
    "    return x.sum()\n",
    "data = {\n",
    "    \"x\":[50,40,30],\n",
    "    \"y\":[300,1112,42]\n",
    "}\n",
    "df=pd.DataFrame(data)\n",
    "x=df.apply(calc_sum)\n",
    "print(x)"
   ]
  },
  {
   "cell_type": "markdown",
   "id": "dc3edf3e",
   "metadata": {},
   "source": [
    "## Common Functions: - Excel, Tableau,PowerBI etc.\n",
    "### 1. Absolute Function: - "
   ]
  },
  {
   "cell_type": "code",
   "execution_count": 1,
   "id": "563059e9",
   "metadata": {},
   "outputs": [
    {
     "name": "stdout",
     "output_type": "stream",
     "text": [
      "Absolute value of the integer will be:  60\n"
     ]
    }
   ],
   "source": [
    "integer = -60\n",
    "print('Absolute value of the integer will be: ',abs(integer))"
   ]
  },
  {
   "cell_type": "code",
   "execution_count": 2,
   "id": "fcfda0d1",
   "metadata": {},
   "outputs": [
    {
     "name": "stdout",
     "output_type": "stream",
     "text": [
      "Absolute value of the integer will be:  40.56\n"
     ]
    }
   ],
   "source": [
    "floating = -40.56\n",
    "print('Absolute value of the integer will be: ',abs(floating))"
   ]
  },
  {
   "cell_type": "markdown",
   "id": "b860da80",
   "metadata": {},
   "source": [
    "### 2. All Function: - "
   ]
  },
  {
   "cell_type": "code",
   "execution_count": 4,
   "id": "fbdcf20e",
   "metadata": {},
   "outputs": [
    {
     "name": "stdout",
     "output_type": "stream",
     "text": [
      "True\n"
     ]
    }
   ],
   "source": [
    "#All function of python accepts any iterable object, it returns true if all items in passed iterable are true.\n",
    "#all values true: - \n",
    "ty=[1,3,5,6]\n",
    "print(all(ty))"
   ]
  },
  {
   "cell_type": "code",
   "execution_count": 7,
   "id": "4bd612bd",
   "metadata": {},
   "outputs": [
    {
     "name": "stdout",
     "output_type": "stream",
     "text": [
      "False\n"
     ]
    }
   ],
   "source": [
    "#all values false: - \n",
    "tyr=[0,False]\n",
    "print(all(tyr))"
   ]
  },
  {
   "cell_type": "code",
   "execution_count": 10,
   "id": "bb350801",
   "metadata": {},
   "outputs": [
    {
     "name": "stdout",
     "output_type": "stream",
     "text": [
      "False\n"
     ]
    }
   ],
   "source": [
    "#one false value: - \n",
    "rwe = [2,3,0]\n",
    "print(all(rwe))"
   ]
  },
  {
   "cell_type": "code",
   "execution_count": 11,
   "id": "cfafb97f",
   "metadata": {},
   "outputs": [
    {
     "name": "stdout",
     "output_type": "stream",
     "text": [
      "False\n"
     ]
    }
   ],
   "source": [
    "#one true value: - \n",
    "qty=[0,False,7]\n",
    "print(all(qty))"
   ]
  },
  {
   "cell_type": "markdown",
   "id": "447929a5",
   "metadata": {},
   "source": [
    "### 3. Bin Function: - "
   ]
  },
  {
   "cell_type": "code",
   "execution_count": 15,
   "id": "44e8e0bf",
   "metadata": {},
   "outputs": [
    {
     "name": "stdout",
     "output_type": "stream",
     "text": [
      "0b10\n"
     ]
    }
   ],
   "source": [
    "#Binary : - it converts the required number into binary format.\n",
    "zdf=2\n",
    "zsf=bin(zdf)\n",
    "print(zsf)"
   ]
  },
  {
   "cell_type": "markdown",
   "id": "63d249ae",
   "metadata": {},
   "source": [
    "### 4. Bool Function: - "
   ]
  },
  {
   "cell_type": "code",
   "execution_count": 25,
   "id": "f06d9239",
   "metadata": {},
   "outputs": [
    {
     "name": "stdout",
     "output_type": "stream",
     "text": [
      "False\n"
     ]
    }
   ],
   "source": [
    "#you'll get only two outputs i.e, True & False! (0,1)\n",
    "test1 = 0.0\n",
    "print(bool(test1))"
   ]
  },
  {
   "cell_type": "markdown",
   "id": "a820d6ac",
   "metadata": {},
   "source": [
    "### 5. Execution or exec() Function: - "
   ]
  },
  {
   "cell_type": "code",
   "execution_count": 34,
   "id": "7a070dd7",
   "metadata": {},
   "outputs": [
    {
     "name": "stdout",
     "output_type": "stream",
     "text": [
      "True\n",
      "591\n"
     ]
    }
   ],
   "source": [
    "#it does the dynamic execution of the operation it has been told to do\n",
    "test420 = 579\n",
    "exec('print(test420 != 569)')\n",
    "exec('print(test420+12)')"
   ]
  },
  {
   "cell_type": "markdown",
   "id": "8af20921",
   "metadata": {},
   "source": [
    "### 6. Sum Function: - "
   ]
  },
  {
   "cell_type": "code",
   "execution_count": 35,
   "id": "d0e4fecf",
   "metadata": {},
   "outputs": [
    {
     "name": "stdout",
     "output_type": "stream",
     "text": [
      "12\n"
     ]
    }
   ],
   "source": [
    "wert = [3,4,5]\n",
    "print(sum(wert))"
   ]
  },
  {
   "cell_type": "markdown",
   "id": "0e0d740b",
   "metadata": {},
   "source": [
    "### 7. Float Function: - "
   ]
  },
  {
   "cell_type": "code",
   "execution_count": 42,
   "id": "10418cd0",
   "metadata": {},
   "outputs": [
    {
     "name": "stdout",
     "output_type": "stream",
     "text": [
      "6.7\n"
     ]
    }
   ],
   "source": [
    "print(float(\"6.7\"))"
   ]
  },
  {
   "cell_type": "code",
   "execution_count": null,
   "id": "9595a3fc",
   "metadata": {},
   "outputs": [],
   "source": []
  }
 ],
 "metadata": {
  "kernelspec": {
   "display_name": "Python 3",
   "language": "python",
   "name": "python3"
  },
  "language_info": {
   "codemirror_mode": {
    "name": "ipython",
    "version": 3
   },
   "file_extension": ".py",
   "mimetype": "text/x-python",
   "name": "python",
   "nbconvert_exporter": "python",
   "pygments_lexer": "ipython3",
   "version": "3.8.8"
  }
 },
 "nbformat": 4,
 "nbformat_minor": 5
}

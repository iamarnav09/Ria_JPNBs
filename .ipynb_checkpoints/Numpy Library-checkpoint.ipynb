{
 "cells": [
  {
   "cell_type": "code",
   "execution_count": 1,
   "id": "daf9904c-9d44-470c-9226-3b6efb82f3aa",
   "metadata": {},
   "outputs": [],
   "source": [
    "import numpy as np\n",
    "#Linear Algebra, Determinants & Matrices: - \n",
    "#We use this library to form data arrays using python which is a homogentic arrangement of elements across the structure.\n",
    "#we require this to make data arrays and so that the data can be analyzed perfectly."
   ]
  },
  {
   "cell_type": "code",
   "execution_count": 2,
   "id": "b49b0500-d496-4892-a20e-1b112a9a6f76",
   "metadata": {},
   "outputs": [],
   "source": [
    "a=np.array([(1,2,3),(4,5,6),(7,8,9)])"
   ]
  },
  {
   "cell_type": "code",
   "execution_count": 3,
   "id": "66c8e58d-56ff-4aea-992f-08487b3e0b65",
   "metadata": {},
   "outputs": [
    {
     "data": {
      "text/plain": [
       "2"
      ]
     },
     "execution_count": 3,
     "metadata": {},
     "output_type": "execute_result"
    }
   ],
   "source": [
    "#Dimension of an array: - \n",
    "a.ndim"
   ]
  },
  {
   "cell_type": "code",
   "execution_count": 4,
   "id": "24bdd001-2b07-40e8-a790-13f321edaf79",
   "metadata": {},
   "outputs": [
    {
     "data": {
      "text/plain": [
       "array([[1, 2, 3],\n",
       "       [4, 5, 6],\n",
       "       [7, 8, 9]])"
      ]
     },
     "execution_count": 4,
     "metadata": {},
     "output_type": "execute_result"
    }
   ],
   "source": [
    "a"
   ]
  },
  {
   "cell_type": "code",
   "execution_count": 5,
   "id": "809decd4-24e2-412a-bf11-782ce1aae52d",
   "metadata": {},
   "outputs": [
    {
     "data": {
      "text/plain": [
       "4"
      ]
     },
     "execution_count": 5,
     "metadata": {},
     "output_type": "execute_result"
    }
   ],
   "source": [
    "a.itemsize"
   ]
  },
  {
   "cell_type": "code",
   "execution_count": 6,
   "id": "7f435c4f-3c25-4fc2-9d5f-180a667caa68",
   "metadata": {},
   "outputs": [
    {
     "data": {
      "text/plain": [
       "(3, 3)"
      ]
     },
     "execution_count": 6,
     "metadata": {},
     "output_type": "execute_result"
    }
   ],
   "source": [
    "a.shape"
   ]
  },
  {
   "cell_type": "code",
   "execution_count": 7,
   "id": "398c41d2-f896-4170-9ed9-6d65f5e01fc1",
   "metadata": {},
   "outputs": [
    {
     "name": "stdout",
     "output_type": "stream",
     "text": [
      "Scalar 56\n",
      "ndim: 0\n",
      "\n",
      "1D Array: [1 2 3 4]\n",
      "ndim: 1\n",
      "\n",
      "2D Array: [[1 2 3]\n",
      " [4 5 6]]\n",
      "ndim: 2\n",
      "\n",
      "3D Array: [[[1 2]\n",
      "  [3 4]]\n",
      "\n",
      " [[5 6]\n",
      "  [7 8]]]\n",
      "ndim: 3\n"
     ]
    }
   ],
   "source": [
    "#Scalar (0 D Array): - \n",
    "scalar = np.array(56)\n",
    "print(\"Scalar\",scalar)\n",
    "print(\"ndim:\",scalar.ndim)\n",
    "\n",
    "#1D Array: - \n",
    "arr_1d = np.array([1,2,3,4])\n",
    "print(\"\\n1D Array:\",arr_1d)\n",
    "print(\"ndim:\",arr_1d.ndim)\n",
    "\n",
    "#2D Array: - \n",
    "arr_2d = np.array([[1,2,3],[4,5,6]])\n",
    "print(\"\\n2D Array:\",arr_2d)\n",
    "print(\"ndim:\",arr_2d.ndim)\n",
    "\n",
    "#3D Array: - \n",
    "arr_3d = np.array([[[1,2],[3,4]],[[5,6],[7,8]]])\n",
    "print(\"\\n3D Array:\",arr_3d)\n",
    "print(\"ndim:\",arr_3d.ndim)"
   ]
  },
  {
   "cell_type": "code",
   "execution_count": 8,
   "id": "71b85680-2c57-4cf6-91b8-d7b8a3e63af2",
   "metadata": {},
   "outputs": [
    {
     "name": "stdout",
     "output_type": "stream",
     "text": [
      "\n",
      "3D Array: [[[1 2]\n",
      "  [3 4]]\n",
      "\n",
      " [[5 6]\n",
      "  [7 8]]]\n",
      "ndim: 3\n"
     ]
    }
   ],
   "source": [
    "# 2 code blocks, 2 rows & 2 columns\n",
    "arr_3d = np.array([[[1,2],[3,4]],[[5,6],[7,8]]])\n",
    "print(\"\\n3D Array:\",arr_3d)\n",
    "print(\"ndim:\",arr_3d.ndim)"
   ]
  },
  {
   "cell_type": "code",
   "execution_count": 9,
   "id": "1af4a83f-8b2a-4c99-9748-b6cd476551af",
   "metadata": {},
   "outputs": [
    {
     "name": "stdout",
     "output_type": "stream",
     "text": [
      "\n",
      "4D Array: [[[[ 1  2  3  4]\n",
      "   [ 5  6  7  8]\n",
      "   [ 9 10 11 12]]\n",
      "\n",
      "  [[13 14 15 16]\n",
      "   [17 18 19 20]\n",
      "   [21 22 23 24]]]\n",
      "\n",
      "\n",
      " [[[25 26 27 28]\n",
      "   [29 30 31 32]\n",
      "   [33 34 35 36]]\n",
      "\n",
      "  [[37 38 39 40]\n",
      "   [41 42 43 44]\n",
      "   [45 46 47 48]]]]\n",
      "ndim: 4\n"
     ]
    }
   ],
   "source": [
    "# 2 groups, 2 code blocks, 3 rows & 4 columns\n",
    "arr_4d = np.array([\n",
    "    [ # First Group\n",
    "        [[1,2,3,4],[5,6,7,8],[9,10,11,12]], #First Block\n",
    "        [[13,14,15,16],[17,18,19,20],[21,22,23,24]] #Second Block\n",
    "    ],\n",
    "    [# Second Group\n",
    "        [[25,26,27,28],[29,30,31,32],[33,34,35,36]],\n",
    "        [[37,38,39,40],[41,42,43,44],[45,46,47,48]]\n",
    "    ]\n",
    "])\n",
    "print(\"\\n4D Array:\",arr_4d)\n",
    "print(\"ndim:\",arr_4d.ndim)"
   ]
  },
  {
   "cell_type": "markdown",
   "id": "e22c3a50-d57e-43fb-bb93-33bbba56330a",
   "metadata": {},
   "source": [
    "### Data Manipulations using Arrays: -"
   ]
  },
  {
   "cell_type": "code",
   "execution_count": 11,
   "id": "81d1e4f3-5ed7-4d23-a83a-656a15e521bb",
   "metadata": {},
   "outputs": [],
   "source": [
    "import numpy as np"
   ]
  },
  {
   "cell_type": "code",
   "execution_count": 12,
   "id": "a394b8b5-236f-4a21-a748-56192049b0bb",
   "metadata": {},
   "outputs": [
    {
     "name": "stdout",
     "output_type": "stream",
     "text": [
      "3d_Array:\n",
      "[[[ 1  2  3  4]\n",
      "  [ 5  6  7  8]\n",
      "  [ 9 10 11 12]]\n",
      "\n",
      " [[13 14 15 16]\n",
      "  [17 18 19 20]\n",
      "  [21 22 23 24]]]\n",
      "\n",
      " shape of the array is: (2, 3, 4)\n",
      "\n",
      "Element at block 1, row 2, column 3: 7\n",
      "\n",
      "Element at block 2, row 3, column 2: 22\n",
      "\n",
      " Second Block: \n",
      "[[13 14 15 16]\n",
      " [17 18 19 20]\n",
      " [21 22 23 24]]\n",
      "\n",
      " first column of each block\n",
      "[[ 1  5  9]\n",
      " [13 17 21]]\n",
      "\n",
      " first row of each block\n",
      "[[ 1  2  3  4]\n",
      " [13 14 15 16]]\n",
      "\n",
      " specific set of elements\n",
      "\n",
      " specific set of sliced elements\n",
      "\n",
      " Extracted Elements:\n",
      "[1 2 5 6]\n",
      "\n",
      " Extracted Elements:\n",
      "[19 20 23 24]\n",
      "\n",
      " Extracted Elements:\n",
      "[ 6  7 18 19]\n"
     ]
    }
   ],
   "source": [
    "#Create a 3D array - \n",
    "array_3d = np.array([\n",
    "    [[1,2,3,4],[5,6,7,8],[9,10,11,12]], #first Block\n",
    "    [[13,14,15,16],[17,18,19,20],[21,22,23,24]] #second Block\n",
    "])\n",
    "\n",
    "print(\"3d_Array:\")\n",
    "print(array_3d)\n",
    "\n",
    "#Shape of the array: - (Output Syntax: - Block, Row, Column)\n",
    "print(\"\\n shape of the array is:\",array_3d.shape)\n",
    "\n",
    "#Access elements: - (Output Syntax: - Indices # of [Block, Row, Column])\n",
    "print(\"\\nElement at block 1, row 2, column 3:\",array_3d[0,1,2])\n",
    "print(\"\\nElement at block 2, row 3, column 2:\",array_3d[1,2,1])\n",
    "\n",
    "#Access all the elements: - \n",
    "print(\"\\n Second Block: \")\n",
    "print(array_3d[1])\n",
    "\n",
    "#Access the specific set of elements: - \n",
    "print(\"\\n first column of each block\")\n",
    "print(array_3d[:,:,0])\n",
    "\n",
    "print(\"\\n first row of each block\")\n",
    "print(array_3d[:,0,:])\n",
    "\n",
    "print(\"\\n specific set of elements\") #Indices of [Block, Row, Column]\n",
    "result = (array_3d[0,0:2,0:2])\n",
    "result_1 = (array_3d[1,1:3,2:4])\n",
    "\n",
    "print(\"\\n specific set of sliced elements\")\n",
    "result_2 = (array_3d[:,1,1:3]) \n",
    "\n",
    "print(\"\\n Extracted Elements:\")\n",
    "print(result.flatten())\n",
    "\n",
    "print(\"\\n Extracted Elements:\")\n",
    "print(result_1.flatten())\n",
    "\n",
    "print(\"\\n Extracted Elements:\")\n",
    "print(result_2.flatten())"
   ]
  },
  {
   "cell_type": "markdown",
   "id": "2ab1a562-ce0d-4dfd-875b-3fd4243e5d8c",
   "metadata": {},
   "source": [
    "## Array Methods: - "
   ]
  },
  {
   "cell_type": "markdown",
   "id": "5455e7a3-4519-45e7-9556-20092fcca9f4",
   "metadata": {},
   "source": [
    "### 1. Array creation Methods"
   ]
  },
  {
   "cell_type": "code",
   "execution_count": 15,
   "id": "8dc92617-2808-47ef-9fd5-08cecb1d0595",
   "metadata": {},
   "outputs": [
    {
     "data": {
      "text/plain": [
       "array([1, 2, 3, 4])"
      ]
     },
     "execution_count": 15,
     "metadata": {},
     "output_type": "execute_result"
    }
   ],
   "source": [
    "# np.array() - Converts a list or a tuple into an array.\n",
    "arr_345 = np.array([1,2,3,4])\n",
    "arr_345"
   ]
  },
  {
   "cell_type": "code",
   "execution_count": 77,
   "id": "13525372-46d4-440c-8b29-1f15477185fc",
   "metadata": {},
   "outputs": [],
   "source": [
    "#Practical Application: - \n",
    "'''We are considering a weather monitoring system where we collect \n",
    "temperature data for varios cities over several days'''\n",
    "\n",
    "temps_manual = np.array([[30,32,33,35,31,29,30], # Temperature of City_1\n",
    "                         [28,27,29,31,30,26,27]]) #Temperature of City_2"
   ]
  },
  {
   "cell_type": "code",
   "execution_count": 17,
   "id": "6f5b5098-d574-4f3f-9899-b87405e98b1a",
   "metadata": {},
   "outputs": [
    {
     "data": {
      "text/plain": [
       "array([[0., 0., 0.],\n",
       "       [0., 0., 0.]])"
      ]
     },
     "execution_count": 17,
     "metadata": {},
     "output_type": "execute_result"
    }
   ],
   "source": [
    "#np.zeroes() - Creates an array filled with zeroes.\n",
    "arr_678 = np.zeros((2,3))\n",
    "arr_678"
   ]
  },
  {
   "cell_type": "code",
   "execution_count": 73,
   "id": "10d2e5cd-2181-43ca-b243-b395461dc8c5",
   "metadata": {},
   "outputs": [
    {
     "name": "stdout",
     "output_type": "stream",
     "text": [
      "[[0. 0. 0. 0. 0. 0. 0.]\n",
      " [0. 0. 0. 0. 0. 0. 0.]\n",
      " [0. 0. 0. 0. 0. 0. 0.]\n",
      " [0. 0. 0. 0. 0. 0. 0.]\n",
      " [0. 0. 0. 0. 0. 0. 0.]]\n"
     ]
    }
   ],
   "source": [
    "#Practical Application: -\n",
    "temps_empty = np.zeros((5,7))\n",
    "print(temps_empty)"
   ]
  },
  {
   "cell_type": "code",
   "execution_count": 18,
   "id": "eb17e3a9-f9ed-4589-b083-43f7d1ec973d",
   "metadata": {},
   "outputs": [
    {
     "data": {
      "text/plain": [
       "array([[1., 1., 1.],\n",
       "       [1., 1., 1.]])"
      ]
     },
     "execution_count": 18,
     "metadata": {},
     "output_type": "execute_result"
    }
   ],
   "source": [
    "#np.ones() - Creates an array filled with ones.\n",
    "arr_897 = np.ones((2,3))\n",
    "arr_897"
   ]
  },
  {
   "cell_type": "code",
   "execution_count": 79,
   "id": "3a08f711-94af-4645-a2d6-9077b08822ff",
   "metadata": {},
   "outputs": [],
   "source": [
    "#Practical Application: -\n",
    "temps_ones = np.ones((5,7))"
   ]
  },
  {
   "cell_type": "code",
   "execution_count": 81,
   "id": "dba7e038-58aa-4d49-a578-1163fcdc2449",
   "metadata": {},
   "outputs": [],
   "source": [
    "#np.arange() - creates an array with a range of numbers.\n",
    "art_978 = np.arange(1,11,3)"
   ]
  },
  {
   "cell_type": "code",
   "execution_count": 20,
   "id": "8cf7915c-5f1c-42c9-b1f4-8dd82308794c",
   "metadata": {},
   "outputs": [
    {
     "data": {
      "text/plain": [
       "array([ 1,  4,  7, 10])"
      ]
     },
     "execution_count": 20,
     "metadata": {},
     "output_type": "execute_result"
    }
   ],
   "source": [
    "art_978"
   ]
  },
  {
   "cell_type": "code",
   "execution_count": 85,
   "id": "201e331f-1502-4f39-aa1e-993229e8e0aa",
   "metadata": {},
   "outputs": [
    {
     "data": {
      "text/plain": [
       "array([ 0,  1,  2,  3,  4,  5,  6,  7,  8,  9, 10, 11, 12, 13, 14, 15, 16,\n",
       "       17, 18, 19, 20, 21, 22, 23])"
      ]
     },
     "execution_count": 85,
     "metadata": {},
     "output_type": "execute_result"
    }
   ],
   "source": [
    "#Practical Application: -\n",
    "\n",
    "timestamps = np.arange(0,24,1)\n",
    "timestamps"
   ]
  },
  {
   "cell_type": "code",
   "execution_count": 21,
   "id": "461336a8-8a82-4d91-b527-15fabdd4ec5c",
   "metadata": {},
   "outputs": [],
   "source": [
    "#np.linspace(): - Creates an array with evenly spaced numbers\n",
    "art_765 = np.linspace(0,2,5)"
   ]
  },
  {
   "cell_type": "code",
   "execution_count": 87,
   "id": "5efb8432-70f5-4de8-a6bf-f1fae777ff83",
   "metadata": {},
   "outputs": [
    {
     "data": {
      "text/plain": [
       "array([26.  , 28.25, 30.5 , 32.75, 35.  ])"
      ]
     },
     "execution_count": 87,
     "metadata": {},
     "output_type": "execute_result"
    }
   ],
   "source": [
    "#Practical Application: -\n",
    "\n",
    "'''Record evenly spaced temperatures between highest and lowest values.'''\n",
    "\n",
    "lin_temp = np.linspace(26,35,5)\n",
    "lin_temp"
   ]
  },
  {
   "cell_type": "code",
   "execution_count": 22,
   "id": "a06ea048-220b-48ea-815d-65899d946197",
   "metadata": {},
   "outputs": [
    {
     "data": {
      "text/plain": [
       "array([0. , 0.5, 1. , 1.5, 2. ])"
      ]
     },
     "execution_count": 22,
     "metadata": {},
     "output_type": "execute_result"
    }
   ],
   "source": [
    "art_765"
   ]
  },
  {
   "cell_type": "markdown",
   "id": "4bd495bb-22b2-4221-84ce-254247bed933",
   "metadata": {},
   "source": [
    "#### To make any data a dataframe: - "
   ]
  },
  {
   "cell_type": "code",
   "execution_count": 23,
   "id": "66a11216-b4ba-421f-8003-7da53bd4b7f0",
   "metadata": {},
   "outputs": [],
   "source": [
    "#Pandas Solution: - \n",
    "data = {\n",
    "    \"Name\": [\"Prabha\",\"James\",\"Susan\"],\n",
    "    \"Maths\": [67,89,92],\n",
    "    \"Physics\": [48,57,91]\n",
    "}"
   ]
  },
  {
   "cell_type": "code",
   "execution_count": 24,
   "id": "87720f84-0076-4ac0-b8ae-03dbed8700ac",
   "metadata": {},
   "outputs": [
    {
     "data": {
      "text/plain": [
       "{'Name': ['Prabha', 'James', 'Susan'],\n",
       " 'Maths': [67, 89, 92],\n",
       " 'Physics': [48, 57, 91]}"
      ]
     },
     "execution_count": 24,
     "metadata": {},
     "output_type": "execute_result"
    }
   ],
   "source": [
    "data"
   ]
  },
  {
   "cell_type": "code",
   "execution_count": 25,
   "id": "a53dd231-6dbb-429d-8ee9-cb57d9f5e565",
   "metadata": {},
   "outputs": [],
   "source": [
    "import pandas as pd\n",
    "df_1 = pd.DataFrame(data)"
   ]
  },
  {
   "cell_type": "code",
   "execution_count": 26,
   "id": "42985877-9bc3-4565-936c-f04e61539707",
   "metadata": {},
   "outputs": [
    {
     "data": {
      "text/html": [
       "<div>\n",
       "<style scoped>\n",
       "    .dataframe tbody tr th:only-of-type {\n",
       "        vertical-align: middle;\n",
       "    }\n",
       "\n",
       "    .dataframe tbody tr th {\n",
       "        vertical-align: top;\n",
       "    }\n",
       "\n",
       "    .dataframe thead th {\n",
       "        text-align: right;\n",
       "    }\n",
       "</style>\n",
       "<table border=\"1\" class=\"dataframe\">\n",
       "  <thead>\n",
       "    <tr style=\"text-align: right;\">\n",
       "      <th></th>\n",
       "      <th>Name</th>\n",
       "      <th>Maths</th>\n",
       "      <th>Physics</th>\n",
       "    </tr>\n",
       "  </thead>\n",
       "  <tbody>\n",
       "    <tr>\n",
       "      <th>0</th>\n",
       "      <td>Prabha</td>\n",
       "      <td>67</td>\n",
       "      <td>48</td>\n",
       "    </tr>\n",
       "    <tr>\n",
       "      <th>1</th>\n",
       "      <td>James</td>\n",
       "      <td>89</td>\n",
       "      <td>57</td>\n",
       "    </tr>\n",
       "    <tr>\n",
       "      <th>2</th>\n",
       "      <td>Susan</td>\n",
       "      <td>92</td>\n",
       "      <td>91</td>\n",
       "    </tr>\n",
       "  </tbody>\n",
       "</table>\n",
       "</div>"
      ],
      "text/plain": [
       "     Name  Maths  Physics\n",
       "0  Prabha     67       48\n",
       "1   James     89       57\n",
       "2   Susan     92       91"
      ]
     },
     "execution_count": 26,
     "metadata": {},
     "output_type": "execute_result"
    }
   ],
   "source": [
    "df_1"
   ]
  },
  {
   "cell_type": "code",
   "execution_count": 67,
   "id": "8366d4b8-ef8e-4bb3-9ef9-2dbf63b3420f",
   "metadata": {},
   "outputs": [
    {
     "name": "stdout",
     "output_type": "stream",
     "text": [
      "\n",
      " structured data shall be: \n",
      "     Name  Maths  Physics  Chemistry  Accounting  B.S\n",
      "0  Prabha     67       48         57          87   58\n",
      "1   James     89       57         78          88  100\n",
      "2   Susan     92       91         31          91   99\n"
     ]
    }
   ],
   "source": [
    "#numpy solution: - \n",
    "data_2 = np.array(\n",
    "    [\n",
    "    (\"Prabha\", 67,48,57,87,58),\n",
    "    (\"James\", 89,57,78,88,100),\n",
    "    (\"Susan\", 92,91,31,91,99)\n",
    "],\n",
    "dtype = [(\"Name\",\"U10\"),(\"Maths\",\"i4\"),(\"Physics\",\"i4\"),(\"Chemistry\",\"i4\"),(\"Accounting\",\"i4\"), (\"B.S\", \"i4\")]                 \n",
    ")\n",
    "dft = pd.DataFrame(data_2)\n",
    "print(\"\\n structured data shall be: \")\n",
    "print(dft)"
   ]
  },
  {
   "cell_type": "code",
   "execution_count": 28,
   "id": "02d990aa-39cc-46d2-88c9-246ecd9d5dd2",
   "metadata": {},
   "outputs": [
    {
     "data": {
      "text/plain": [
       "array([['Prabha', '67', '48', '57', '87', '58'],\n",
       "       ['James', '89', '57', '78', '88', '100'],\n",
       "       ['Susan', '92', '91', '31', '91', '99']], dtype='<U11')"
      ]
     },
     "execution_count": 28,
     "metadata": {},
     "output_type": "execute_result"
    }
   ],
   "source": [
    "data_2"
   ]
  },
  {
   "cell_type": "code",
   "execution_count": 55,
   "id": "6814206f-152b-40e5-820f-0e7099cd95fa",
   "metadata": {},
   "outputs": [],
   "source": [
    "#in majority of the cases, string data is taken as Unicode characters.\n"
   ]
  },
  {
   "cell_type": "code",
   "execution_count": 110,
   "id": "68ae47c1-e911-4da1-beb2-954ee666da80",
   "metadata": {},
   "outputs": [
    {
     "data": {
      "text/plain": [
       "array([[8203.93875213, 1475.01966822,  658.31401113, 1503.90849702,\n",
       "        7690.22875364, 3468.4024203 , 2974.02372498],\n",
       "       [2080.89077083, 3661.24686273, 3934.22775072, 2451.93283906,\n",
       "        7655.11970387, 7876.38869515, 1001.91286973],\n",
       "       [ 255.82333524, 4506.98322082, 6744.64961418, 7527.30419758,\n",
       "        6614.40507249, 9807.48336333, 3416.3735452 ],\n",
       "       [  96.3240058 , 8213.3350919 , 2071.3429634 ,  729.27092938,\n",
       "        5620.69644753, 1231.10040324, 8941.20402308],\n",
       "       [7376.87984755, 5313.52616424, 1631.49917144, 7039.17554384,\n",
       "        8958.6800067 , 6898.48285717, 8588.99029744]])"
      ]
     },
     "execution_count": 110,
     "metadata": {},
     "output_type": "execute_result"
    }
   ],
   "source": [
    "#np.random.random()\n",
    "random_temps = np.random.random((5,7))*10000\n",
    "random_temps"
   ]
  },
  {
   "cell_type": "code",
   "execution_count": 102,
   "id": "29587b1e-cc13-4f02-a98c-8993cb9a9d36",
   "metadata": {},
   "outputs": [
    {
     "data": {
      "text/plain": [
       "array([[25.68146589, 32.42635779, 32.29457835, 31.93961565, 29.13716508,\n",
       "        33.93661678, 30.71047196],\n",
       "       [31.39985148, 25.97747509, 30.66169417, 29.73455483, 28.08801101,\n",
       "        31.89839075, 31.78047327],\n",
       "       [34.8967763 , 26.43850714, 30.58396064, 33.85791199, 25.68457295,\n",
       "        25.50953022, 32.75695786],\n",
       "       [27.93021018, 28.26954653, 25.36417257, 25.99944783, 29.00760783,\n",
       "        33.68840513, 33.19264641],\n",
       "       [32.35437086, 28.5531741 , 26.88704358, 31.08276535, 30.82506157,\n",
       "        30.71792615, 25.37750487]])"
      ]
     },
     "execution_count": 102,
     "metadata": {},
     "output_type": "execute_result"
    }
   ],
   "source": [
    "#np.random.random()\n",
    "random_temps = np.random.random((5,7))*10+25\n",
    "random_temps"
   ]
  },
  {
   "cell_type": "markdown",
   "id": "3ff128a1-8df2-469c-b1cc-93bede130890",
   "metadata": {},
   "source": [
    "### 2. Reshaping Methods: - "
   ]
  },
  {
   "cell_type": "code",
   "execution_count": 121,
   "id": "f01d520c-2ca9-4014-89a8-e88708187a00",
   "metadata": {},
   "outputs": [
    {
     "data": {
      "text/plain": [
       "array([[1, 2, 3],\n",
       "       [4, 5, 6]])"
      ]
     },
     "execution_count": 121,
     "metadata": {},
     "output_type": "execute_result"
    }
   ],
   "source": [
    "#Reshape: - \n",
    "wert = np.arange(1,7).reshape((2,3))\n",
    "wert"
   ]
  },
  {
   "cell_type": "code",
   "execution_count": 123,
   "id": "f0fabbba-c997-4b07-915b-9344007df0f0",
   "metadata": {},
   "outputs": [
    {
     "data": {
      "text/plain": [
       "array([1, 2, 3, 4, 5, 6])"
      ]
     },
     "execution_count": 123,
     "metadata": {},
     "output_type": "execute_result"
    }
   ],
   "source": [
    "wert_1 = np.arange(1,7)\n",
    "wert_1"
   ]
  },
  {
   "cell_type": "code",
   "execution_count": 125,
   "id": "143bb455-9d4a-415c-b107-793a13aaa66d",
   "metadata": {},
   "outputs": [
    {
     "data": {
      "text/plain": [
       "array([1, 2, 3, 4])"
      ]
     },
     "execution_count": 125,
     "metadata": {},
     "output_type": "execute_result"
    }
   ],
   "source": [
    "#Ravel: - flattens an array into 1D array\n",
    "yui = np.array([[1,2],[3,4]])\n",
    "flat = yui.ravel()\n",
    "flat"
   ]
  },
  {
   "cell_type": "code",
   "execution_count": 127,
   "id": "2371c234-f441-4528-a1f4-0c02e29722e3",
   "metadata": {},
   "outputs": [
    {
     "data": {
      "text/plain": [
       "array([[1, 2],\n",
       "       [3, 4]])"
      ]
     },
     "execution_count": 127,
     "metadata": {},
     "output_type": "execute_result"
    }
   ],
   "source": [
    "yui"
   ]
  },
  {
   "cell_type": "markdown",
   "id": "ca5b77ea-c6a6-48fb-9d05-556dfa055908",
   "metadata": {},
   "source": [
    "#### 3. Statistical Methods "
   ]
  },
  {
   "cell_type": "code",
   "execution_count": 6,
   "id": "cc848404-70a4-49e0-84b6-ca15ebd0141a",
   "metadata": {},
   "outputs": [],
   "source": [
    "import numpy as np\n",
    "rty = np.array([1,2,3,4])"
   ]
  },
  {
   "cell_type": "code",
   "execution_count": 14,
   "id": "070ecdd9-32cd-40fd-8929-28469bf70aba",
   "metadata": {},
   "outputs": [
    {
     "name": "stdout",
     "output_type": "stream",
     "text": [
      "10\n",
      "2.5\n",
      "4\n",
      "1\n"
     ]
    }
   ],
   "source": [
    "# Sum of all the elements: - \n",
    "print(rty.sum())\n",
    "print(rty.mean())\n",
    "print(rty.max())\n",
    "print(rty.min())"
   ]
  },
  {
   "cell_type": "code",
   "execution_count": 56,
   "id": "65f04222-962f-42f2-89a4-0a07ff52bff8",
   "metadata": {},
   "outputs": [
    {
     "name": "stdout",
     "output_type": "stream",
     "text": [
      "[10 14 16 12]\n",
      "[ 0 -2 -2  4]\n",
      "[25 48 63 32]\n",
      "[1.         0.75       0.77777778 2.        ]\n"
     ]
    }
   ],
   "source": [
    "rty1 = np.array([5,6,7,8])\n",
    "rty2 = np.array([5,8,9,4])\n",
    "print(np.add(rty1,rty2))\n",
    "print(np.subtract(rty1,rty2))\n",
    "print(np.multiply(rty1,rty2))\n",
    "print(np.divide(rty1,rty2))"
   ]
  },
  {
   "cell_type": "code",
   "execution_count": 24,
   "id": "08f580b4-3fe8-499f-8980-8c7b4f1cf2d1",
   "metadata": {},
   "outputs": [],
   "source": [
    "# Logical Operations: - \n",
    "# all() : - Returns True if all the elements satisfy a condition\n",
    "# any() : - Returns True if any of the elements satisfy a condition"
   ]
  },
  {
   "cell_type": "code",
   "execution_count": 40,
   "id": "6e156f7f-4818-4c6d-8c5f-eb5a179b2e69",
   "metadata": {},
   "outputs": [
    {
     "name": "stdout",
     "output_type": "stream",
     "text": [
      "False\n",
      "True\n"
     ]
    }
   ],
   "source": [
    "yop = np.array([0,1,2])\n",
    "print(yop.all())\n",
    "print(yop.any())"
   ]
  },
  {
   "cell_type": "code",
   "execution_count": 54,
   "id": "92dd46d6-4f11-4790-806c-e15faa2457c5",
   "metadata": {},
   "outputs": [
    {
     "name": "stdout",
     "output_type": "stream",
     "text": [
      "[5 7 8 9]\n",
      "3\n",
      "0\n"
     ]
    }
   ],
   "source": [
    "# Array Sorting & Searching: - \n",
    "ghj = np.array([5,8,7,9])\n",
    "sorted = np.sort(ghj)\n",
    "print(sorted)\n",
    "# argmax()/argmin() : - Returns the index # of the max/min element\n",
    "print(ghj.argmax())\n",
    "print(ghj.argmin())"
   ]
  },
  {
   "cell_type": "code",
   "execution_count": 68,
   "id": "c0d89dbe-f261-4d2f-9e22-4befd7f8cbba",
   "metadata": {},
   "outputs": [
    {
     "name": "stdout",
     "output_type": "stream",
     "text": [
      "[array([8, 7]), array([9, 6]), array([12, 15])]\n"
     ]
    }
   ],
   "source": [
    "# Array Split: - \n",
    "hjl = np.array([8,7,9,6,12,15])\n",
    "split_tyu = np.split(hjl,3)\n",
    "print(split_tyu)"
   ]
  },
  {
   "cell_type": "markdown",
   "id": "c927bb69-5ca1-4971-86b5-66b7f2661238",
   "metadata": {},
   "source": [
    "#### Reading the Text Data using Numpy: - "
   ]
  },
  {
   "cell_type": "code",
   "execution_count": 15,
   "id": "a2e48abd-6fc3-4aad-bf20-b49837ed18a8",
   "metadata": {},
   "outputs": [
    {
     "data": {
      "text/plain": [
       "'C:\\\\Users\\\\ADMIN1\\\\Jupyters_Ria_Arnav\\\\Ria_JPNBs'"
      ]
     },
     "execution_count": 15,
     "metadata": {},
     "output_type": "execute_result"
    }
   ],
   "source": [
    "pwd"
   ]
  },
  {
   "cell_type": "code",
   "execution_count": 17,
   "id": "32ae1e84-2690-4779-8fa4-af7bcd125427",
   "metadata": {},
   "outputs": [],
   "source": [
    "data = np.loadtxt('numpy_load.txt')"
   ]
  },
  {
   "cell_type": "code",
   "execution_count": 19,
   "id": "7b22d916-59fd-4e24-8885-277c86ccd34d",
   "metadata": {},
   "outputs": [
    {
     "data": {
      "text/plain": [
       "array([[1., 2., 3.],\n",
       "       [4., 5., 6.],\n",
       "       [7., 8., 9.]])"
      ]
     },
     "execution_count": 19,
     "metadata": {},
     "output_type": "execute_result"
    }
   ],
   "source": [
    "data"
   ]
  },
  {
   "cell_type": "code",
   "execution_count": 27,
   "id": "ee0b7798-5388-4d29-a929-2a5b08c83401",
   "metadata": {},
   "outputs": [],
   "source": [
    "file_path = 'data_mixed.txt'"
   ]
  },
  {
   "cell_type": "code",
   "execution_count": 29,
   "id": "198c009d-824e-49fa-94be-13474afcf2e0",
   "metadata": {},
   "outputs": [
    {
     "data": {
      "text/plain": [
       "'data_mixed.txt'"
      ]
     },
     "execution_count": 29,
     "metadata": {},
     "output_type": "execute_result"
    }
   ],
   "source": [
    "file_path"
   ]
  },
  {
   "cell_type": "code",
   "execution_count": 31,
   "id": "e8e98d6d-9a7a-4956-8170-4eb5bd84b1a9",
   "metadata": {},
   "outputs": [
    {
     "data": {
      "text/plain": [
       "'C:\\\\Users\\\\ADMIN1\\\\Jupyters_Ria_Arnav\\\\Ria_JPNBs'"
      ]
     },
     "execution_count": 31,
     "metadata": {},
     "output_type": "execute_result"
    }
   ],
   "source": [
    "pwd"
   ]
  },
  {
   "cell_type": "code",
   "execution_count": 82,
   "id": "fa3a90b1-e294-469c-9078-8aa129b8fab6",
   "metadata": {},
   "outputs": [],
   "source": [
    "data_rf = np.genfromtxt(\n",
    "                        file_path, \n",
    "                        delimiter = '|', \n",
    "                        dtype = None,\n",
    "                        encoding = 'utf-8',\n",
    "                        filling_values = np.nan\n",
    "                       )"
   ]
  },
  {
   "cell_type": "code",
   "execution_count": 84,
   "id": "3f2481ca-8dd8-49ce-9ce6-4637573eaa29",
   "metadata": {},
   "outputs": [
    {
     "data": {
      "text/plain": [
       "array([(1., ' 2.0', ' 3.0'), (4., 'ria', ' 6.0'), (7., ' 8.0', ' nine')],\n",
       "      dtype=[('f0', '<f8'), ('f1', '<U4'), ('f2', '<U5')])"
      ]
     },
     "execution_count": 84,
     "metadata": {},
     "output_type": "execute_result"
    }
   ],
   "source": [
    "data_rf"
   ]
  },
  {
   "cell_type": "code",
   "execution_count": 90,
   "id": "4e0d9b94-252e-45a2-8650-606cf85c24ce",
   "metadata": {},
   "outputs": [],
   "source": [
    "import pandas as pd\n",
    "data_rft = pd.DataFrame(data_rf)"
   ]
  },
  {
   "cell_type": "code",
   "execution_count": 94,
   "id": "391408b9-ddaf-434a-8729-422fb5dc2e3f",
   "metadata": {},
   "outputs": [],
   "source": [
    "cols = ['ID','ID_1','ID_2']"
   ]
  },
  {
   "cell_type": "code",
   "execution_count": 104,
   "id": "655d24d8-ae11-42c1-897e-865220877934",
   "metadata": {},
   "outputs": [],
   "source": [
    "#renaming the columns: - \n",
    "data_rft.columns = cols"
   ]
  },
  {
   "cell_type": "code",
   "execution_count": 1,
   "id": "430d7ad8-83ad-482d-bce5-3d8e3af5a213",
   "metadata": {},
   "outputs": [
    {
     "ename": "NameError",
     "evalue": "name 'data_rft' is not defined",
     "output_type": "error",
     "traceback": [
      "\u001b[1;31m---------------------------------------------------------------------------\u001b[0m",
      "\u001b[1;31mNameError\u001b[0m                                 Traceback (most recent call last)",
      "Cell \u001b[1;32mIn[1], line 1\u001b[0m\n\u001b[1;32m----> 1\u001b[0m data_rft\u001b[38;5;241m.\u001b[39mto_excel(\u001b[38;5;124m'\u001b[39m\u001b[38;5;124mrft.xlsx\u001b[39m\u001b[38;5;124m'\u001b[39m,index\u001b[38;5;241m=\u001b[39m\u001b[38;5;28;01mFalse\u001b[39;00m)\n",
      "\u001b[1;31mNameError\u001b[0m: name 'data_rft' is not defined"
     ]
    }
   ],
   "source": [
    "data_rft.to_excel('rft.xlsx',index=False)"
   ]
  },
  {
   "cell_type": "markdown",
   "id": "ba33647b-e674-4b5d-9628-aceeddaf5713",
   "metadata": {},
   "source": [
    "### Array Math: - "
   ]
  },
  {
   "cell_type": "code",
   "execution_count": 6,
   "id": "7d8af745-e824-4ee7-8110-00248fc95424",
   "metadata": {},
   "outputs": [],
   "source": [
    "# Array math using numpy is used to do certain numeric calculations in between the arrays. \n",
    "import numpy as np"
   ]
  },
  {
   "cell_type": "code",
   "execution_count": 8,
   "id": "a1f00566-864c-41f7-b898-4fbf98f61ccc",
   "metadata": {},
   "outputs": [],
   "source": [
    "sales_data = np.array([\n",
    "    [500, 700, 800,600],\n",
    "    [450,650,750,550],\n",
    "    [800,900,1000,750],\n",
    "    [300,400,500,450],\n",
    "    [600,700,800,650]\n",
    "])"
   ]
  },
  {
   "cell_type": "code",
   "execution_count": 10,
   "id": "41f0df5e-50e5-4a23-a7e6-bd4d443c4bea",
   "metadata": {},
   "outputs": [
    {
     "name": "stdout",
     "output_type": "stream",
     "text": [
      "Sales data (in USD):\n",
      "[[ 500  700  800  600]\n",
      " [ 450  650  750  550]\n",
      " [ 800  900 1000  750]\n",
      " [ 300  400  500  450]\n",
      " [ 600  700  800  650]]\n"
     ]
    }
   ],
   "source": [
    "print(\"Sales data (in USD):\")\n",
    "print(sales_data)"
   ]
  },
  {
   "cell_type": "code",
   "execution_count": 20,
   "id": "d0d2970c-3c4d-4cbc-b5c3-f273a818faeb",
   "metadata": {},
   "outputs": [
    {
     "name": "stdout",
     "output_type": "stream",
     "text": [
      "[2650 3350 3850 3000]\n"
     ]
    }
   ],
   "source": [
    "## Operations: - \n",
    "#1. total sales per product: - \n",
    "total_sales_per_product = sales_data.sum(axis=0)\n",
    "print(total_sales_per_product)"
   ]
  },
  {
   "cell_type": "code",
   "execution_count": 22,
   "id": "f65544d6-2e26-423f-b183-c9f8c4c7b359",
   "metadata": {},
   "outputs": [
    {
     "name": "stdout",
     "output_type": "stream",
     "text": [
      "[530. 670. 770. 600.]\n"
     ]
    }
   ],
   "source": [
    "#2. average sales per month: - \n",
    "avg_sales_per_month = sales_data.mean(axis=0)\n",
    "print(avg_sales_per_month)"
   ]
  },
  {
   "cell_type": "code",
   "execution_count": 26,
   "id": "e26685e8-f25e-4b31-aff1-9c0311ab40db",
   "metadata": {},
   "outputs": [
    {
     "name": "stdout",
     "output_type": "stream",
     "text": [
      "[[ 550.  770.  880.  660.]\n",
      " [ 495.  715.  825.  605.]\n",
      " [ 880.  990. 1100.  825.]\n",
      " [ 330.  440.  550.  495.]\n",
      " [ 660.  770.  880.  715.]]\n"
     ]
    }
   ],
   "source": [
    "# Increase the sales by 10%: - \n",
    "increased_sales = sales_data*1.1\n",
    "print(increased_sales)"
   ]
  },
  {
   "cell_type": "raw",
   "id": "83cfccf8-b086-4bc8-aa94-2e96c6a923a0",
   "metadata": {},
   "source": [
    "# Identify the products with total sales greater than $2,500\n",
    "Indices_of_High_Sales_Products = np.where(high_sales_products)[0]\n",
    "high_sales_products = sales_data[Indices_of_High_Sales_Products]\n",
    "print(high_sales_products)"
   ]
  },
  {
   "cell_type": "code",
   "execution_count": 56,
   "id": "a0f50a26-08b0-4e5c-affd-5a528c108a00",
   "metadata": {},
   "outputs": [
    {
     "data": {
      "text/plain": [
       "array([20.62256809, 26.07003891, 29.96108949, 23.3463035 ])"
      ]
     },
     "execution_count": 56,
     "metadata": {},
     "output_type": "execute_result"
    }
   ],
   "source": [
    "# 5. Percentage Contribution of each product\n",
    "total_sales = sales_data.sum()\n",
    "percentage_contribution = (total_sales_per_product/total_sales)*100\n",
    "percentage_contribution"
   ]
  },
  {
   "cell_type": "code",
   "execution_count": 58,
   "id": "1c25ff13-0a51-42e1-b1b6-2ef3f29c0a10",
   "metadata": {},
   "outputs": [],
   "source": [
    "#exam scores for 6 students: - \n",
    "exam_scores = np.array([\n",
    "    [85,90,78,92], # st. 1\n",
    "    [88,76,95,89], # st. 2\n",
    "    [92,88,82,85], # st. 3\n",
    "    [70,65,75,80], # st. 4\n",
    "    [95,92,90,96], # st. 5\n",
    "    [60,72,68,75] #  st. 6\n",
    "])"
   ]
  },
  {
   "cell_type": "markdown",
   "id": "bb44898b-5102-4e59-8a70-001ef69897da",
   "metadata": {},
   "source": [
    "###### 1. What is the average score of each student \n",
    "###### 2. What is the highest score in each subject\n",
    "###### 3. Which students scored below 70 in any subject?\n",
    "###### 4. Which subjects have an average score above 85?\n",
    "###### 5. Which student has the highest total score?\n",
    "###### 6. Increase all scores by 5%"
   ]
  },
  {
   "cell_type": "code",
   "execution_count": null,
   "id": "9141c23f-7393-494a-8d16-c4a4708221e3",
   "metadata": {},
   "outputs": [],
   "source": []
  }
 ],
 "metadata": {
  "kernelspec": {
   "display_name": "Python 3 (ipykernel)",
   "language": "python",
   "name": "python3"
  },
  "language_info": {
   "codemirror_mode": {
    "name": "ipython",
    "version": 3
   },
   "file_extension": ".py",
   "mimetype": "text/x-python",
   "name": "python",
   "nbconvert_exporter": "python",
   "pygments_lexer": "ipython3",
   "version": "3.12.4"
  }
 },
 "nbformat": 4,
 "nbformat_minor": 5
}

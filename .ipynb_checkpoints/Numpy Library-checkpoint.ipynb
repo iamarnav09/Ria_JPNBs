{
 "cells": [
  {
   "cell_type": "code",
   "execution_count": 3,
   "id": "daf9904c-9d44-470c-9226-3b6efb82f3aa",
   "metadata": {},
   "outputs": [],
   "source": [
    "import numpy as np\n",
    "#Linear Algebra, Determinants & Matrices: - \n",
    "#We use this library to form data arrays using python which is a homogentic arrangement of elements across the structure.\n",
    "#we require this to make data arrays and so that the data can be analyzed perfectly."
   ]
  },
  {
   "cell_type": "code",
   "execution_count": 21,
   "id": "b49b0500-d496-4892-a20e-1b112a9a6f76",
   "metadata": {},
   "outputs": [],
   "source": [
    "a=np.array([(1,2,3),(4,5,6),(7,8,9)])"
   ]
  },
  {
   "cell_type": "code",
   "execution_count": 23,
   "id": "66c8e58d-56ff-4aea-992f-08487b3e0b65",
   "metadata": {},
   "outputs": [
    {
     "data": {
      "text/plain": [
       "2"
      ]
     },
     "execution_count": 23,
     "metadata": {},
     "output_type": "execute_result"
    }
   ],
   "source": [
    "#Dimension of an array: - \n",
    "a.ndim"
   ]
  },
  {
   "cell_type": "code",
   "execution_count": 25,
   "id": "24bdd001-2b07-40e8-a790-13f321edaf79",
   "metadata": {},
   "outputs": [
    {
     "data": {
      "text/plain": [
       "array([[1, 2, 3],\n",
       "       [4, 5, 6],\n",
       "       [7, 8, 9]])"
      ]
     },
     "execution_count": 25,
     "metadata": {},
     "output_type": "execute_result"
    }
   ],
   "source": [
    "a"
   ]
  },
  {
   "cell_type": "code",
   "execution_count": 27,
   "id": "809decd4-24e2-412a-bf11-782ce1aae52d",
   "metadata": {},
   "outputs": [
    {
     "data": {
      "text/plain": [
       "4"
      ]
     },
     "execution_count": 27,
     "metadata": {},
     "output_type": "execute_result"
    }
   ],
   "source": [
    "a.itemsize"
   ]
  },
  {
   "cell_type": "code",
   "execution_count": 29,
   "id": "7f435c4f-3c25-4fc2-9d5f-180a667caa68",
   "metadata": {},
   "outputs": [
    {
     "data": {
      "text/plain": [
       "(3, 3)"
      ]
     },
     "execution_count": 29,
     "metadata": {},
     "output_type": "execute_result"
    }
   ],
   "source": [
    "a.shape"
   ]
  },
  {
   "cell_type": "code",
   "execution_count": 39,
   "id": "398c41d2-f896-4170-9ed9-6d65f5e01fc1",
   "metadata": {},
   "outputs": [
    {
     "name": "stdout",
     "output_type": "stream",
     "text": [
      "Scalar 56\n",
      "ndim: 0\n",
      "\n",
      "1D Array: [1 2 3 4]\n",
      "ndim: 1\n",
      "\n",
      "2D Array: [[1 2 3]\n",
      " [4 5 6]]\n",
      "ndim: 2\n",
      "\n",
      "3D Array: [[[1 2]\n",
      "  [3 4]]\n",
      "\n",
      " [[5 6]\n",
      "  [7 8]]]\n",
      "ndim: 3\n"
     ]
    }
   ],
   "source": [
    "#Scalar (0 D Array): - \n",
    "scalar = np.array(56)\n",
    "print(\"Scalar\",scalar)\n",
    "print(\"ndim:\",scalar.ndim)\n",
    "\n",
    "#1D Array: - \n",
    "arr_1d = np.array([1,2,3,4])\n",
    "print(\"\\n1D Array:\",arr_1d)\n",
    "print(\"ndim:\",arr_1d.ndim)\n",
    "\n",
    "#2D Array: - \n",
    "arr_2d = np.array([[1,2,3],[4,5,6]])\n",
    "print(\"\\n2D Array:\",arr_2d)\n",
    "print(\"ndim:\",arr_2d.ndim)\n",
    "\n",
    "#3D Array: - \n",
    "arr_3d = np.array([[[1,2],[3,4]],[[5,6],[7,8]]])\n",
    "print(\"\\n3D Array:\",arr_3d)\n",
    "print(\"ndim:\",arr_3d.ndim)"
   ]
  },
  {
   "cell_type": "code",
   "execution_count": 41,
   "id": "71b85680-2c57-4cf6-91b8-d7b8a3e63af2",
   "metadata": {},
   "outputs": [
    {
     "name": "stdout",
     "output_type": "stream",
     "text": [
      "\n",
      "3D Array: [[[1 2]\n",
      "  [3 4]]\n",
      "\n",
      " [[5 6]\n",
      "  [7 8]]]\n",
      "ndim: 3\n"
     ]
    }
   ],
   "source": [
    "# 2 code blocks, 2 rows & 2 columns\n",
    "arr_3d = np.array([[[1,2],[3,4]],[[5,6],[7,8]]])\n",
    "print(\"\\n3D Array:\",arr_3d)\n",
    "print(\"ndim:\",arr_3d.ndim)"
   ]
  },
  {
   "cell_type": "code",
   "execution_count": 45,
   "id": "1af4a83f-8b2a-4c99-9748-b6cd476551af",
   "metadata": {},
   "outputs": [
    {
     "name": "stdout",
     "output_type": "stream",
     "text": [
      "\n",
      "4D Array: [[[[ 1  2  3  4]\n",
      "   [ 5  6  7  8]\n",
      "   [ 9 10 11 12]]\n",
      "\n",
      "  [[13 14 15 16]\n",
      "   [17 18 19 20]\n",
      "   [21 22 23 24]]]\n",
      "\n",
      "\n",
      " [[[25 26 27 28]\n",
      "   [29 30 31 32]\n",
      "   [33 34 35 36]]\n",
      "\n",
      "  [[37 38 39 40]\n",
      "   [41 42 43 44]\n",
      "   [45 46 47 48]]]]\n",
      "ndim: 4\n"
     ]
    }
   ],
   "source": [
    "# 2 groups, 2 code blocks, 3 rows & 4 columns\n",
    "arr_4d = np.array([\n",
    "    [ # First Group\n",
    "        [[1,2,3,4],[5,6,7,8],[9,10,11,12]], #First Block\n",
    "        [[13,14,15,16],[17,18,19,20],[21,22,23,24]] #Second Block\n",
    "    ],\n",
    "    [# Second Group\n",
    "        [[25,26,27,28],[29,30,31,32],[33,34,35,36]],\n",
    "        [[37,38,39,40],[41,42,43,44],[45,46,47,48]]\n",
    "    ]\n",
    "])\n",
    "print(\"\\n4D Array:\",arr_4d)\n",
    "print(\"ndim:\",arr_4d.ndim)"
   ]
  },
  {
   "cell_type": "code",
   "execution_count": null,
   "id": "5dfb7cef-beb9-406a-a13f-6fc4dbbde800",
   "metadata": {},
   "outputs": [],
   "source": []
  }
 ],
 "metadata": {
  "kernelspec": {
   "display_name": "Python 3 (ipykernel)",
   "language": "python",
   "name": "python3"
  },
  "language_info": {
   "codemirror_mode": {
    "name": "ipython",
    "version": 3
   },
   "file_extension": ".py",
   "mimetype": "text/x-python",
   "name": "python",
   "nbconvert_exporter": "python",
   "pygments_lexer": "ipython3",
   "version": "3.12.4"
  }
 },
 "nbformat": 4,
 "nbformat_minor": 5
}

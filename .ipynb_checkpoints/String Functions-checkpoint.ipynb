{
 "cells": [
  {
   "cell_type": "markdown",
   "id": "f0bade38-45a1-4540-91a5-602690aa6df3",
   "metadata": {},
   "source": [
    "## String Functions: - "
   ]
  },
  {
   "cell_type": "code",
   "execution_count": 1,
   "id": "8117d9bf-1e74-4bea-825c-38693dfacba4",
   "metadata": {},
   "outputs": [
    {
     "data": {
      "text/plain": [
       "'HELLO'"
      ]
     },
     "execution_count": 1,
     "metadata": {},
     "output_type": "execute_result"
    }
   ],
   "source": [
    "\"hello\".upper()"
   ]
  },
  {
   "cell_type": "code",
   "execution_count": 3,
   "id": "bce6c0ed-6d76-4816-a8ee-7875a6960db3",
   "metadata": {},
   "outputs": [
    {
     "data": {
      "text/plain": [
       "'hello mam'"
      ]
     },
     "execution_count": 3,
     "metadata": {},
     "output_type": "execute_result"
    }
   ],
   "source": [
    "###2. lower function: - \n",
    "\"HELLO MAM\".lower()"
   ]
  },
  {
   "cell_type": "markdown",
   "id": "e192b74b-1ad2-46d8-bd4e-3050f3957eb6",
   "metadata": {},
   "source": [
    "### 3. Capitalize Function"
   ]
  },
  {
   "cell_type": "code",
   "execution_count": 7,
   "id": "93ad68c0-2a7c-402b-a046-9b3685c9eb79",
   "metadata": {},
   "outputs": [
    {
     "data": {
      "text/plain": [
       "'I am very happy today'"
      ]
     },
     "execution_count": 7,
     "metadata": {},
     "output_type": "execute_result"
    }
   ],
   "source": [
    "#Capitalizes the first character of the string. Syntax: \"str\".capitalize()\n",
    "\"i am very happy today\".capitalize()"
   ]
  },
  {
   "cell_type": "markdown",
   "id": "17d1b11f-552d-4bc9-ab2d-d5c3893589f1",
   "metadata": {},
   "source": [
    "### 4. Strip Function"
   ]
  },
  {
   "cell_type": "code",
   "execution_count": 10,
   "id": "b447fc85-3d40-433f-9a3a-d770db54d97d",
   "metadata": {},
   "outputs": [
    {
     "data": {
      "text/plain": [
       "'hello'"
      ]
     },
     "execution_count": 10,
     "metadata": {},
     "output_type": "execute_result"
    }
   ],
   "source": [
    "#removes leading characters from the string (whitespace by default)\n",
    "\" hello   \".strip()"
   ]
  },
  {
   "cell_type": "code",
   "execution_count": 16,
   "id": "72928263-a20c-4613-a55a-21d469355db0",
   "metadata": {},
   "outputs": [
    {
     "name": "stdout",
     "output_type": "stream",
     "text": [
      "Ria Institute   \n",
      "   Ria Institute\n"
     ]
    }
   ],
   "source": [
    "#lstrip: - removes leading characters from the left.\n",
    "#rstrip: - removes leading characters from the right.\n",
    "print(\"   Ria Institute   \".lstrip())\n",
    "print(\"   Ria Institute   \".rstrip())"
   ]
  },
  {
   "cell_type": "markdown",
   "id": "592769e0-451b-4fd3-a5c9-27121fe39926",
   "metadata": {},
   "source": [
    "### 5. Replace Function"
   ]
  },
  {
   "cell_type": "code",
   "execution_count": 19,
   "id": "8131184f-438d-4c99-ae9a-3f2909ec8357",
   "metadata": {},
   "outputs": [
    {
     "data": {
      "text/plain": [
       "'I used to train people earlier at Amity Univ.,Pune'"
      ]
     },
     "execution_count": 19,
     "metadata": {},
     "output_type": "execute_result"
    }
   ],
   "source": [
    "#Syntax: - \"str\".replace(\"word to be rplaced in the string\",\"word which will come instead of previous word in the string\")\n",
    "\"I used to train people earlier at Symbiosis Univ.,Pune\".replace(\"Symbiosis\",\"Amity\")"
   ]
  },
  {
   "cell_type": "markdown",
   "id": "91d122d9-0bd9-44f2-b663-ff77b9208fea",
   "metadata": {},
   "source": [
    "### 6. Split Function"
   ]
  },
  {
   "cell_type": "code",
   "execution_count": 28,
   "id": "230b6832-89f4-40ee-bed8-6eb223ba72b1",
   "metadata": {},
   "outputs": [
    {
     "data": {
      "text/plain": [
       "['I', ' am a Millionaire']"
      ]
     },
     "execution_count": 28,
     "metadata": {},
     "output_type": "execute_result"
    }
   ],
   "source": [
    "#Splits the strings into a list of substrings based on separator. (takes whitespace by default)\n",
    "\"I: am a Millionaire\".split(sep=\":\")"
   ]
  },
  {
   "cell_type": "markdown",
   "id": "c2395b1c-6f81-4d89-93ee-045aea0c7716",
   "metadata": {},
   "source": [
    "### 7. Join Function"
   ]
  },
  {
   "cell_type": "code",
   "execution_count": 44,
   "id": "7d6935e0-f0eb-403d-b131-2b27f4ff7205",
   "metadata": {},
   "outputs": [
    {
     "data": {
      "text/plain": [
       "'parmindermam is in usa'"
      ]
     },
     "execution_count": 44,
     "metadata": {},
     "output_type": "execute_result"
    }
   ],
   "source": [
    "#it concatenates the given set of strings in the iterable with the string as the separator.\n",
    "\", \".join([\"parminder\" \"mam is in usa\"])"
   ]
  },
  {
   "cell_type": "markdown",
   "id": "f0a1d641-9043-47d6-bfd2-0f68de2dfce9",
   "metadata": {},
   "source": [
    "### 8. Find Function"
   ]
  },
  {
   "cell_type": "code",
   "execution_count": 11,
   "id": "2c5ac74d-b750-4900-a8d9-7803530b4047",
   "metadata": {},
   "outputs": [
    {
     "data": {
      "text/plain": [
       "-1"
      ]
     },
     "execution_count": 11,
     "metadata": {},
     "output_type": "execute_result"
    }
   ],
   "source": [
    "#returns the index of the first occurence of sub in the string, it returns -1 if not found.\n",
    "#\"0,1,2,3,4,5,6\n",
    "\"hello world in India\".find(\"USA\")"
   ]
  },
  {
   "cell_type": "markdown",
   "id": "7606ea7a-7f32-45bb-9e0c-9f5a2f090abd",
   "metadata": {},
   "source": [
    "### 9. Index Function"
   ]
  },
  {
   "cell_type": "code",
   "execution_count": 13,
   "id": "5c315147-c966-4dac-b9e4-18e39b275a49",
   "metadata": {},
   "outputs": [
    {
     "ename": "ValueError",
     "evalue": "substring not found",
     "output_type": "error",
     "traceback": [
      "\u001b[1;31m---------------------------------------------------------------------------\u001b[0m",
      "\u001b[1;31mValueError\u001b[0m                                Traceback (most recent call last)",
      "Cell \u001b[1;32mIn[13], line 3\u001b[0m\n\u001b[0;32m      1\u001b[0m \u001b[38;5;66;03m#returns the index of the first occurence of sub in the string, it returns \"valueerror\"if not found.\u001b[39;00m\n\u001b[0;32m      2\u001b[0m \u001b[38;5;66;03m#\"0,1,2,3,4,5,6\u001b[39;00m\n\u001b[1;32m----> 3\u001b[0m \u001b[38;5;124m\"\u001b[39m\u001b[38;5;124mhello world in India\u001b[39m\u001b[38;5;124m\"\u001b[39m\u001b[38;5;241m.\u001b[39mindex(\u001b[38;5;124m\"\u001b[39m\u001b[38;5;124mgermany\u001b[39m\u001b[38;5;124m\"\u001b[39m)\n",
      "\u001b[1;31mValueError\u001b[0m: substring not found"
     ]
    }
   ],
   "source": [
    "#returns the index of the first occurence of sub in the string, it returns \"valueerror\"if not found.\n",
    "#\"0,1,2,3,4,5,6\n",
    "\"hello world in India\".index(\"germany\")"
   ]
  },
  {
   "cell_type": "markdown",
   "id": "98cc08ec-b956-4b03-8855-0e03a1c6b3b4",
   "metadata": {},
   "source": [
    "### 10. Count Function"
   ]
  },
  {
   "cell_type": "code",
   "execution_count": 18,
   "id": "b220fb6c-0d8d-499f-9018-a2130e52869b",
   "metadata": {},
   "outputs": [
    {
     "data": {
      "text/plain": [
       "2"
      ]
     },
     "execution_count": 18,
     "metadata": {},
     "output_type": "execute_result"
    }
   ],
   "source": [
    "#returns the number of occurences of subject in the string.\n",
    "\"hsbc is an investment bank\".count(\"i\")"
   ]
  },
  {
   "cell_type": "markdown",
   "id": "2afa6fca-51ec-4229-861a-ec8434fa9065",
   "metadata": {},
   "source": [
    "### 11. Startswith Function"
   ]
  },
  {
   "cell_type": "code",
   "execution_count": 25,
   "id": "23bfbbd2-eaca-48b6-94c2-14258af4d993",
   "metadata": {},
   "outputs": [
    {
     "data": {
      "text/plain": [
       "True"
      ]
     },
     "execution_count": 25,
     "metadata": {},
     "output_type": "execute_result"
    }
   ],
   "source": [
    "#checks if the string starts with prefix\n",
    "\"hsbc is an investment bank\".startswith(\"hsbc\")"
   ]
  },
  {
   "cell_type": "markdown",
   "id": "4b34131b-8fd6-4c98-8ea3-a6203680991a",
   "metadata": {},
   "source": [
    "### 12. Endswith Function"
   ]
  },
  {
   "cell_type": "code",
   "execution_count": 30,
   "id": "9d47f70e-d24c-45d3-843b-584ec802b794",
   "metadata": {},
   "outputs": [
    {
     "data": {
      "text/plain": [
       "True"
      ]
     },
     "execution_count": 30,
     "metadata": {},
     "output_type": "execute_result"
    }
   ],
   "source": [
    "#checks if the string starts with suffix\n",
    "\"hsbc is an investment bank\".endswith(\"bank\")"
   ]
  },
  {
   "cell_type": "markdown",
   "id": "fb857595-7821-4b34-b608-796aff37364a",
   "metadata": {},
   "source": [
    "### 13. zfill Function"
   ]
  },
  {
   "cell_type": "code",
   "execution_count": 35,
   "id": "a3b06b6f-02a2-41f6-a456-7d5e65ccb57d",
   "metadata": {},
   "outputs": [],
   "source": [
    "#adds the number of zeroes to the left of subject untill it reaches the specified width.\n",
    "len_1=\"45\".zfill(5)"
   ]
  },
  {
   "cell_type": "code",
   "execution_count": 37,
   "id": "69565f92-7f2d-4b49-841f-8d3a62b2653b",
   "metadata": {},
   "outputs": [
    {
     "data": {
      "text/plain": [
       "5"
      ]
     },
     "execution_count": 37,
     "metadata": {},
     "output_type": "execute_result"
    }
   ],
   "source": [
    "len(len_1)"
   ]
  },
  {
   "cell_type": "code",
   "execution_count": 39,
   "id": "527b4284-befd-44cf-a26b-0a814b837ee6",
   "metadata": {},
   "outputs": [
    {
     "data": {
      "text/plain": [
       "'00045'"
      ]
     },
     "execution_count": 39,
     "metadata": {},
     "output_type": "execute_result"
    }
   ],
   "source": [
    "len_1"
   ]
  },
  {
   "cell_type": "code",
   "execution_count": null,
   "id": "2553b7a3-e588-438d-89b7-514a963a9f40",
   "metadata": {},
   "outputs": [],
   "source": []
  }
 ],
 "metadata": {
  "kernelspec": {
   "display_name": "Python 3 (ipykernel)",
   "language": "python",
   "name": "python3"
  },
  "language_info": {
   "codemirror_mode": {
    "name": "ipython",
    "version": 3
   },
   "file_extension": ".py",
   "mimetype": "text/x-python",
   "name": "python",
   "nbconvert_exporter": "python",
   "pygments_lexer": "ipython3",
   "version": "3.12.4"
  }
 },
 "nbformat": 4,
 "nbformat_minor": 5
}

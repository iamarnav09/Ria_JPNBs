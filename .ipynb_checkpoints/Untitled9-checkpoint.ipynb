{
 "cells": [
  {
   "cell_type": "code",
   "execution_count": 1,
   "id": "896ab54b-0ade-4ac9-b8a6-28f1ba672f08",
   "metadata": {},
   "outputs": [
    {
     "name": "stdout",
     "output_type": "stream",
     "text": [
      "0\n",
      "5\n",
      "10\n"
     ]
    }
   ],
   "source": [
    "#Comprehensions: - \n",
    "for x in range(0,11):\n",
    "    if x%5 == 0:\n",
    "        print(x)"
   ]
  },
  {
   "cell_type": "code",
   "execution_count": 3,
   "id": "959a6319-035c-4825-a8d5-d0211ae64f04",
   "metadata": {},
   "outputs": [
    {
     "name": "stdout",
     "output_type": "stream",
     "text": [
      "[0, 5, 10]\n"
     ]
    }
   ],
   "source": [
    "# List Comprehension:\n",
    "# Syntax: - [expression for item in iterable if condition]\n",
    "divisible_by_5 = [x for x in range(11) if x%5 == 0]\n",
    "print(divisible_by_5)"
   ]
  },
  {
   "cell_type": "code",
   "execution_count": 7,
   "id": "94442a5a-7a48-4df3-8148-5fd77c9283d0",
   "metadata": {},
   "outputs": [
    {
     "name": "stdout",
     "output_type": "stream",
     "text": [
      "[0, 1, 8, 27, 64, 125]\n"
     ]
    }
   ],
   "source": [
    "cubicle_till_5 = [z**3 for z in range(6)]\n",
    "print(cubicle_till_5)"
   ]
  },
  {
   "cell_type": "code",
   "execution_count": 11,
   "id": "23f6a0b0-5fe0-4bc8-b626-5b5fcc46e2bb",
   "metadata": {},
   "outputs": [
    {
     "data": {
      "text/plain": [
       "[10, 12, 14, 16, 18, 20, 22, 24, 26, 28, 30, 32, 34, 36, 38, 40]"
      ]
     },
     "execution_count": 11,
     "metadata": {},
     "output_type": "execute_result"
    }
   ],
   "source": [
    "#Generate a list of all even numbers between 10 and 40 using L.C: - \n",
    "# numbers between 10 and 40 : - range(10,41)\n",
    "#all even numbers - something that is divisible by 2 leaving remainder as 0. e%2 == 0\n",
    "# expression for item - e for e\n",
    "even_numbers = [ e for e in range(10,41) if e%2 == 0 ]\n",
    "even_numbers"
   ]
  },
  {
   "cell_type": "code",
   "execution_count": 15,
   "id": "a59fd529-4d77-4ee0-bc0e-8cb431523bd9",
   "metadata": {},
   "outputs": [
    {
     "name": "stdout",
     "output_type": "stream",
     "text": [
      "['P', 'Y', 'T', 'H', 'O', 'N', ' ', 'P', 'R', 'O', 'G', 'R', 'A', 'M', 'M', 'I', 'N', 'G']\n"
     ]
    }
   ],
   "source": [
    "#Generate a list of all characters in the string \"Python Programming\" in uppercase.\n",
    "#['P','Y','T',...]\n",
    "uppercase_chars = [char.upper() for char in \"Python Programming\"]\n",
    "print(uppercase_chars)"
   ]
  },
  {
   "cell_type": "code",
   "execution_count": 27,
   "id": "bc9e38ab-84ca-4da4-b2f0-df39cbfc3945",
   "metadata": {},
   "outputs": [
    {
     "name": "stdout",
     "output_type": "stream",
     "text": [
      "[14]\n"
     ]
    }
   ],
   "source": [
    "# Generate a list of lengths of each word in the sentence: \"Comprehensions in Python are Powerful.\"\n",
    "# [14,2,6,3,9]\n",
    "# [expression for item in iterable if condition]\n",
    "powerful = \"Comprehensions in Python are Powerful.\"\n",
    "len_list = [len(word) for word in powerful.split() if word.lower() == \"comprehensions\"]\n",
    "print(len_list)"
   ]
  },
  {
   "cell_type": "code",
   "execution_count": null,
   "id": "b035240e-d4be-4aae-8799-6ebc237a6d7d",
   "metadata": {},
   "outputs": [],
   "source": []
  }
 ],
 "metadata": {
  "kernelspec": {
   "display_name": "Python 3 (ipykernel)",
   "language": "python",
   "name": "python3"
  },
  "language_info": {
   "codemirror_mode": {
    "name": "ipython",
    "version": 3
   },
   "file_extension": ".py",
   "mimetype": "text/x-python",
   "name": "python",
   "nbconvert_exporter": "python",
   "pygments_lexer": "ipython3",
   "version": "3.12.4"
  }
 },
 "nbformat": 4,
 "nbformat_minor": 5
}

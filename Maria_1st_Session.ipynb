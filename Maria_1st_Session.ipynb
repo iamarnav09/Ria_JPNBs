{
 "cells": [
  {
   "cell_type": "code",
   "execution_count": 6,
   "id": "692fd4a1",
   "metadata": {},
   "outputs": [
    {
     "name": "stdout",
     "output_type": "stream",
     "text": [
      "Hello\n"
     ]
    }
   ],
   "source": [
    "print(\"Hello\")"
   ]
  },
  {
   "cell_type": "code",
   "execution_count": 7,
   "id": "7c901040",
   "metadata": {},
   "outputs": [
    {
     "name": "stdout",
     "output_type": "stream",
     "text": [
      "I am all good\n"
     ]
    }
   ],
   "source": [
    "print(\"I am all good\")"
   ]
  },
  {
   "cell_type": "code",
   "execution_count": null,
   "id": "316e217c",
   "metadata": {},
   "outputs": [],
   "source": []
  },
  {
   "cell_type": "code",
   "execution_count": 8,
   "id": "607cdb6b",
   "metadata": {},
   "outputs": [
    {
     "name": "stdout",
     "output_type": "stream",
     "text": [
      "I am all good\n"
     ]
    }
   ],
   "source": [
    "print(\"I am all good\")"
   ]
  },
  {
   "cell_type": "markdown",
   "id": "64e1eb64",
   "metadata": {},
   "source": [
    "# Operators in Python: - "
   ]
  },
  {
   "cell_type": "markdown",
   "id": "01dcf112",
   "metadata": {},
   "source": [
    "## Arithmetic Operators in Python"
   ]
  },
  {
   "cell_type": "code",
   "execution_count": 1,
   "id": "3f8579be",
   "metadata": {},
   "outputs": [
    {
     "data": {
      "text/plain": [
       "5"
      ]
     },
     "execution_count": 1,
     "metadata": {},
     "output_type": "execute_result"
    }
   ],
   "source": [
    "#Additive Operator: - \n",
    "2+3"
   ]
  },
  {
   "cell_type": "code",
   "execution_count": 2,
   "id": "0895460d",
   "metadata": {},
   "outputs": [
    {
     "data": {
      "text/plain": [
       "12"
      ]
     },
     "execution_count": 2,
     "metadata": {},
     "output_type": "execute_result"
    }
   ],
   "source": [
    "4+8"
   ]
  },
  {
   "cell_type": "code",
   "execution_count": 3,
   "id": "0d7bdd63",
   "metadata": {},
   "outputs": [
    {
     "data": {
      "text/plain": [
       "7"
      ]
     },
     "execution_count": 3,
     "metadata": {},
     "output_type": "execute_result"
    }
   ],
   "source": [
    "1+6"
   ]
  },
  {
   "cell_type": "code",
   "execution_count": 4,
   "id": "5fe79acc",
   "metadata": {},
   "outputs": [
    {
     "data": {
      "text/plain": [
       "24"
      ]
     },
     "execution_count": 4,
     "metadata": {},
     "output_type": "execute_result"
    }
   ],
   "source": [
    "#Multiplicative Operator: - \n",
    "3*8"
   ]
  },
  {
   "cell_type": "code",
   "execution_count": 5,
   "id": "f2b6e118",
   "metadata": {},
   "outputs": [
    {
     "data": {
      "text/plain": [
       "16"
      ]
     },
     "execution_count": 5,
     "metadata": {},
     "output_type": "execute_result"
    }
   ],
   "source": [
    "4*4"
   ]
  },
  {
   "cell_type": "code",
   "execution_count": 6,
   "id": "65e11dda",
   "metadata": {},
   "outputs": [
    {
     "data": {
      "text/plain": [
       "10.0"
      ]
     },
     "execution_count": 6,
     "metadata": {},
     "output_type": "execute_result"
    }
   ],
   "source": [
    "#Divisive Operator:-\n",
    "50/5"
   ]
  },
  {
   "cell_type": "code",
   "execution_count": 7,
   "id": "65bd2208",
   "metadata": {},
   "outputs": [
    {
     "data": {
      "text/plain": [
       "4.0"
      ]
     },
     "execution_count": 7,
     "metadata": {},
     "output_type": "execute_result"
    }
   ],
   "source": [
    "68/17"
   ]
  },
  {
   "cell_type": "code",
   "execution_count": 8,
   "id": "b5fbd5ab",
   "metadata": {},
   "outputs": [
    {
     "data": {
      "text/plain": [
       "89.0"
      ]
     },
     "execution_count": 8,
     "metadata": {},
     "output_type": "execute_result"
    }
   ],
   "source": [
    "445/5"
   ]
  },
  {
   "cell_type": "code",
   "execution_count": 10,
   "id": "5c26f1cd",
   "metadata": {},
   "outputs": [
    {
     "data": {
      "text/plain": [
       "51"
      ]
     },
     "execution_count": 10,
     "metadata": {},
     "output_type": "execute_result"
    }
   ],
   "source": [
    "#Subtractive operator:-\n",
    "56-5"
   ]
  },
  {
   "cell_type": "code",
   "execution_count": 11,
   "id": "703afcb5",
   "metadata": {},
   "outputs": [
    {
     "data": {
      "text/plain": [
       "70"
      ]
     },
     "execution_count": 11,
     "metadata": {},
     "output_type": "execute_result"
    }
   ],
   "source": [
    "78-8"
   ]
  },
  {
   "cell_type": "code",
   "execution_count": 13,
   "id": "c0af77d2",
   "metadata": {},
   "outputs": [
    {
     "data": {
      "text/plain": [
       "6"
      ]
     },
     "execution_count": 13,
     "metadata": {},
     "output_type": "execute_result"
    }
   ],
   "source": [
    "#Quotient:-\n",
    "78//13"
   ]
  },
  {
   "cell_type": "code",
   "execution_count": 14,
   "id": "1c52c641",
   "metadata": {},
   "outputs": [
    {
     "data": {
      "text/plain": [
       "25"
      ]
     },
     "execution_count": 14,
     "metadata": {},
     "output_type": "execute_result"
    }
   ],
   "source": [
    "125//5"
   ]
  },
  {
   "cell_type": "code",
   "execution_count": 15,
   "id": "36b9ad17",
   "metadata": {},
   "outputs": [
    {
     "data": {
      "text/plain": [
       "9"
      ]
     },
     "execution_count": 15,
     "metadata": {},
     "output_type": "execute_result"
    }
   ],
   "source": [
    "81//9"
   ]
  },
  {
   "cell_type": "code",
   "execution_count": 16,
   "id": "aed6ac9b",
   "metadata": {},
   "outputs": [
    {
     "data": {
      "text/plain": [
       "0"
      ]
     },
     "execution_count": 16,
     "metadata": {},
     "output_type": "execute_result"
    }
   ],
   "source": [
    "#Remainder Operator:-\n",
    "45%5"
   ]
  },
  {
   "cell_type": "code",
   "execution_count": 17,
   "id": "d1ca7e22",
   "metadata": {},
   "outputs": [
    {
     "data": {
      "text/plain": [
       "1"
      ]
     },
     "execution_count": 17,
     "metadata": {},
     "output_type": "execute_result"
    }
   ],
   "source": [
    "67%6"
   ]
  },
  {
   "cell_type": "markdown",
   "id": "1ba27a5f",
   "metadata": {},
   "source": [
    "## Equality and Inequality Operators: - "
   ]
  },
  {
   "cell_type": "code",
   "execution_count": 20,
   "id": "e32a5646",
   "metadata": {},
   "outputs": [
    {
     "data": {
      "text/plain": [
       "True"
      ]
     },
     "execution_count": 20,
     "metadata": {},
     "output_type": "execute_result"
    }
   ],
   "source": [
    "#Equality Condition Operator: -\n",
    "45 == 45"
   ]
  },
  {
   "cell_type": "code",
   "execution_count": 21,
   "id": "ada29901",
   "metadata": {},
   "outputs": [
    {
     "data": {
      "text/plain": [
       "False"
      ]
     },
     "execution_count": 21,
     "metadata": {},
     "output_type": "execute_result"
    }
   ],
   "source": [
    "34 == 12"
   ]
  },
  {
   "cell_type": "code",
   "execution_count": 25,
   "id": "7c96d2dc",
   "metadata": {},
   "outputs": [
    {
     "data": {
      "text/plain": [
       "True"
      ]
     },
     "execution_count": 25,
     "metadata": {},
     "output_type": "execute_result"
    }
   ],
   "source": [
    "#Inequality Condition Operator: - \n",
    "34!=67"
   ]
  },
  {
   "cell_type": "code",
   "execution_count": 26,
   "id": "a702b826",
   "metadata": {},
   "outputs": [
    {
     "data": {
      "text/plain": [
       "True"
      ]
     },
     "execution_count": 26,
     "metadata": {},
     "output_type": "execute_result"
    }
   ],
   "source": [
    "45!=78"
   ]
  },
  {
   "cell_type": "code",
   "execution_count": 27,
   "id": "d9126fea",
   "metadata": {},
   "outputs": [
    {
     "data": {
      "text/plain": [
       "False"
      ]
     },
     "execution_count": 27,
     "metadata": {},
     "output_type": "execute_result"
    }
   ],
   "source": [
    "45!=45"
   ]
  },
  {
   "cell_type": "code",
   "execution_count": 33,
   "id": "30b901f6",
   "metadata": {},
   "outputs": [
    {
     "data": {
      "text/plain": [
       "False"
      ]
     },
     "execution_count": 33,
     "metadata": {},
     "output_type": "execute_result"
    }
   ],
   "source": [
    "#Greater Than | Greater Than or Equal To: - \n",
    "34>56"
   ]
  },
  {
   "cell_type": "code",
   "execution_count": 32,
   "id": "e4c1e395",
   "metadata": {},
   "outputs": [
    {
     "data": {
      "text/plain": [
       "False"
      ]
     },
     "execution_count": 32,
     "metadata": {},
     "output_type": "execute_result"
    }
   ],
   "source": [
    "34>=67"
   ]
  },
  {
   "cell_type": "code",
   "execution_count": 36,
   "id": "59ed9528",
   "metadata": {},
   "outputs": [
    {
     "data": {
      "text/plain": [
       "True"
      ]
     },
     "execution_count": 36,
     "metadata": {},
     "output_type": "execute_result"
    }
   ],
   "source": [
    "#Smaller Than | Smaller Than or Equal To: - \n",
    "45<56"
   ]
  },
  {
   "cell_type": "code",
   "execution_count": 34,
   "id": "0966f4e8",
   "metadata": {},
   "outputs": [
    {
     "data": {
      "text/plain": [
       "True"
      ]
     },
     "execution_count": 34,
     "metadata": {},
     "output_type": "execute_result"
    }
   ],
   "source": [
    "45<=70"
   ]
  },
  {
   "cell_type": "raw",
   "id": "0f52a2ad",
   "metadata": {},
   "source": [
    "• Assign value of 12 to a new variable 'age' and \"John\" to 'name'. \n",
    "• Save the type of age using type(age) and save it to a variable type_age \n",
    "• Similarly save the type of name to a variable type_name \n",
    "• Print out the variables type_age and type_name using the print() function "
   ]
  },
  {
   "cell_type": "code",
   "execution_count": 39,
   "id": "0b3ae987",
   "metadata": {},
   "outputs": [],
   "source": [
    "age=12\n",
    "name='John'\n",
    "type_age=type(age)\n",
    "type_name = type(name)"
   ]
  },
  {
   "cell_type": "code",
   "execution_count": 41,
   "id": "175288fe",
   "metadata": {},
   "outputs": [
    {
     "name": "stdout",
     "output_type": "stream",
     "text": [
      "<class 'str'>\n",
      "<class 'int'>\n"
     ]
    }
   ],
   "source": [
    "print(type_name)\n",
    "print(type_age)"
   ]
  },
  {
   "cell_type": "code",
   "execution_count": 42,
   "id": "a29e6e43",
   "metadata": {},
   "outputs": [
    {
     "name": "stdout",
     "output_type": "stream",
     "text": [
      "The age is:  12\n"
     ]
    }
   ],
   "source": [
    "print(\"The age is: \", age)"
   ]
  },
  {
   "cell_type": "code",
   "execution_count": 44,
   "id": "f9dd0446",
   "metadata": {},
   "outputs": [
    {
     "name": "stdout",
     "output_type": "stream",
     "text": [
      "The name is:  John\n"
     ]
    }
   ],
   "source": [
    "print(\"The name is: \", name)"
   ]
  },
  {
   "cell_type": "markdown",
   "id": "1488991e",
   "metadata": {},
   "source": [
    "### Logical Operators in Python:-"
   ]
  },
  {
   "cell_type": "code",
   "execution_count": 1,
   "id": "73451bfc",
   "metadata": {},
   "outputs": [],
   "source": [
    "height = 181\n",
    "weight = 78"
   ]
  },
  {
   "cell_type": "code",
   "execution_count": 3,
   "id": "b5620cd0",
   "metadata": {},
   "outputs": [
    {
     "data": {
      "text/plain": [
       "True"
      ]
     },
     "execution_count": 3,
     "metadata": {},
     "output_type": "execute_result"
    }
   ],
   "source": [
    "#AND Operator in Python: - \n",
    "#Operand 1 and Operand 2\n",
    "height>175 and weight>76"
   ]
  },
  {
   "cell_type": "code",
   "execution_count": 4,
   "id": "1a5bdaae",
   "metadata": {},
   "outputs": [
    {
     "data": {
      "text/plain": [
       "True"
      ]
     },
     "execution_count": 4,
     "metadata": {},
     "output_type": "execute_result"
    }
   ],
   "source": [
    "#OR Operator in Python: -\n",
    "height>175 or weight>79"
   ]
  },
  {
   "cell_type": "markdown",
   "id": "8249169d",
   "metadata": {},
   "source": [
    "### Assignment Operators: -"
   ]
  },
  {
   "cell_type": "code",
   "execution_count": 8,
   "id": "9ad526ed",
   "metadata": {},
   "outputs": [],
   "source": [
    "maria = 5\n",
    "maria = maria + 4"
   ]
  },
  {
   "cell_type": "code",
   "execution_count": 9,
   "id": "b069f32f",
   "metadata": {},
   "outputs": [
    {
     "data": {
      "text/plain": [
       "9"
      ]
     },
     "execution_count": 9,
     "metadata": {},
     "output_type": "execute_result"
    }
   ],
   "source": [
    "maria"
   ]
  },
  {
   "cell_type": "code",
   "execution_count": 13,
   "id": "f1baebd5",
   "metadata": {},
   "outputs": [
    {
     "data": {
      "text/plain": [
       "0.6666666666666666"
      ]
     },
     "execution_count": 13,
     "metadata": {},
     "output_type": "execute_result"
    }
   ],
   "source": [
    "maria_1 = 4\n",
    "maria_1 /= 6\n",
    "maria_1"
   ]
  },
  {
   "cell_type": "markdown",
   "id": "7e35cbda",
   "metadata": {},
   "source": [
    "### Is/Is Not Operator: -"
   ]
  },
  {
   "cell_type": "code",
   "execution_count": 14,
   "id": "5cfea573",
   "metadata": {},
   "outputs": [],
   "source": [
    "ert = 45"
   ]
  },
  {
   "cell_type": "code",
   "execution_count": 16,
   "id": "2fe9d259",
   "metadata": {},
   "outputs": [
    {
     "name": "stderr",
     "output_type": "stream",
     "text": [
      "<>:1: SyntaxWarning: \"is\" with a literal. Did you mean \"==\"?\n",
      "<>:1: SyntaxWarning: \"is\" with a literal. Did you mean \"==\"?\n",
      "<ipython-input-16-2d3b3b0bc9ce>:1: SyntaxWarning: \"is\" with a literal. Did you mean \"==\"?\n",
      "  ert is 45\n"
     ]
    },
    {
     "data": {
      "text/plain": [
       "True"
      ]
     },
     "execution_count": 16,
     "metadata": {},
     "output_type": "execute_result"
    }
   ],
   "source": [
    "ert is 45"
   ]
  },
  {
   "cell_type": "code",
   "execution_count": 17,
   "id": "5f89b03f",
   "metadata": {},
   "outputs": [],
   "source": [
    "tyu = 78"
   ]
  },
  {
   "cell_type": "code",
   "execution_count": 18,
   "id": "33d2853f",
   "metadata": {},
   "outputs": [
    {
     "name": "stderr",
     "output_type": "stream",
     "text": [
      "<>:1: SyntaxWarning: \"is not\" with a literal. Did you mean \"!=\"?\n",
      "<>:1: SyntaxWarning: \"is not\" with a literal. Did you mean \"!=\"?\n",
      "<ipython-input-18-5ccee597a03f>:1: SyntaxWarning: \"is not\" with a literal. Did you mean \"!=\"?\n",
      "  tyu is not 77\n"
     ]
    },
    {
     "data": {
      "text/plain": [
       "True"
      ]
     },
     "execution_count": 18,
     "metadata": {},
     "output_type": "execute_result"
    }
   ],
   "source": [
    "tyu is not 77"
   ]
  },
  {
   "cell_type": "markdown",
   "id": "4b6450e1",
   "metadata": {},
   "source": [
    "### Not/Not In Operator: -"
   ]
  },
  {
   "cell_type": "code",
   "execution_count": 19,
   "id": "4bb649c9",
   "metadata": {},
   "outputs": [],
   "source": [
    "series = [1,2,3,4,5]"
   ]
  },
  {
   "cell_type": "code",
   "execution_count": 20,
   "id": "af44fe49",
   "metadata": {},
   "outputs": [
    {
     "data": {
      "text/plain": [
       "False"
      ]
     },
     "execution_count": 20,
     "metadata": {},
     "output_type": "execute_result"
    }
   ],
   "source": [
    "6 in series"
   ]
  },
  {
   "cell_type": "code",
   "execution_count": 21,
   "id": "420a9c4d",
   "metadata": {},
   "outputs": [
    {
     "data": {
      "text/plain": [
       "True"
      ]
     },
     "execution_count": 21,
     "metadata": {},
     "output_type": "execute_result"
    }
   ],
   "source": [
    "6 not in series"
   ]
  },
  {
   "cell_type": "code",
   "execution_count": null,
   "id": "9f310eba",
   "metadata": {},
   "outputs": [],
   "source": []
  }
 ],
 "metadata": {
  "kernelspec": {
   "display_name": "Python 3",
   "language": "python",
   "name": "python3"
  },
  "language_info": {
   "codemirror_mode": {
    "name": "ipython",
    "version": 3
   },
   "file_extension": ".py",
   "mimetype": "text/x-python",
   "name": "python",
   "nbconvert_exporter": "python",
   "pygments_lexer": "ipython3",
   "version": "3.8.8"
  }
 },
 "nbformat": 4,
 "nbformat_minor": 5
}

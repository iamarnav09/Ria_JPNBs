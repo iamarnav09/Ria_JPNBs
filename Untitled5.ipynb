{
 "cells": [
  {
   "cell_type": "code",
   "execution_count": 3,
   "id": "95b28102-987b-42dd-ae12-bf48ae03e81b",
   "metadata": {},
   "outputs": [],
   "source": [
    "# Windows - Disk Operating System (DOS)\n",
    "# this OS library is being made within your Python 3.9 and is also helpful for delivering the tasks related to\n",
    "# folders and file management in your system.\n",
    "import os"
   ]
  },
  {
   "cell_type": "code",
   "execution_count": 9,
   "id": "0435af5c-102d-4693-905f-bfe7c9980ab4",
   "metadata": {},
   "outputs": [
    {
     "data": {
      "text/plain": [
       "'C:\\\\Users\\\\ADMIN1'"
      ]
     },
     "execution_count": 9,
     "metadata": {},
     "output_type": "execute_result"
    }
   ],
   "source": [
    "#this works totally in similar way of pwd command: -\n",
    "os.getcwd()"
   ]
  },
  {
   "cell_type": "code",
   "execution_count": 11,
   "id": "1379fc60-a98a-4808-89ec-3844abf0bdb8",
   "metadata": {},
   "outputs": [],
   "source": [
    "#mk: - make and dir: - directory\n",
    "os.mkdir('Houston')"
   ]
  },
  {
   "cell_type": "code",
   "execution_count": 13,
   "id": "c21161de-8ba9-4cbf-9c0e-b34ac70221d6",
   "metadata": {},
   "outputs": [],
   "source": [
    "import pandas as pd"
   ]
  },
  {
   "cell_type": "code",
   "execution_count": 15,
   "id": "23614c04-8542-4603-96a6-ea527d0a4815",
   "metadata": {},
   "outputs": [],
   "source": [
    "df= pd.read_csv(r\"C:\\Users\\ADMIN1\\Documents\\cities.csv\")"
   ]
  },
  {
   "cell_type": "code",
   "execution_count": 19,
   "id": "f78a66bb-3628-4a51-9e1d-aeea461ba859",
   "metadata": {},
   "outputs": [],
   "source": [
    "#How can we make folders from an excel sheet having names of 5 famous cities of U.S.A"
   ]
  },
  {
   "cell_type": "code",
   "execution_count": 21,
   "id": "ac442286-ea19-4d93-8cbd-25f525ad6579",
   "metadata": {},
   "outputs": [
    {
     "data": {
      "text/plain": [
       "'C:\\\\Users\\\\ADMIN1'"
      ]
     },
     "execution_count": 21,
     "metadata": {},
     "output_type": "execute_result"
    }
   ],
   "source": [
    "pwd"
   ]
  },
  {
   "cell_type": "code",
   "execution_count": 23,
   "id": "6a732a5a-fc6f-4b95-9f61-f1711b150c0a",
   "metadata": {},
   "outputs": [],
   "source": [
    "#ch: - change & dir: - directory\n",
    "os.chdir('Houston')"
   ]
  },
  {
   "cell_type": "code",
   "execution_count": 25,
   "id": "865b995b-1646-4540-a881-859877381b8a",
   "metadata": {},
   "outputs": [
    {
     "data": {
      "text/plain": [
       "'C:\\\\Users\\\\ADMIN1\\\\Houston'"
      ]
     },
     "execution_count": 25,
     "metadata": {},
     "output_type": "execute_result"
    }
   ],
   "source": [
    "pwd"
   ]
  },
  {
   "cell_type": "code",
   "execution_count": 27,
   "id": "fc021d38-c44f-4302-b03f-d75c67f6d087",
   "metadata": {},
   "outputs": [],
   "source": [
    "#United States?\n",
    "os.mkdir('United States')"
   ]
  },
  {
   "cell_type": "code",
   "execution_count": 29,
   "id": "993a8373-67e7-43d1-82c5-97a456fd1586",
   "metadata": {},
   "outputs": [
    {
     "data": {
      "text/plain": [
       "'C:\\\\Users\\\\ADMIN1\\\\Houston'"
      ]
     },
     "execution_count": 29,
     "metadata": {},
     "output_type": "execute_result"
    }
   ],
   "source": [
    "pwd"
   ]
  },
  {
   "cell_type": "code",
   "execution_count": 31,
   "id": "80394b02-36c4-47df-90cc-509f2219bc01",
   "metadata": {},
   "outputs": [],
   "source": [
    "os.chdir('United States')"
   ]
  },
  {
   "cell_type": "code",
   "execution_count": 33,
   "id": "860a3034-1839-46ac-8406-5f486813c307",
   "metadata": {},
   "outputs": [
    {
     "data": {
      "text/plain": [
       "'C:\\\\Users\\\\ADMIN1\\\\Houston\\\\United States'"
      ]
     },
     "execution_count": 33,
     "metadata": {},
     "output_type": "execute_result"
    }
   ],
   "source": [
    "pwd"
   ]
  },
  {
   "cell_type": "code",
   "execution_count": 35,
   "id": "b7753838-ceaa-479e-b8b6-de57206e0e3e",
   "metadata": {},
   "outputs": [],
   "source": [
    "folder_path = os.getcwd()"
   ]
  },
  {
   "cell_type": "code",
   "execution_count": 37,
   "id": "3b34a201-8096-43eb-bfb0-f9390fa0936b",
   "metadata": {},
   "outputs": [
    {
     "data": {
      "text/plain": [
       "'C:\\\\Users\\\\ADMIN1\\\\Houston\\\\United States'"
      ]
     },
     "execution_count": 37,
     "metadata": {},
     "output_type": "execute_result"
    }
   ],
   "source": [
    "folder_path"
   ]
  },
  {
   "cell_type": "code",
   "execution_count": null,
   "id": "c8bb2b45-30e4-45c2-af10-50ec3b851733",
   "metadata": {},
   "outputs": [],
   "source": []
  }
 ],
 "metadata": {
  "kernelspec": {
   "display_name": "Python 3 (ipykernel)",
   "language": "python",
   "name": "python3"
  },
  "language_info": {
   "codemirror_mode": {
    "name": "ipython",
    "version": 3
   },
   "file_extension": ".py",
   "mimetype": "text/x-python",
   "name": "python",
   "nbconvert_exporter": "python",
   "pygments_lexer": "ipython3",
   "version": "3.12.4"
  }
 },
 "nbformat": 4,
 "nbformat_minor": 5
}

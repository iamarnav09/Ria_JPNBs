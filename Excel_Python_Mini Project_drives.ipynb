{
 "cells": [
  {
   "cell_type": "markdown",
   "id": "8a2a5eb8",
   "metadata": {},
   "source": [
    "## Folders Creation (One time Code)"
   ]
  },
  {
   "cell_type": "code",
   "execution_count": 1,
   "id": "2d5e380c",
   "metadata": {},
   "outputs": [],
   "source": [
    "import os"
   ]
  },
  {
   "cell_type": "code",
   "execution_count": 2,
   "id": "ba3a611f",
   "metadata": {},
   "outputs": [],
   "source": [
    "#Created project folder\n",
    "os.mkdir(\"Python_Project_1\")"
   ]
  },
  {
   "cell_type": "code",
   "execution_count": 3,
   "id": "0e36c624",
   "metadata": {},
   "outputs": [],
   "source": [
    "#Changed the host drive to project folder\n",
    "os.chdir(\"Python_Project_1\")"
   ]
  },
  {
   "cell_type": "code",
   "execution_count": 4,
   "id": "01b45ce1",
   "metadata": {},
   "outputs": [
    {
     "data": {
      "text/plain": [
       "'/Users/arnav/Python_Project_1'"
      ]
     },
     "execution_count": 4,
     "metadata": {},
     "output_type": "execute_result"
    }
   ],
   "source": [
    "#checked the details\n",
    "os.getcwd()"
   ]
  },
  {
   "cell_type": "code",
   "execution_count": 5,
   "id": "db40b320",
   "metadata": {},
   "outputs": [],
   "source": [
    "#within the project folder, we have created a sub-folder No. 1\n",
    "os.mkdir(\"Source Directory\")"
   ]
  },
  {
   "cell_type": "code",
   "execution_count": 6,
   "id": "acf20bed",
   "metadata": {},
   "outputs": [],
   "source": [
    "#within the project folder, we have created a sub-folder No. 2\n",
    "os.mkdir(\"Destination Directory\")"
   ]
  },
  {
   "cell_type": "markdown",
   "id": "131f1f5f",
   "metadata": {},
   "source": [
    "In the every subfolder, we now have to create 2 sub-folders in each i.e ML & Non-ML Datasets. That means, Source & Destination directories shall have ML & Non-ML Datasets sub-drives respectively."
   ]
  },
  {
   "cell_type": "code",
   "execution_count": 7,
   "id": "183d0b3d",
   "metadata": {},
   "outputs": [
    {
     "data": {
      "text/plain": [
       "'/Users/arnav/Python_Project_1'"
      ]
     },
     "execution_count": 7,
     "metadata": {},
     "output_type": "execute_result"
    }
   ],
   "source": [
    "pwd"
   ]
  },
  {
   "cell_type": "code",
   "execution_count": 21,
   "id": "a16c506b",
   "metadata": {},
   "outputs": [
    {
     "name": "stdout",
     "output_type": "stream",
     "text": [
      "['/Users/arnav/Python_Project_1/Data_Files', '/Users/arnav/Python_Project_1/Destination Directory', '/Users/arnav/Python_Project_1/Source Directory']\n"
     ]
    }
   ],
   "source": [
    "#We are getting the details of sublfolders created just now!\n",
    "folder_path = '/Users/arnav/Python_Project_1'\n",
    "subfolders = [f.path for f in os.scandir(folder_path) if f.is_dir()] #list comprehension\n",
    "print(subfolders)"
   ]
  },
  {
   "cell_type": "code",
   "execution_count": 9,
   "id": "516de017",
   "metadata": {},
   "outputs": [],
   "source": [
    "#Now, we are starting to work in the Source Directory\n",
    "os.chdir(\"Source Directory\")"
   ]
  },
  {
   "cell_type": "code",
   "execution_count": 10,
   "id": "68ec1466",
   "metadata": {},
   "outputs": [
    {
     "data": {
      "text/plain": [
       "'/Users/arnav/Python_Project_1/Source Directory'"
      ]
     },
     "execution_count": 10,
     "metadata": {},
     "output_type": "execute_result"
    }
   ],
   "source": [
    "pwd"
   ]
  },
  {
   "cell_type": "code",
   "execution_count": 11,
   "id": "0b1ed6a2",
   "metadata": {},
   "outputs": [],
   "source": [
    "#To create 2 sub-folders in Source Directory\n",
    "os.mkdir(\"ML Datasets\")\n",
    "os.mkdir(\"Non-ML Datasets\")"
   ]
  },
  {
   "cell_type": "code",
   "execution_count": 12,
   "id": "e512dffa",
   "metadata": {},
   "outputs": [],
   "source": [
    "#To move back from Source directory to my host directory\n",
    "parent=os.path.dirname(\"/Users/arnav/Python_Project_1\")"
   ]
  },
  {
   "cell_type": "code",
   "execution_count": 13,
   "id": "fc7b3dfa",
   "metadata": {},
   "outputs": [],
   "source": [
    "os.chdir(parent+\"/Python_Project_1\")"
   ]
  },
  {
   "cell_type": "code",
   "execution_count": 14,
   "id": "adac5471",
   "metadata": {},
   "outputs": [],
   "source": [
    "os.chdir(\"Destination Directory\")"
   ]
  },
  {
   "cell_type": "code",
   "execution_count": 15,
   "id": "78bcd379",
   "metadata": {},
   "outputs": [
    {
     "data": {
      "text/plain": [
       "'/Users/arnav/Python_Project_1/Destination Directory'"
      ]
     },
     "execution_count": 15,
     "metadata": {},
     "output_type": "execute_result"
    }
   ],
   "source": [
    "pwd"
   ]
  },
  {
   "cell_type": "code",
   "execution_count": 16,
   "id": "beff43d2",
   "metadata": {},
   "outputs": [],
   "source": [
    "#To create 2 sub-folders in Destination Directory\n",
    "os.mkdir(\"ML Datasets\")\n",
    "os.mkdir(\"Non-ML Datasets\")"
   ]
  },
  {
   "cell_type": "code",
   "execution_count": 17,
   "id": "460e55fd",
   "metadata": {},
   "outputs": [],
   "source": [
    "#Now to move out from the Destination Directory as well\n",
    "os.chdir(parent+\"/Python_Project_1\")"
   ]
  },
  {
   "cell_type": "code",
   "execution_count": 18,
   "id": "9ab45545",
   "metadata": {},
   "outputs": [
    {
     "data": {
      "text/plain": [
       "'/Users/arnav/Python_Project_1'"
      ]
     },
     "execution_count": 18,
     "metadata": {},
     "output_type": "execute_result"
    }
   ],
   "source": [
    "pwd"
   ]
  },
  {
   "cell_type": "code",
   "execution_count": 20,
   "id": "e702e164",
   "metadata": {},
   "outputs": [],
   "source": [
    "os.mkdir(\"Data_Files\")"
   ]
  },
  {
   "cell_type": "code",
   "execution_count": null,
   "id": "9b020d46",
   "metadata": {},
   "outputs": [],
   "source": []
  }
 ],
 "metadata": {
  "kernelspec": {
   "display_name": "Python 3",
   "language": "python",
   "name": "python3"
  },
  "language_info": {
   "codemirror_mode": {
    "name": "ipython",
    "version": 3
   },
   "file_extension": ".py",
   "mimetype": "text/x-python",
   "name": "python",
   "nbconvert_exporter": "python",
   "pygments_lexer": "ipython3",
   "version": "3.8.8"
  }
 },
 "nbformat": 4,
 "nbformat_minor": 5
}

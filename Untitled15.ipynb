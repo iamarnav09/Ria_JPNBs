{
 "cells": [
  {
   "cell_type": "code",
   "execution_count": 1,
   "id": "0ae57855",
   "metadata": {},
   "outputs": [],
   "source": [
    "# os: - A library that can help us in python to execute certain MS-DOS based commands.\n",
    "import os"
   ]
  },
  {
   "cell_type": "code",
   "execution_count": 2,
   "id": "e76b25f2",
   "metadata": {},
   "outputs": [
    {
     "data": {
      "text/plain": [
       "'/Users/arnav/Documents/GitHub/Ria_JPNBs'"
      ]
     },
     "execution_count": 2,
     "metadata": {},
     "output_type": "execute_result"
    }
   ],
   "source": [
    "#Root directory path:-\n",
    "os.getcwd()"
   ]
  },
  {
   "cell_type": "code",
   "execution_count": 3,
   "id": "5a49d594",
   "metadata": {},
   "outputs": [],
   "source": [
    "#Want to make a new drive/folder in the root directory: - \n",
    "os.mkdir(\"Alpha\")"
   ]
  },
  {
   "cell_type": "code",
   "execution_count": 4,
   "id": "c49b9dcb",
   "metadata": {},
   "outputs": [],
   "source": [
    "#Want to change the working drive from the existing one:-\n",
    "os.chdir(\"Alpha\")"
   ]
  },
  {
   "cell_type": "code",
   "execution_count": 9,
   "id": "d05355c7",
   "metadata": {},
   "outputs": [
    {
     "data": {
      "text/plain": [
       "'/Users/arnav/Documents/GitHub'"
      ]
     },
     "execution_count": 9,
     "metadata": {},
     "output_type": "execute_result"
    }
   ],
   "source": [
    "os.getcwd()"
   ]
  },
  {
   "cell_type": "code",
   "execution_count": 6,
   "id": "4453beb8",
   "metadata": {},
   "outputs": [],
   "source": [
    "os.mkdir(\"Gamma\")"
   ]
  },
  {
   "cell_type": "code",
   "execution_count": 8,
   "id": "ae7acbaf",
   "metadata": {},
   "outputs": [],
   "source": [
    "os.chdir(\"/Users/arnav/Documents/GitHub/\")"
   ]
  },
  {
   "cell_type": "code",
   "execution_count": 10,
   "id": "7a3af014",
   "metadata": {},
   "outputs": [
    {
     "data": {
      "text/plain": [
       "'/Users/arnav/Documents/GitHub'"
      ]
     },
     "execution_count": 10,
     "metadata": {},
     "output_type": "execute_result"
    }
   ],
   "source": [
    "pwd"
   ]
  },
  {
   "cell_type": "code",
   "execution_count": null,
   "id": "c3baf5dd",
   "metadata": {},
   "outputs": [],
   "source": []
  }
 ],
 "metadata": {
  "kernelspec": {
   "display_name": "Python 3",
   "language": "python",
   "name": "python3"
  },
  "language_info": {
   "codemirror_mode": {
    "name": "ipython",
    "version": 3
   },
   "file_extension": ".py",
   "mimetype": "text/x-python",
   "name": "python",
   "nbconvert_exporter": "python",
   "pygments_lexer": "ipython3",
   "version": "3.8.8"
  }
 },
 "nbformat": 4,
 "nbformat_minor": 5
}

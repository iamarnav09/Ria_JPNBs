{
 "cells": [
  {
   "cell_type": "code",
   "execution_count": 1,
   "id": "c81d4677-9d0c-4d7d-8199-7947fdafffec",
   "metadata": {},
   "outputs": [
    {
     "data": {
      "text/plain": [
       "'C:\\\\Users\\\\ADMIN1'"
      ]
     },
     "execution_count": 1,
     "metadata": {},
     "output_type": "execute_result"
    }
   ],
   "source": [
    "pwd"
   ]
  },
  {
   "cell_type": "markdown",
   "id": "1a64448e-3725-4e6e-90e7-4c76a3c6f514",
   "metadata": {},
   "source": [
    "# Python Session 1.0"
   ]
  },
  {
   "cell_type": "markdown",
   "id": "44582a9c-4b03-4a57-b9ed-5a8bc46d9b56",
   "metadata": {},
   "source": [
    "## Python Session 1.0"
   ]
  },
  {
   "cell_type": "markdown",
   "id": "b0f5570a-29a6-44e6-95e6-ea837f628e81",
   "metadata": {},
   "source": [
    "### Python Session 1.0"
   ]
  },
  {
   "cell_type": "markdown",
   "id": "a8de53c3-49fc-4638-9ed2-205b28309e75",
   "metadata": {},
   "source": [
    "#### Library Installation"
   ]
  },
  {
   "cell_type": "code",
   "execution_count": 11,
   "id": "92208b24-34a0-48a5-a9a6-8dc25cfcc9c6",
   "metadata": {
    "scrolled": true
   },
   "outputs": [
    {
     "name": "stdout",
     "output_type": "stream",
     "text": [
      "Requirement already satisfied: pandas in c:\\users\\admin1\\anaconda3\\lib\\site-packages (2.2.2)Note: you may need to restart the kernel to use updated packages.\n",
      "\n",
      "Requirement already satisfied: numpy>=1.26.0 in c:\\users\\admin1\\anaconda3\\lib\\site-packages (from pandas) (1.26.4)\n",
      "Requirement already satisfied: python-dateutil>=2.8.2 in c:\\users\\admin1\\anaconda3\\lib\\site-packages (from pandas) (2.9.0.post0)\n",
      "Requirement already satisfied: pytz>=2020.1 in c:\\users\\admin1\\anaconda3\\lib\\site-packages (from pandas) (2024.1)\n",
      "Requirement already satisfied: tzdata>=2022.7 in c:\\users\\admin1\\anaconda3\\lib\\site-packages (from pandas) (2023.3)\n",
      "Requirement already satisfied: six>=1.5 in c:\\users\\admin1\\anaconda3\\lib\\site-packages (from python-dateutil>=2.8.2->pandas) (1.16.0)\n"
     ]
    }
   ],
   "source": [
    "pip install pandas"
   ]
  },
  {
   "cell_type": "code",
   "execution_count": 2,
   "id": "7bbb6794-d603-4773-a9ca-00d5ea8a6bff",
   "metadata": {},
   "outputs": [],
   "source": [
    "import pandas as pd"
   ]
  },
  {
   "cell_type": "code",
   "execution_count": null,
   "id": "17cd8900-5f6b-4683-92fa-41ab2924d2b7",
   "metadata": {},
   "outputs": [],
   "source": []
  }
 ],
 "metadata": {
  "kernelspec": {
   "display_name": "Python 3 (ipykernel)",
   "language": "python",
   "name": "python3"
  },
  "language_info": {
   "codemirror_mode": {
    "name": "ipython",
    "version": 3
   },
   "file_extension": ".py",
   "mimetype": "text/x-python",
   "name": "python",
   "nbconvert_exporter": "python",
   "pygments_lexer": "ipython3",
   "version": "3.12.4"
  }
 },
 "nbformat": 4,
 "nbformat_minor": 5
}
